{
  "cells": [
    {
      "cell_type": "markdown",
      "metadata": {
        "id": "view-in-github",
        "colab_type": "text"
      },
      "source": [
        "<a href=\"https://colab.research.google.com/github/HeorhiiY/cv-course/blob/main/project%5CProject0.ipynb\" target=\"_parent\"><img src=\"https://colab.research.google.com/assets/colab-badge.svg\" alt=\"Open In Colab\"/></a>"
      ]
    },
    {
      "cell_type": "code",
      "execution_count": null,
      "metadata": {
        "id": "XVUNOt2y1Xdz"
      },
      "outputs": [],
      "source": []
    },
    {
      "cell_type": "code",
      "execution_count": null,
      "metadata": {
        "id": "AgcSV3ya2lk-"
      },
      "outputs": [],
      "source": [
        "from google.colab import drive\n",
        "drive.mount('/content/drive')"
      ]
    },
    {
      "cell_type": "code",
      "execution_count": null,
      "metadata": {
        "id": "gwMCp1GXGDTO"
      },
      "outputs": [],
      "source": [
        "!ls \"/content/drive/MyDrive/Colab Notebooks/project\"\n"
      ]
    },
    {
      "cell_type": "code",
      "execution_count": null,
      "metadata": {
        "id": "FA8kTUVLGl9O"
      },
      "outputs": [],
      "source": [
        "import json\n",
        "\n",
        "# Define the file path\n",
        "geojson_file_path = '/content/drive/MyDrive/your_geojson_file.geojson'\n",
        "\n",
        "# Load and parse the GeoJSON file\n",
        "with open(geojson_file_path, 'r') as file:\n",
        "    geojson_data = json.load(file)\n",
        "\n",
        "# Print the top-level keys\n",
        "print(\"Top-level keys in the GeoJSON data:\", geojson_data.keys())\n",
        "\n",
        "# Example: Inspect the 'features' key if it exists\n",
        "if 'features' in geojson_data:\n",
        "    print(\"First feature in the GeoJSON file:\")\n",
        "    print(json.dumps(geojson_data['features'][0], indent=4))  # Pretty-print the first feature"
      ]
    },
    {
      "cell_type": "code",
      "execution_count": null,
      "metadata": {
        "colab": {
          "background_save": true
        },
        "id": "RL_Rd726HIj5",
        "outputId": "eeb09e3e-03c2-4d5d-a2fa-e252f2dec07d"
      },
      "outputs": [
        {
          "name": "stdout",
          "output_type": "stream",
          "text": [
            "Buffered data was truncated after reaching the output size limit."
          ]
        }
      ],
      "source": []
    },
    {
      "cell_type": "code",
      "execution_count": null,
      "metadata": {
        "id": "SCdIMrCKI01N"
      },
      "outputs": [],
      "source": []
    }
  ],
  "metadata": {
    "colab": {
      "provenance": [],
      "mount_file_id": "1bouhbiRicCpaJnba_1VBa8NXFZS471lJ",
      "authorship_tag": "ABX9TyMksefB+PzyovUplXT0S4WR",
      "include_colab_link": true
    },
    "kernelspec": {
      "display_name": "Python 3",
      "name": "python3"
    },
    "language_info": {
      "name": "python"
    }
  },
  "nbformat": 4,
  "nbformat_minor": 0
}