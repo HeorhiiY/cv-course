{
 "cells": [
  {
   "cell_type": "markdown",
   "metadata": {
    "colab_type": "text",
    "id": "view-in-github"
   },
   "source": [
    "<a href=\"https://colab.research.google.com/github/HeorhiiY/cv-course/blob/main/project/Project0.ipynb\" target=\"_parent\"><img src=\"https://colab.research.google.com/assets/colab-badge.svg\" alt=\"Open In Colab\"/></a>"
   ]
  },
  {
   "cell_type": "code",
   "execution_count": null,
   "metadata": {
    "id": "XVUNOt2y1Xdz"
   },
   "outputs": [],
   "source": []
  },
  {
   "cell_type": "code",
   "execution_count": null,
   "metadata": {
    "id": "AgcSV3ya2lk-"
   },
   "outputs": [],
   "source": []
  },
  {
   "cell_type": "code",
   "execution_count": 2,
   "metadata": {
    "colab": {
     "base_uri": "https://localhost:8080/"
    },
    "id": "gwMCp1GXGDTO",
    "outputId": "beeeead5-2dc4-40c9-a9d1-7be9a1e9103c"
   },
   "outputs": [],
   "source": [
    "from tqdm import tqdm\n",
    "import torch\n",
    "from ultralytics import YOLO\n",
    "import os\n",
    "# to test later functions\n",
    "import cv2\n",
    "import matplotlib.pyplot as plt\n",
    "from pathlib import Path\n",
    "import numpy as np"
   ]
  },
  {
   "cell_type": "code",
   "execution_count": 2,
   "metadata": {},
   "outputs": [],
   "source": [
    "\n",
    "def plot_image_with_bboxes(image_path, label_path):\n",
    "    \"\"\"\n",
    "    Display an image with bounding boxes drawn based on YOLO labels.\n",
    "\n",
    "    Args:\n",
    "    - image_path (str): Path to the image file.\n",
    "    - label_path (str): Path to the YOLO label file corresponding to the image.\n",
    "    \"\"\"\n",
    "    # Load the image\n",
    "    image = cv2.imread(str(image_path))\n",
    "    image = cv2.cvtColor(image, cv2.COLOR_BGR2RGB)  # Convert to RGB for matplotlib\n",
    "\n",
    "    # Get image dimensions\n",
    "    height, width, _ = image.shape\n",
    "\n",
    "    # Read YOLO label file\n",
    "    with open(label_path, 'r') as f:\n",
    "        labels = f.readlines()\n",
    "\n",
    "    # Draw bounding boxes\n",
    "    for label in labels:\n",
    "        parts = label.strip().split()\n",
    "        class_id, x_center, y_center, box_width, box_height = map(float, parts)\n",
    "\n",
    "        # Denormalize the coordinates\n",
    "        x_center *= width\n",
    "        y_center *= height\n",
    "        box_width *= width\n",
    "        box_height *= height\n",
    "\n",
    "        # Calculate top-left and bottom-right corners\n",
    "        x_min = int(x_center - box_width / 2)\n",
    "        y_min = int(y_center - box_height / 2)\n",
    "        x_max = int(x_center + box_width / 2)\n",
    "        y_max = int(y_center + box_height / 2)\n",
    "\n",
    "        # Draw the bounding box\n",
    "        color = (255, 0, 0)  # Red color for bounding boxes\n",
    "        cv2.rectangle(image, (x_min, y_min), (x_max, y_max), color, 2)\n",
    "        cv2.putText(image, f'Class {int(class_id)}', (x_min, y_min - 10),\n",
    "                    cv2.FONT_HERSHEY_SIMPLEX, 0.5, color, 2)\n",
    "\n",
    "    # Display the image\n",
    "    plt.figure(figsize=(10, 6), dpi=600)\n",
    "    plt.imshow(image)\n",
    "    # plt.axis('off')\n",
    "    plt.show()"
   ]
  },
  {
   "cell_type": "code",
   "execution_count": 3,
   "metadata": {},
   "outputs": [],
   "source": [
    "# create folders if not exist\n",
    "folder_crops = {'train': 'data/train/images/',\n",
    "                'val': 'data/val/images/'}\n",
    "\n",
    "folder_labels = {'train': 'data/train/labels/',\n",
    "                 'val': 'data/val/labels/'}\n",
    "\n",
    "for folders in [folder_crops, folder_labels]:\n",
    "    for _, folder in folders.items():\n",
    "        if not os.path.isdir(folder):\n",
    "            os.makedirs(folder)\n",
    "\n",
    "def imread(filename):\n",
    "    return cv2.cvtColor(cv2.imread(filename), cv2.COLOR_BGR2RGB)"
   ]
  },
  {
   "cell_type": "code",
   "execution_count": null,
   "metadata": {
    "id": "hL1Uqx4oWBhL"
   },
   "outputs": [],
   "source": [
    "crop_size = 512\n",
    "for idx, sample in enumerate(np.random.choice(os.listdir(folder_crops['train']), 4)):\n",
    "    \n",
    "    # Load image and corresponding labels\n",
    "    image = imread(os.path.join(folder_crops['train'], sample))\n",
    "    with open(os.path.join(folder_labels['train'], sample.replace('.tif', '.txt')), 'r') as f:\n",
    "        labels = f.readlines()\n",
    "\n",
    "    for box in labels:\n",
    "        box = np.array([d for d in box.split(' ')], dtype=np.float32)\n",
    "        \n",
    "        # Undo coordinate normalization\n",
    "        x_center = box[1] * crop_size\n",
    "        y_center = box[2] * crop_size\n",
    "\n",
    "        width = box[3] * crop_size\n",
    "        height = box[4] * crop_size\n",
    "\n",
    "        # Convert from YOLOv8 format to OpenCV rectangle format\n",
    "        x_start, y_start = int(x_center - width/2), int(y_center - height/2)\n",
    "        x_end, y_end = int(x_center + width/2), int(y_center + height/2)\n",
    "\n",
    "        cv2.rectangle(image, (x_start, y_start), (x_end, y_end), color=(0, 255, 0), thickness=2)\n",
    "\n",
    "    plt.subplot(1,4,idx+1), \n",
    "    # plt.imshow(image)"
   ]
  },
  {
   "cell_type": "code",
   "execution_count": 3,
   "metadata": {},
   "outputs": [
    {
     "name": "stdout",
     "output_type": "stream",
     "text": [
      "YOLOv8m summary: 295 layers, 25,902,640 parameters, 0 gradients, 79.3 GFLOPs\n"
     ]
    },
    {
     "data": {
      "text/plain": [
       "(295, 25902640, 0, 79.3204224)"
      ]
     },
     "execution_count": 3,
     "metadata": {},
     "output_type": "execute_result"
    }
   ],
   "source": [
    "model = YOLO(\"yolov8m.pt\")\n",
    "model.info()"
   ]
  },
  {
   "cell_type": "code",
   "execution_count": 5,
   "metadata": {},
   "outputs": [],
   "source": [
    "# Path to the folder containing the TIFF files\n",
    "folder_path = Path(\"data/train_images\")\n",
    "\n",
    "# List all .tif files in the folder (including subfolders)\n",
    "imfiles = list(folder_path.rglob(\"*.tif\"))\n",
    "# imfiles"
   ]
  },
  {
   "cell_type": "code",
   "execution_count": null,
   "metadata": {},
   "outputs": [
    {
     "name": "stdout",
     "output_type": "stream",
     "text": [
      "\n"
     ]
    }
   ],
   "source": [
    "for idx, sample in enumerate(np.random.choice(imfiles, 4)):\n",
    "    image = cv2.imread(sample)\n",
    "    # image = image[1500:, 1500:, :]\n",
    "\n",
    "    result = model.predict(image, conf=0.2)[0]\n",
    "    boxes = result.boxes.cpu().numpy().xyxy.astype(np.int16)\n",
    "\n",
    "    for box_idx, box in enumerate(boxes):\n",
    "        start, stop = box[0:2], box[2:]\n",
    "        cv2.rectangle(image, start, stop, color=(0, 255, 0), thickness=5)\n",
    "        font = cv2.FONT_HERSHEY_SIMPLEX\n",
    "        image = cv2.putText(image, result.names[result.boxes.cls[box_idx].item()], (box[0], box[1]),\n",
    "                            cv2.FONT_HERSHEY_SIMPLEX, 3, (255, 0, 0), 6, cv2.LINE_AA)\n",
    "    plt.figure(figsize=(10, 6))\n",
    "    plt.imshow(image)"
   ]
  },
  {
   "cell_type": "code",
   "execution_count": 4,
   "metadata": {},
   "outputs": [
    {
     "name": "stdout",
     "output_type": "stream",
     "text": [
      "CUDA is available. PyTorch will use the GPU.\n"
     ]
    }
   ],
   "source": [
    "\n",
    "if torch.cuda.is_available():\n",
    "    print(\"CUDA is available. PyTorch will use the GPU.\")\n",
    "else:\n",
    "    print(\"CUDA is not available. PyTorch will use the CPU.\")"
   ]
  },
  {
   "cell_type": "code",
   "execution_count": null,
   "metadata": {},
   "outputs": [],
   "source": []
  }
 ],
 "metadata": {
  "colab": {
   "authorship_tag": "ABX9TyOfYpjxMzjbyMRqMH0GRJ+i",
   "include_colab_link": true,
   "mount_file_id": "1bouhbiRicCpaJnba_1VBa8NXFZS471lJ",
   "provenance": []
  },
  "kernelspec": {
   "display_name": "Python 3 (ipykernel)",
   "language": "python",
   "name": "python3"
  },
  "language_info": {
   "codemirror_mode": {
    "name": "ipython",
    "version": 3
   },
   "file_extension": ".py",
   "mimetype": "text/x-python",
   "name": "python",
   "nbconvert_exporter": "python",
   "pygments_lexer": "ipython3",
   "version": "3.12.8"
  }
 },
 "nbformat": 4,
 "nbformat_minor": 4
}
