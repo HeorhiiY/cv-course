{
  "nbformat": 4,
  "nbformat_minor": 0,
  "metadata": {
    "colab": {
      "provenance": [],
      "mount_file_id": "1X1W4AJbyBh9E12jGFlU2KAJpsDTm_BVT",
      "authorship_tag": "ABX9TyPWJNOueOnQn/SOjk9cY+DD"
    },
    "kernelspec": {
      "name": "python3",
      "display_name": "Python 3"
    },
    "language_info": {
      "name": "python"
    }
  },
  "cells": [
    {
      "cell_type": "code",
      "execution_count": null,
      "metadata": {
        "id": "yrRTrH9vmwxO"
      },
      "outputs": [],
      "source": []
    },
    {
      "cell_type": "code",
      "source": [
        "# Display\n",
        "\n",
        "import cv2\n",
        "import matplotlib.pyplot as plt\n",
        "from pathlib import Path\n",
        "\n",
        "def plot_image_with_bboxes(image_path, label_path):\n",
        "    \"\"\"\n",
        "    Display an image with bounding boxes drawn based on YOLO labels.\n",
        "\n",
        "    Args:\n",
        "    - image_path (str): Path to the image file.\n",
        "    - label_path (str): Path to the YOLO label file corresponding to the image.\n",
        "    \"\"\"\n",
        "    # Load the image\n",
        "    image = cv2.imread(str(image_path))\n",
        "    image = cv2.cvtColor(image, cv2.COLOR_BGR2RGB)  # Convert to RGB for matplotlib\n",
        "\n",
        "    # Get image dimensions\n",
        "    height, width, _ = image.shape\n",
        "\n",
        "    # Read YOLO label file\n",
        "    with open(label_path, 'r') as f:\n",
        "        labels = f.readlines()\n",
        "\n",
        "    # Draw bounding boxes\n",
        "    for label in labels:\n",
        "        parts = label.strip().split()\n",
        "        class_id, x_center, y_center, box_width, box_height = map(float, parts)\n",
        "\n",
        "        # Denormalize the coordinates\n",
        "        x_center *= width\n",
        "        y_center *= height\n",
        "        box_width *= width\n",
        "        box_height *= height\n",
        "\n",
        "        # Calculate top-left and bottom-right corners\n",
        "        x_min = int(x_center - box_width / 2)\n",
        "        y_min = int(y_center - box_height / 2)\n",
        "        x_max = int(x_center + box_width / 2)\n",
        "        y_max = int(y_center + box_height / 2)\n",
        "\n",
        "        # Draw the bounding box\n",
        "        color = (255, 0, 0)  # Red color for bounding boxes\n",
        "        cv2.rectangle(image, (x_min, y_min), (x_max, y_max), color, 2)\n",
        "        cv2.putText(image, f'Class {int(class_id)}', (x_min, y_min - 10),\n",
        "                    cv2.FONT_HERSHEY_SIMPLEX, 0.5, color, 2)\n",
        "\n",
        "    # Display the image\n",
        "    plt.figure(figsize=(10, 6), dpi=600)\n",
        "    plt.imshow(image)\n",
        "    plt.axis('off')\n",
        "    plt.show()\n",
        "\n",
        "# Example usage\n",
        "image_folder = Path(\"/content/drive/MyDrive/Colab Notebooks/project/data/train_images\")\n",
        "label_folder = Path(\"/content/drive/MyDrive/Colab Notebooks/project/data/labels/train\")\n",
        "\n",
        "# Get all image and label files\n",
        "images = sorted(image_folder.glob(\"*.tif\"))\n",
        "labels = sorted(label_folder.glob(\"*.txt\"))\n",
        "\n",
        "# Display the first 5 images with bounding boxes\n",
        "for img_path, lbl_path in zip(images[:5], labels[:5]):\n",
        "    print(f\"Displaying: {img_path.name}\")\n",
        "    plot_image_with_bboxes(img_path, lbl_path)\n",
        "\n",
        "# saved on Github without output (too big pictures)"
      ],
      "metadata": {
        "id": "5Wy3momZpNPd"
      },
      "execution_count": null,
      "outputs": []
    },
    {
      "cell_type": "code",
      "source": [
        "import json\n",
        "import pandas as pd\n",
        "import tqdm\n",
        "\n",
        "# Load GeoJSON file\n",
        "geojson_file_path = '/content/drive/MyDrive/Colab Notebooks/project/data/xView_train.geojson'\n",
        "with open(geojson_file_path, 'r') as f:\n",
        "    geojson_data = json.load(f)\n",
        "\n",
        "# Extract features\n",
        "features = geojson_data['features']\n",
        "\n",
        "# Convert features to a DataFrame\n",
        "data = []\n",
        "for feature in features:\n",
        "    properties = feature['properties']\n",
        "    data.append({\n",
        "        'image_id': properties['image_id'],\n",
        "        'class_id': properties['type_id'],\n",
        "        'bounds_imcoords': properties['bounds_imcoords'],\n",
        "        'additional_metadata': properties.get('metadata_field', None)  # Replace with actual metadata fields\n",
        "    })\n",
        "\n",
        "df = pd.DataFrame(data)\n",
        "\n",
        "# Show the first few rows\n",
        "print(df.head())"
      ],
      "metadata": {
        "id": "O1pBlaFBp0Yf"
      },
      "execution_count": null,
      "outputs": []
    }
  ]
}