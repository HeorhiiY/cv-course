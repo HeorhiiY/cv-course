{
  "nbformat": 4,
  "nbformat_minor": 0,
  "metadata": {
    "colab": {
      "provenance": [],
      "mount_file_id": "1X1W4AJbyBh9E12jGFlU2KAJpsDTm_BVT",
      "authorship_tag": "ABX9TyMJW3rGprnnh97Nxj6sAjsX",
      "include_colab_link": true
    },
    "kernelspec": {
      "name": "python3",
      "display_name": "Python 3"
    },
    "language_info": {
      "name": "python"
    }
  },
  "cells": [
    {
      "cell_type": "markdown",
      "metadata": {
        "id": "view-in-github",
        "colab_type": "text"
      },
      "source": [
        "<a href=\"https://colab.research.google.com/github/HeorhiiY/cv-course/blob/main/project/Project_data_check.ipynb\" target=\"_parent\"><img src=\"https://colab.research.google.com/assets/colab-badge.svg\" alt=\"Open In Colab\"/></a>"
      ]
    },
    {
      "cell_type": "code",
      "execution_count": null,
      "metadata": {
        "id": "yrRTrH9vmwxO"
      },
      "outputs": [],
      "source": []
    },
    {
      "cell_type": "code",
      "source": [
        "# Display\n",
        "\n",
        "import cv2\n",
        "import matplotlib.pyplot as plt\n",
        "from pathlib import Path\n",
        "\n",
        "def plot_image_with_bboxes(image_path, label_path):\n",
        "    \"\"\"\n",
        "    Display an image with bounding boxes drawn based on YOLO labels.\n",
        "\n",
        "    Args:\n",
        "    - image_path (str): Path to the image file.\n",
        "    - label_path (str): Path to the YOLO label file corresponding to the image.\n",
        "    \"\"\"\n",
        "    # Load the image\n",
        "    image = cv2.imread(str(image_path))\n",
        "    image = cv2.cvtColor(image, cv2.COLOR_BGR2RGB)  # Convert to RGB for matplotlib\n",
        "\n",
        "    # Get image dimensions\n",
        "    height, width, _ = image.shape\n",
        "\n",
        "    # Read YOLO label file\n",
        "    with open(label_path, 'r') as f:\n",
        "        labels = f.readlines()\n",
        "\n",
        "    # Draw bounding boxes\n",
        "    for label in labels:\n",
        "        parts = label.strip().split()\n",
        "        class_id, x_center, y_center, box_width, box_height = map(float, parts)\n",
        "\n",
        "        # Denormalize the coordinates\n",
        "        x_center *= width\n",
        "        y_center *= height\n",
        "        box_width *= width\n",
        "        box_height *= height\n",
        "\n",
        "        # Calculate top-left and bottom-right corners\n",
        "        x_min = int(x_center - box_width / 2)\n",
        "        y_min = int(y_center - box_height / 2)\n",
        "        x_max = int(x_center + box_width / 2)\n",
        "        y_max = int(y_center + box_height / 2)\n",
        "\n",
        "        # Draw the bounding box\n",
        "        color = (255, 0, 0)  # Red color for bounding boxes\n",
        "        cv2.rectangle(image, (x_min, y_min), (x_max, y_max), color, 2)\n",
        "        cv2.putText(image, f'Class {int(class_id)}', (x_min, y_min - 10),\n",
        "                    cv2.FONT_HERSHEY_SIMPLEX, 0.5, color, 2)\n",
        "\n",
        "    # Display the image\n",
        "    plt.figure(figsize=(10, 6), dpi=600)\n",
        "    plt.imshow(image)\n",
        "    plt.axis('off')\n",
        "    plt.show()\n",
        "\n",
        "# Example usage\n",
        "image_folder = Path(\"/content/drive/MyDrive/Colab Notebooks/project/data/train_images\")\n",
        "label_folder = Path(\"/content/drive/MyDrive/Colab Notebooks/project/data/labels/train\")\n",
        "\n",
        "# Get all image and label files\n",
        "images = sorted(image_folder.glob(\"*.tif\"))\n",
        "labels = sorted(label_folder.glob(\"*.txt\"))\n",
        "\n",
        "# Display the first 5 images with bounding boxes\n",
        "for img_path, lbl_path in zip(images[:5], labels[:5]):\n",
        "    print(f\"Displaying: {img_path.name}\")\n",
        "    plot_image_with_bboxes(img_path, lbl_path)\n",
        "\n",
        "# saved on Github without output (too big pictures)"
      ],
      "metadata": {
        "id": "5Wy3momZpNPd"
      },
      "execution_count": null,
      "outputs": []
    },
    {
      "cell_type": "code",
      "source": [
        "import json\n",
        "import pandas as pd\n",
        "from tqdm import tqdm\n",
        "\n",
        "xview_class2index = [-1, -1, -1, -1, -1, -1, -1, -1, -1, -1, -1, 0, 1, 2, -1, 3, -1, 4, 5, 6, 7, 8, -1, 9, 10, 11,\n",
        "                          12, 13, 14, 15, -1, -1, 16, 17, 18, 19, 20, 21, 22, -1, 23, 24, 25, -1, 26, 27, -1, 28, -1,\n",
        "                          29, 30, 31, 32, 33, 34, 35, 36, 37, -1, 38, 39, 40, 41, 42, 43, 44, 45, -1, -1, -1, -1, 46,\n",
        "                          47, 48, 49, -1, 50, 51, -1, 52, -1, -1, -1, 53, 54, -1, 55, -1, -1, 56, -1, 57, -1, 58, 59]\n",
        "\n",
        "labels_dict = {\n",
        "    0: \"Fixed-wing Aircraft\",\n",
        "    1: \"Small Aircraft\",\n",
        "    2: \"Cargo Plane\",\n",
        "    3: \"Helicopter\",\n",
        "    4: \"Passenger Vehicle\",\n",
        "    5: \"Small Car\",\n",
        "    6: \"Bus\",\n",
        "    7: \"Pickup Truck\",\n",
        "    8: \"Utility Truck\",\n",
        "    9: \"Truck\",\n",
        "    10: \"Cargo Truck\",\n",
        "    11: \"Truck w/Box\",\n",
        "    12: \"Truck Tractor\",\n",
        "    13: \"Trailer\",\n",
        "    14: \"Truck w/Flatbed\",\n",
        "    15: \"Truck w/Liquid\",\n",
        "    16: \"Crane Truck\",\n",
        "    17: \"Railway Vehicle\",\n",
        "    18: \"Passenger Car\",\n",
        "    19: \"Cargo Car\",\n",
        "    20: \"Flat Car\",\n",
        "    21: \"Tank car\",\n",
        "    22: \"Locomotive\",\n",
        "    23: \"Maritime Vessel\",\n",
        "    24: \"Motorboat\",\n",
        "    25: \"Sailboat\",\n",
        "    26: \"Tugboat\",\n",
        "    27: \"Barge\",\n",
        "    28: \"Fishing Vessel\",\n",
        "    29: \"Ferry\",\n",
        "    30: \"Yacht\",\n",
        "    31: \"Container Ship\",\n",
        "    32: \"Oil Tanker\",\n",
        "    33: \"Engineering Vehicle\",\n",
        "    34: \"Tower crane\",\n",
        "    35: \"Container Crane\",\n",
        "    36: \"Reach Stacker\",\n",
        "    37: \"Straddle Carrier\",\n",
        "    38: \"Mobile Crane\",\n",
        "    39: \"Dump Truck\",\n",
        "    40: \"Haul Truck\",\n",
        "    41: \"Scraper/Tractor\",\n",
        "    42: \"Front loader/Bulldozer\",\n",
        "    43: \"Excavator\",\n",
        "    44: \"Cement Mixer\",\n",
        "    45: \"Ground Grader\",\n",
        "    46: \"Hut/Tent\",\n",
        "    47: \"Shed\",\n",
        "    48: \"Building\",\n",
        "    49: \"Aircraft Hangar\",\n",
        "    50: \"Damaged Building\",\n",
        "    51: \"Facility\",\n",
        "    52: \"Construction Site\",\n",
        "    53: \"Vehicle Lot\",\n",
        "    54: \"Helipad\",\n",
        "    55: \"Storage Tank\",\n",
        "    56: \"Shipping container lot\",\n",
        "    57: \"Shipping Container\",\n",
        "    58: \"Pylon\",\n",
        "    59: \"Tower\"\n",
        "}\n",
        "\n",
        "\n",
        "parent_labels_dict = {\n",
        "    -1: \"None\",\n",
        "    0: \"Fixed-wing Aircraft\",\n",
        "    1: \"Passenger Vehicle\",\n",
        "    2: \"Truck\",\n",
        "    3: \"Railway Vehicle\",\n",
        "    4: \"Maritime Vessel\",\n",
        "    5: \"Engineering Vehicle\",\n",
        "    6: \"Building\"\n",
        "}\n",
        "\n",
        "def convert_child_to_parent(child_class):\n",
        "  if 52 < child_class < 59 or child_class == 3:\n",
        "    return -1\n",
        "  elif child_class < 3:\n",
        "    return 0\n",
        "  elif child_class < 6:\n",
        "    return 1\n",
        "  elif child_class < 17:\n",
        "    return 2\n",
        "  elif child_class < 23:\n",
        "    return 3\n",
        "  elif child_class < 33:\n",
        "    return 4\n",
        "  elif child_class < 48:\n",
        "    return 5\n",
        "  else:\n",
        "    return 6\n",
        "\n",
        "# Load GeoJSON file\n",
        "geojson_file_path = '/content/drive/MyDrive/Colab Notebooks/project/data/xView_train.geojson'\n",
        "with open(geojson_file_path, 'r') as f:\n",
        "    geojson_data = json.load(f)\n",
        "\n",
        "# Extract features\n",
        "features = geojson_data['features']\n",
        "\n",
        "# Convert features to a DataFrame\n",
        "data = []\n",
        "for feature in tqdm(features):\n",
        "    properties = feature['properties']\n",
        "    class_id = xview_class2index[properties['type_id']]\n",
        "    if class_id == -1:\n",
        "      print(f\"Invalid type_id{properties['type_id']}, skipped\")\n",
        "    data.append({\n",
        "        'image_id': properties['image_id'],\n",
        "        'class_id': class_id,\n",
        "        'bounds_imcoords': properties['bounds_imcoords'],\n",
        "        \"parent_class_id\": convert_child_to_parent(class_id)\n",
        "    })\n",
        "\n",
        "df = pd.DataFrame(data)\n",
        "\n",
        "# Show the first few rows\n",
        "print(df.head())"
      ],
      "metadata": {
        "colab": {
          "base_uri": "https://localhost:8080/"
        },
        "id": "O1pBlaFBp0Yf",
        "outputId": "506eea23-8d98-4d96-ab52-8bf1a72a0405"
      },
      "execution_count": 1,
      "outputs": [
        {
          "output_type": "stream",
          "name": "stderr",
          "text": [
            " 10%|█         | 62908/601937 [00:00<00:01, 316052.31it/s]"
          ]
        },
        {
          "output_type": "stream",
          "name": "stdout",
          "text": [
            "Invalid type_id75, skipped\n",
            "Invalid type_id75, skipped\n",
            "Invalid type_id75, skipped\n",
            "Invalid type_id82, skipped\n",
            "Invalid type_id75, skipped\n",
            "Invalid type_id75, skipped\n",
            "Invalid type_id75, skipped\n",
            "Invalid type_id75, skipped\n",
            "Invalid type_id75, skipped\n",
            "Invalid type_id75, skipped\n",
            "Invalid type_id75, skipped\n",
            "Invalid type_id75, skipped\n",
            "Invalid type_id75, skipped\n",
            "Invalid type_id75, skipped\n",
            "Invalid type_id75, skipped\n",
            "Invalid type_id75, skipped\n"
          ]
        },
        {
          "output_type": "stream",
          "name": "stderr",
          "text": [
            " 26%|██▌       | 157398/601937 [00:00<00:01, 298051.78it/s]"
          ]
        },
        {
          "output_type": "stream",
          "name": "stdout",
          "text": [
            "Invalid type_id75, skipped\n",
            "Invalid type_id75, skipped\n",
            "Invalid type_id82, skipped\n",
            "Invalid type_id82, skipped\n",
            "Invalid type_id75, skipped\n",
            "Invalid type_id75, skipped\n",
            "Invalid type_id75, skipped\n",
            "Invalid type_id75, skipped\n",
            "Invalid type_id75, skipped\n",
            "Invalid type_id75, skipped\n",
            "Invalid type_id75, skipped\n",
            "Invalid type_id75, skipped\n",
            "Invalid type_id75, skipped\n",
            "Invalid type_id75, skipped\n",
            "Invalid type_id75, skipped\n",
            "Invalid type_id75, skipped\n",
            "Invalid type_id75, skipped\n",
            "Invalid type_id75, skipped\n",
            "Invalid type_id75, skipped\n",
            "Invalid type_id75, skipped\n",
            "Invalid type_id75, skipped\n",
            "Invalid type_id75, skipped\n",
            "Invalid type_id75, skipped\n",
            "Invalid type_id75, skipped\n",
            "Invalid type_id75, skipped\n",
            "Invalid type_id75, skipped\n"
          ]
        },
        {
          "output_type": "stream",
          "name": "stderr",
          "text": [
            " 36%|███▋      | 219153/601937 [00:00<00:01, 303722.85it/s]"
          ]
        },
        {
          "output_type": "stream",
          "name": "stdout",
          "text": [
            "Invalid type_id82, skipped\n",
            "Invalid type_id75, skipped\n",
            "Invalid type_id75, skipped\n",
            "Invalid type_id75, skipped\n",
            "Invalid type_id75, skipped\n",
            "Invalid type_id75, skipped\n",
            "Invalid type_id82, skipped\n",
            "Invalid type_id82, skipped\n",
            "Invalid type_id82, skipped\n",
            "Invalid type_id82, skipped\n",
            "Invalid type_id82, skipped\n",
            "Invalid type_id82, skipped\n",
            "Invalid type_id82, skipped\n",
            "Invalid type_id82, skipped\n",
            "Invalid type_id82, skipped\n",
            "Invalid type_id82, skipped\n",
            "Invalid type_id82, skipped\n",
            "Invalid type_id75, skipped\n",
            "Invalid type_id82, skipped\n"
          ]
        },
        {
          "output_type": "stream",
          "name": "stderr",
          "text": [
            " 59%|█████▊    | 353634/601937 [00:01<00:00, 329928.40it/s]"
          ]
        },
        {
          "output_type": "stream",
          "name": "stdout",
          "text": [
            "Invalid type_id82, skipped\n",
            "Invalid type_id82, skipped\n"
          ]
        },
        {
          "output_type": "stream",
          "name": "stderr",
          "text": [
            " 80%|████████  | 482344/601937 [00:01<00:00, 304320.77it/s]"
          ]
        },
        {
          "output_type": "stream",
          "name": "stdout",
          "text": [
            "Invalid type_id75, skipped\n",
            "Invalid type_id75, skipped\n",
            "Invalid type_id82, skipped\n",
            "Invalid type_id82, skipped\n",
            "Invalid type_id82, skipped\n",
            "Invalid type_id75, skipped\n",
            "Invalid type_id75, skipped\n",
            "Invalid type_id82, skipped\n",
            "Invalid type_id82, skipped\n",
            "Invalid type_id82, skipped\n"
          ]
        },
        {
          "output_type": "stream",
          "name": "stderr",
          "text": [
            "100%|██████████| 601937/601937 [00:01<00:00, 331913.42it/s]"
          ]
        },
        {
          "output_type": "stream",
          "name": "stdout",
          "text": [
            "Invalid type_id82, skipped\n",
            "Invalid type_id82, skipped\n",
            "Invalid type_id82, skipped\n",
            "Invalid type_id75, skipped\n",
            "Invalid type_id82, skipped\n",
            "Invalid type_id75, skipped\n"
          ]
        },
        {
          "output_type": "stream",
          "name": "stderr",
          "text": [
            "\n"
          ]
        },
        {
          "output_type": "stream",
          "name": "stdout",
          "text": [
            "   image_id  class_id      bounds_imcoords  parent_class_id\n",
            "0  2355.tif        48  2712,1145,2746,1177                6\n",
            "1  2355.tif        48  2720,2233,2760,2288                6\n",
            "2  2355.tif        48  2687,1338,2740,1399                6\n",
            "3  2355.tif        48  2691,1201,2730,1268                6\n",
            "4  2355.tif        48    2671,838,2714,869                6\n"
          ]
        }
      ]
    },
    {
      "cell_type": "code",
      "source": [
        "print(df.memory_usage())\n"
      ],
      "metadata": {
        "colab": {
          "base_uri": "https://localhost:8080/"
        },
        "id": "FMVfHzOX1NYe",
        "outputId": "e1972da9-bb9c-458d-9690-8a76add09c6d"
      },
      "execution_count": 2,
      "outputs": [
        {
          "output_type": "stream",
          "name": "stdout",
          "text": [
            "Index                  128\n",
            "image_id           4815496\n",
            "class_id           4815496\n",
            "bounds_imcoords    4815496\n",
            "parent_class_id    4815496\n",
            "dtype: int64\n"
          ]
        }
      ]
    },
    {
      "cell_type": "code",
      "source": [
        "df.to_csv('/content/drive/MyDrive/Colab Notebooks/project/data/df.csv', index=False)"
      ],
      "metadata": {
        "id": "sGT30cua2UA2"
      },
      "execution_count": 3,
      "outputs": []
    },
    {
      "cell_type": "code",
      "source": [
        "print(len(df))"
      ],
      "metadata": {
        "colab": {
          "base_uri": "https://localhost:8080/"
        },
        "id": "R9zxbV3_2ZTL",
        "outputId": "c2f1f68d-afa1-4913-c8c1-ddc12a6a2dc2"
      },
      "execution_count": 4,
      "outputs": [
        {
          "output_type": "stream",
          "name": "stdout",
          "text": [
            "601937\n"
          ]
        }
      ]
    },
    {
      "cell_type": "code",
      "source": [
        "import matplotlib.pyplot as plt\n",
        "\n",
        "# Plotting the histogram for `class_id`\n",
        "plt.figure(figsize=(10, 6))\n",
        "df['class_id'].value_counts().sort_index().plot(kind='bar', color='skyblue')\n",
        "plt.yscale('log')\n",
        "plt.title('Histogram of Class IDs')\n",
        "plt.xlabel('Class ID')\n",
        "plt.ylabel('Frequency')\n",
        "plt.xticks(rotation=45)\n",
        "plt.show()"
      ],
      "metadata": {
        "colab": {
          "base_uri": "https://localhost:8080/",
          "height": 573
        },
        "id": "wpw3CghT2dbM",
        "outputId": "11de83f9-d2a5-431a-b6ee-810df73f898b"
      },
      "execution_count": 6,
      "outputs": [
        {
          "output_type": "display_data",
          "data": {
            "text/plain": [
              "<Figure size 1000x600 with 1 Axes>"
            ],
            "image/png": "[encoded data removed]"
          },
          "metadata": {}
        }
      ]
    },
    {
      "cell_type": "code",
      "source": [
        "import matplotlib.pyplot as plt\n",
        "\n",
        "# Plotting the histogram for `parent_class_id`\n",
        "plt.figure(figsize=(10, 6))\n",
        "ax = df['parent_class_id'].value_counts().sort_index().plot(kind='bar', color='skyblue')\n",
        "# Set the x-ticks to the labels from your dictionary\n",
        "ax.set_xticks(range(len(parent_labels_dict)))\n",
        "# ax.set_xticks(current_ticks)  # Ensure ticks are set at the correct positions\n",
        "# print(current_ticks)\n",
        "ax.set_xticklabels([parent_labels_dict.get(key) for key in parent_labels_dict], rotation=45)\n",
        "plt.yscale('log')\n",
        "plt.title('Histogram of Parent Class IDs')\n",
        "plt.xlabel('Class ID')\n",
        "plt.ylabel('Frequency')\n",
        "plt.xticks(rotation=45)\n",
        "plt.show()"
      ],
      "metadata": {
        "colab": {
          "base_uri": "https://localhost:8080/",
          "height": 657
        },
        "id": "xf_eV_IU2yI7",
        "outputId": "dc0e115c-b0a5-4bb0-cb5a-b34b02f1ea9a"
      },
      "execution_count": 14,
      "outputs": [
        {
          "output_type": "display_data",
          "data": {
            "text/plain": [
              "<Figure size 1000x600 with 1 Axes>"
            ],
            "image/png": "[encoded data removed]"
          },
          "metadata": {}
        }
      ]
    },
    {
      "cell_type": "code",
      "source": [],
      "metadata": {
        "id": "vuXt39Hm3SJ6"
      },
      "execution_count": null,
      "outputs": []
    }
  ]
}