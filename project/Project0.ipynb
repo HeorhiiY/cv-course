{
 "cells": [
  {
   "cell_type": "markdown",
   "metadata": {
    "colab_type": "text",
    "id": "view-in-github"
   },
   "source": [
    "<a href=\"https://colab.research.google.com/github/HeorhiiY/cv-course/blob/main/project/Project0.ipynb\" target=\"_parent\"><img src=\"https://colab.research.google.com/assets/colab-badge.svg\" alt=\"Open In Colab\"/></a>"
   ]
  },
  {
   "cell_type": "code",
   "execution_count": null,
   "metadata": {
    "id": "XVUNOt2y1Xdz"
   },
   "outputs": [],
   "source": []
  },
  {
   "cell_type": "code",
   "execution_count": null,
   "metadata": {
    "id": "AgcSV3ya2lk-"
   },
   "outputs": [],
   "source": [
    "# from google.colab import drive\n",
    "# drive.mount('/content/drive')"
   ]
  },
  {
   "cell_type": "code",
   "execution_count": 22,
   "metadata": {
    "colab": {
     "base_uri": "https://localhost:8080/"
    },
    "id": "gwMCp1GXGDTO",
    "outputId": "beeeead5-2dc4-40c9-a9d1-7be9a1e9103c"
   },
   "outputs": [
    {
     "name": "stdout",
     "output_type": "stream",
     "text": [
      "data  train_images  train_images.zip  train_labels.zip\tunzipped_files\tval_images  val_images.zip\n"
     ]
    }
   ],
   "source": [
    "# !ls \"/content/drive/MyDrive/Colab Notebooks/project\"\n"
   ]
  },
  {
   "cell_type": "code",
   "execution_count": 4,
   "metadata": {
    "colab": {
     "base_uri": "https://localhost:8080/"
    },
    "id": "FA8kTUVLGl9O",
    "outputId": "5cc1a914-457e-4c9e-f910-5d3331c43851"
   },
   "outputs": [
    {
     "name": "stdout",
     "output_type": "stream",
     "text": [
      "Top-level keys in the GeoJSON data: dict_keys(['crs', 'type', 'features', 'name'])\n",
      "First feature in the GeoJSON file:\n",
      "{\n",
      "    \"type\": \"Feature\",\n",
      "    \"properties\": {\n",
      "        \"bounds_imcoords\": \"2712,1145,2746,1177\",\n",
      "        \"edited_by\": \"wwoscarbecerril\",\n",
      "        \"cat_id\": \"1040010028371A00\",\n",
      "        \"type_id\": 73,\n",
      "        \"ingest_time\": \"2017/07/24 12:49:09.118+00\",\n",
      "        \"index_right\": 2356,\n",
      "        \"image_id\": \"2355.tif\",\n",
      "        \"point_geom\": \"0101000020E6100000616E4E6406A256C03BE6ADA0D6212D40\",\n",
      "        \"feature_id\": 374410,\n",
      "        \"grid_file\": \"Grid2.shp\"\n",
      "    },\n",
      "    \"geometry\": {\n",
      "        \"type\": \"Polygon\",\n",
      "        \"coordinates\": [\n",
      "            [\n",
      "                [\n",
      "                    -90.53169885094464,\n",
      "                    14.56603647302396\n",
      "                ],\n",
      "                [\n",
      "                    -90.53169885094464,\n",
      "                    14.56614473506768\n",
      "                ],\n",
      "                [\n",
      "                    -90.53158140073565,\n",
      "                    14.56614473506768\n",
      "                ],\n",
      "                [\n",
      "                    -90.53158140073565,\n",
      "                    14.56603647302396\n",
      "                ],\n",
      "                [\n",
      "                    -90.53169885094464,\n",
      "                    14.56603647302396\n",
      "                ]\n",
      "            ]\n",
      "        ]\n",
      "    }\n",
      "}\n"
     ]
    }
   ],
   "source": [
    "import json\n",
    "\n",
    "# Define the file path\n",
    "# geojson_file_path = '/content/drive/MyDrive/Colab Notebooks/project/data/xView_train.geojson'\n",
    "# local\n",
    "geojson_file_path = 'data/xView_train.geojson'\n",
    "\n",
    "# Load and parse the GeoJSON file\n",
    "with open(geojson_file_path, 'r') as file:\n",
    "    geojson_data = json.load(file)\n",
    "\n",
    "# Print the top-level keys\n",
    "print(\"Top-level keys in the GeoJSON data:\", geojson_data.keys())\n",
    "\n",
    "# Example: Inspect the 'features' key if it exists\n",
    "if 'features' in geojson_data:\n",
    "    print(\"First feature in the GeoJSON file:\")\n",
    "    print(json.dumps(geojson_data['features'][0], indent=4))  # Pretty-print the first feature"
   ]
  },
  {
   "cell_type": "code",
   "execution_count": 2,
   "metadata": {
    "id": "RL_Rd726HIj5"
   },
   "outputs": [
    {
     "name": "stdout",
     "output_type": "stream",
     "text": [
      "Creating new Ultralytics Settings v0.0.6 file  \n",
      "View Ultralytics Settings with 'yolo settings' or at 'C:\\Users\\streb\\AppData\\Roaming\\Ultralytics\\settings.json'\n",
      "Update Settings with 'yolo settings key=value', i.e. 'yolo settings runs_dir=path/to/dir'. For help see https://docs.ultralytics.com/quickstart/#ultralytics-settings.\n"
     ]
    }
   ],
   "source": [
    "from ultralytics.data.utils import autosplit\n",
    "from ultralytics.utils.ops import xyxy2xywhn\n",
    "import json\n",
    "import os\n",
    "from pathlib import Path\n",
    "\n",
    "import numpy as np\n",
    "from PIL import Image\n",
    "from tqdm import tqdm\n",
    "\n",
    "def convert_labels(fname=Path('xView/xView_train.geojson')):\n",
    "    # Convert xView geoJSON labels to YOLO format\n",
    "    path = fname.parent\n",
    "    with open(fname) as f:\n",
    "        print(f'Loading {fname}...')\n",
    "        data = json.load(f)\n",
    "\n",
    "    # Make dirs\n",
    "    labels = Path(path / 'labels' / 'train')\n",
    "    os.system(f'rm -rf {labels}')\n",
    "    labels.mkdir(parents=True, exist_ok=True)\n",
    "\n",
    "    # xView classes 11-94 to 0-59\n",
    "    xview_class2index = [-1, -1, -1, -1, -1, -1, -1, -1, -1, -1, -1, 0, 1, 2, -1, 3, -1, 4, 5, 6, 7, 8, -1, 9, 10, 11,\n",
    "                          12, 13, 14, 15, -1, -1, 16, 17, 18, 19, 20, 21, 22, -1, 23, 24, 25, -1, 26, 27, -1, 28, -1,\n",
    "                          29, 30, 31, 32, 33, 34, 35, 36, 37, -1, 38, 39, 40, 41, 42, 43, 44, 45, -1, -1, -1, -1, 46,\n",
    "                          47, 48, 49, -1, 50, 51, -1, 52, -1, -1, -1, 53, 54, -1, 55, -1, -1, 56, -1, 57, -1, 58, 59]\n",
    "\n",
    "    shapes = {}\n",
    "    for feature in tqdm(data['features'], desc=f'Converting {fname}'):\n",
    "        p = feature['properties']\n",
    "        if p['bounds_imcoords']:\n",
    "            id = p['image_id']\n",
    "            file = path / 'train_images' / id\n",
    "            if file.exists():  # 1395.tif missing\n",
    "                try:\n",
    "                    box = np.array([int(num) for num in p['bounds_imcoords'].split(\",\")])\n",
    "                    assert box.shape[0] == 4, f'incorrect box shape {box.shape[0]}'\n",
    "                    cls = p['type_id']\n",
    "                    cls = xview_class2index[int(cls)]  # xView class to 0-60\n",
    "                    assert 59 >= cls >= 0, f'incorrect class index {cls}'\n",
    "\n",
    "                    # Write YOLO label\n",
    "                    if id not in shapes:\n",
    "                        shapes[id] = Image.open(file).size\n",
    "                    box = xyxy2xywhn(box[None].astype(np.float64), w=shapes[id][0], h=shapes[id][1], clip=True)\n",
    "                    with open((labels / id).with_suffix('.txt'), 'a') as f:\n",
    "                        f.write(f\"{cls} {' '.join(f'{x:.6f}' for x in box[0])}\\n\")  # write label.txt\n",
    "                except Exception as e:\n",
    "                    print(f'WARNING: skipping one label for {file}: {e}')"
   ]
  },
  {
   "cell_type": "code",
   "execution_count": 5,
   "metadata": {
    "colab": {
     "base_uri": "https://localhost:8080/"
    },
    "id": "SCdIMrCKI01N",
    "outputId": "6863e77b-8756-4af7-a6bf-15b94e297253"
   },
   "outputs": [
    {
     "name": "stdout",
     "output_type": "stream",
     "text": [
      "Loading data\\xView_train.geojson...\n"
     ]
    },
    {
     "name": "stderr",
     "output_type": "stream",
     "text": [
      "Converting data\\xView_train.geojson:   4%|█▍                                  | 23502/601937 [00:12<03:12, 3007.56it/s]"
     ]
    },
    {
     "name": "stdout",
     "output_type": "stream",
     "text": [
      "WARNING: skipping one label for data\\train_images\\2308.tif: incorrect class index -1\n",
      "WARNING: skipping one label for data\\train_images\\2308.tif: incorrect class index -1\n"
     ]
    },
    {
     "name": "stderr",
     "output_type": "stream",
     "text": [
      "Converting data\\xView_train.geojson:   5%|█▋                                  | 27302/601937 [00:13<03:03, 3126.35it/s]"
     ]
    },
    {
     "name": "stdout",
     "output_type": "stream",
     "text": [
      "WARNING: skipping one label for data\\train_images\\2313.tif: incorrect class index -1\n"
     ]
    },
    {
     "name": "stderr",
     "output_type": "stream",
     "text": [
      "Converting data\\xView_train.geojson:   5%|█▊                                  | 30559/601937 [00:15<03:12, 2967.51it/s]"
     ]
    },
    {
     "name": "stdout",
     "output_type": "stream",
     "text": [
      "WARNING: skipping one label for data\\train_images\\2423.tif: incorrect class index -1\n"
     ]
    },
    {
     "name": "stderr",
     "output_type": "stream",
     "text": [
      "Converting data\\xView_train.geojson:   7%|██▌                                 | 41874/601937 [00:18<02:47, 3342.65it/s]"
     ]
    },
    {
     "name": "stdout",
     "output_type": "stream",
     "text": [
      "WARNING: skipping one label for data\\train_images\\1457.tif: incorrect class index -1\n"
     ]
    },
    {
     "name": "stderr",
     "output_type": "stream",
     "text": [
      "Converting data\\xView_train.geojson:   7%|██▋                                 | 44034/601937 [00:19<03:18, 2815.38it/s]"
     ]
    },
    {
     "name": "stdout",
     "output_type": "stream",
     "text": [
      "WARNING: skipping one label for data\\train_images\\1468.tif: incorrect class index -1\n",
      "WARNING: skipping one label for data\\train_images\\1468.tif: incorrect class index -1\n"
     ]
    },
    {
     "name": "stderr",
     "output_type": "stream",
     "text": [
      "Converting data\\xView_train.geojson:  10%|███▍                                | 57796/601937 [00:24<03:33, 2548.86it/s]"
     ]
    },
    {
     "name": "stdout",
     "output_type": "stream",
     "text": [
      "WARNING: skipping one label for data\\train_images\\295.tif: incorrect class index -1\n"
     ]
    },
    {
     "name": "stderr",
     "output_type": "stream",
     "text": [
      "Converting data\\xView_train.geojson:  10%|███▌                                | 59105/601937 [00:24<03:08, 2878.81it/s]"
     ]
    },
    {
     "name": "stdout",
     "output_type": "stream",
     "text": [
      "WARNING: skipping one label for data\\train_images\\302.tif: incorrect class index -1\n"
     ]
    },
    {
     "name": "stderr",
     "output_type": "stream",
     "text": [
      "Converting data\\xView_train.geojson:  11%|███▊                                | 64721/601937 [00:26<02:50, 3142.17it/s]"
     ]
    },
    {
     "name": "stdout",
     "output_type": "stream",
     "text": [
      "WARNING: skipping one label for data\\train_images\\716.tif: incorrect class index -1\n",
      "WARNING: skipping one label for data\\train_images\\716.tif: incorrect class index -1\n",
      "WARNING: skipping one label for data\\train_images\\716.tif: incorrect class index -1\n"
     ]
    },
    {
     "name": "stderr",
     "output_type": "stream",
     "text": [
      "Converting data\\xView_train.geojson:  13%|████▌                               | 76196/601937 [00:30<02:46, 3160.98it/s]"
     ]
    },
    {
     "name": "stdout",
     "output_type": "stream",
     "text": [
      "WARNING: skipping one label for data\\train_images\\886.tif: incorrect class index -1\n",
      "WARNING: skipping one label for data\\train_images\\888.tif: incorrect class index -1\n",
      "WARNING: skipping one label for data\\train_images\\888.tif: incorrect class index -1\n",
      "WARNING: skipping one label for data\\train_images\\888.tif: incorrect class index -1\n"
     ]
    },
    {
     "name": "stderr",
     "output_type": "stream",
     "text": [
      "Converting data\\xView_train.geojson:  19%|██████▌                            | 111977/601937 [00:41<02:32, 3223.15it/s]"
     ]
    },
    {
     "name": "stdout",
     "output_type": "stream",
     "text": [
      "WARNING: skipping one label for data\\train_images\\2544.tif: incorrect class index -1\n"
     ]
    },
    {
     "name": "stderr",
     "output_type": "stream",
     "text": [
      "Converting data\\xView_train.geojson:  20%|███████                            | 121463/601937 [00:44<02:35, 3098.85it/s]"
     ]
    },
    {
     "name": "stdout",
     "output_type": "stream",
     "text": [
      "WARNING: skipping one label for data\\train_images\\1450.tif: incorrect class index -1\n",
      "WARNING: skipping one label for data\\train_images\\1450.tif: incorrect class index -1\n"
     ]
    },
    {
     "name": "stderr",
     "output_type": "stream",
     "text": [
      "Converting data\\xView_train.geojson:  20%|███████▏                           | 123045/601937 [00:45<02:13, 3591.67it/s]"
     ]
    },
    {
     "name": "stdout",
     "output_type": "stream",
     "text": [
      "WARNING: skipping one label for data\\train_images\\1450.tif: incorrect class index -1\n",
      "WARNING: skipping one label for data\\train_images\\1450.tif: incorrect class index -1\n"
     ]
    },
    {
     "name": "stderr",
     "output_type": "stream",
     "text": [
      "Converting data\\xView_train.geojson:  21%|███████▏                           | 124503/601937 [00:45<02:23, 3325.74it/s]"
     ]
    },
    {
     "name": "stdout",
     "output_type": "stream",
     "text": [
      "WARNING: skipping one label for data\\train_images\\1459.tif: incorrect class index -1\n"
     ]
    },
    {
     "name": "stderr",
     "output_type": "stream",
     "text": [
      "Converting data\\xView_train.geojson:  21%|███████▎                           | 125560/601937 [00:45<02:23, 3313.60it/s]"
     ]
    },
    {
     "name": "stdout",
     "output_type": "stream",
     "text": [
      "WARNING: skipping one label for data\\train_images\\1459.tif: incorrect class index -1\n"
     ]
    },
    {
     "name": "stderr",
     "output_type": "stream",
     "text": [
      "Converting data\\xView_train.geojson:  21%|███████▌                           | 129171/601937 [00:47<02:25, 3260.11it/s]"
     ]
    },
    {
     "name": "stdout",
     "output_type": "stream",
     "text": [
      "WARNING: skipping one label for data\\train_images\\1465.tif: incorrect class index -1\n"
     ]
    },
    {
     "name": "stderr",
     "output_type": "stream",
     "text": [
      "Converting data\\xView_train.geojson:  22%|███████▌                           | 130161/601937 [00:47<02:30, 3136.40it/s]"
     ]
    },
    {
     "name": "stdout",
     "output_type": "stream",
     "text": [
      "WARNING: skipping one label for data\\train_images\\1465.tif: incorrect class index -1\n",
      "WARNING: skipping one label for data\\train_images\\1465.tif: incorrect class index -1\n"
     ]
    },
    {
     "name": "stderr",
     "output_type": "stream",
     "text": [
      "Converting data\\xView_train.geojson:  22%|███████▌                           | 131113/601937 [00:47<02:38, 2978.79it/s]"
     ]
    },
    {
     "name": "stdout",
     "output_type": "stream",
     "text": [
      "WARNING: skipping one label for data\\train_images\\1465.tif: incorrect class index -1\n"
     ]
    },
    {
     "name": "stderr",
     "output_type": "stream",
     "text": [
      "Converting data\\xView_train.geojson:  25%|████████▊                          | 150804/601937 [00:55<02:21, 3177.26it/s]"
     ]
    },
    {
     "name": "stdout",
     "output_type": "stream",
     "text": [
      "WARNING: skipping one label for data\\train_images\\2031.tif: incorrect class index -1\n",
      "WARNING: skipping one label for data\\train_images\\2031.tif: incorrect class index -1\n",
      "WARNING: skipping one label for data\\train_images\\2031.tif: incorrect class index -1\n"
     ]
    },
    {
     "name": "stderr",
     "output_type": "stream",
     "text": [
      "Converting data\\xView_train.geojson:  25%|████████▊                          | 151472/601937 [00:55<02:24, 3115.31it/s]"
     ]
    },
    {
     "name": "stdout",
     "output_type": "stream",
     "text": [
      "WARNING: skipping one label for data\\train_images\\2031.tif: incorrect class index -1\n",
      "WARNING: skipping one label for data\\train_images\\2031.tif: incorrect class index -1\n",
      "WARNING: skipping one label for data\\train_images\\2031.tif: incorrect class index -1\n",
      "WARNING: skipping one label for data\\train_images\\2031.tif: incorrect class index -1\n",
      "WARNING: skipping one label for data\\train_images\\2031.tif: incorrect class index -1\n",
      "WARNING: skipping one label for data\\train_images\\2031.tif: incorrect class index -1\n",
      "WARNING: skipping one label for data\\train_images\\2031.tif: incorrect class index -1\n",
      "WARNING: skipping one label for data\\train_images\\2032.tif: incorrect class index -1\n"
     ]
    },
    {
     "name": "stderr",
     "output_type": "stream",
     "text": [
      "Converting data\\xView_train.geojson:  25%|████████▉                          | 152852/601937 [00:55<02:18, 3232.99it/s]"
     ]
    },
    {
     "name": "stdout",
     "output_type": "stream",
     "text": [
      "WARNING: skipping one label for data\\train_images\\2032.tif: incorrect class index -1\n",
      "WARNING: skipping one label for data\\train_images\\2032.tif: incorrect class index -1\n",
      "WARNING: skipping one label for data\\train_images\\2032.tif: incorrect class index -1\n"
     ]
    },
    {
     "name": "stderr",
     "output_type": "stream",
     "text": [
      "Converting data\\xView_train.geojson:  27%|█████████▌                         | 163407/601937 [00:59<02:32, 2881.09it/s]"
     ]
    },
    {
     "name": "stdout",
     "output_type": "stream",
     "text": [
      "WARNING: skipping one label for data\\train_images\\1052.tif: incorrect class index -1\n"
     ]
    },
    {
     "name": "stderr",
     "output_type": "stream",
     "text": [
      "Converting data\\xView_train.geojson:  30%|██████████▎                        | 177610/601937 [01:04<02:14, 3165.05it/s]"
     ]
    },
    {
     "name": "stdout",
     "output_type": "stream",
     "text": [
      "WARNING: skipping one label for data\\train_images\\523.tif: incorrect class index -1\n",
      "WARNING: skipping one label for data\\train_images\\523.tif: incorrect class index -1\n"
     ]
    },
    {
     "name": "stderr",
     "output_type": "stream",
     "text": [
      "Converting data\\xView_train.geojson:  30%|██████████▌                        | 180827/601937 [01:05<02:04, 3390.02it/s]"
     ]
    },
    {
     "name": "stdout",
     "output_type": "stream",
     "text": [
      "WARNING: skipping one label for data\\train_images\\525.tif: incorrect class index -1\n"
     ]
    },
    {
     "name": "stderr",
     "output_type": "stream",
     "text": [
      "Converting data\\xView_train.geojson:  32%|███████████                        | 190201/601937 [01:08<02:13, 3081.70it/s]"
     ]
    },
    {
     "name": "stdout",
     "output_type": "stream",
     "text": [
      "WARNING: skipping one label for data\\train_images\\548.tif: incorrect class index -1\n"
     ]
    },
    {
     "name": "stderr",
     "output_type": "stream",
     "text": [
      "Converting data\\xView_train.geojson:  35%|████████████                       | 208508/601937 [01:14<02:11, 2983.62it/s]"
     ]
    },
    {
     "name": "stdout",
     "output_type": "stream",
     "text": [
      "WARNING: skipping one label for data\\train_images\\1454.tif: incorrect class index -1\n",
      "WARNING: skipping one label for data\\train_images\\1454.tif: incorrect class index -1\n"
     ]
    },
    {
     "name": "stderr",
     "output_type": "stream",
     "text": [
      "Converting data\\xView_train.geojson:  36%|████████████▍                      | 214763/601937 [01:16<01:56, 3333.23it/s]"
     ]
    },
    {
     "name": "stdout",
     "output_type": "stream",
     "text": [
      "WARNING: skipping one label for data\\train_images\\1585.tif: incorrect class index -1\n"
     ]
    },
    {
     "name": "stderr",
     "output_type": "stream",
     "text": [
      "Converting data\\xView_train.geojson:  36%|████████████▌                      | 215787/601937 [01:16<01:59, 3236.61it/s]"
     ]
    },
    {
     "name": "stdout",
     "output_type": "stream",
     "text": [
      "WARNING: skipping one label for data\\train_images\\1585.tif: incorrect class index -1\n"
     ]
    },
    {
     "name": "stderr",
     "output_type": "stream",
     "text": [
      "Converting data\\xView_train.geojson:  36%|████████████▋                      | 217533/601937 [01:16<02:02, 3147.24it/s]"
     ]
    },
    {
     "name": "stdout",
     "output_type": "stream",
     "text": [
      "WARNING: skipping one label for data\\train_images\\1586.tif: incorrect class index -1\n",
      "WARNING: skipping one label for data\\train_images\\1586.tif: incorrect class index -1\n"
     ]
    },
    {
     "name": "stderr",
     "output_type": "stream",
     "text": [
      "Converting data\\xView_train.geojson:  37%|████████████▊                      | 221389/601937 [01:18<02:05, 3030.01it/s]"
     ]
    },
    {
     "name": "stdout",
     "output_type": "stream",
     "text": [
      "WARNING: skipping one label for data\\train_images\\1606.tif: incorrect class index -1\n",
      "WARNING: skipping one label for data\\train_images\\1606.tif: incorrect class index -1\n",
      "WARNING: skipping one label for data\\train_images\\1606.tif: incorrect class index -1\n"
     ]
    },
    {
     "name": "stderr",
     "output_type": "stream",
     "text": [
      "Converting data\\xView_train.geojson:  37%|████████████▉                      | 222046/601937 [01:18<02:02, 3109.10it/s]"
     ]
    },
    {
     "name": "stdout",
     "output_type": "stream",
     "text": [
      "WARNING: skipping one label for data\\train_images\\1607.tif: incorrect class index -1\n",
      "WARNING: skipping one label for data\\train_images\\1607.tif: incorrect class index -1\n"
     ]
    },
    {
     "name": "stderr",
     "output_type": "stream",
     "text": [
      "Converting data\\xView_train.geojson:  37%|████████████▉                      | 222737/601937 [01:18<01:57, 3234.45it/s]"
     ]
    },
    {
     "name": "stdout",
     "output_type": "stream",
     "text": [
      "WARNING: skipping one label for data\\train_images\\1607.tif: incorrect class index -1\n"
     ]
    },
    {
     "name": "stderr",
     "output_type": "stream",
     "text": [
      "Converting data\\xView_train.geojson:  38%|█████████████▏                     | 226252/601937 [01:19<02:11, 2849.04it/s]"
     ]
    },
    {
     "name": "stdout",
     "output_type": "stream",
     "text": [
      "WARNING: skipping one label for data\\train_images\\1608.tif: incorrect class index -1\n"
     ]
    },
    {
     "name": "stderr",
     "output_type": "stream",
     "text": [
      "Converting data\\xView_train.geojson:  39%|█████████████▌                     | 233648/601937 [01:22<01:49, 3358.59it/s]"
     ]
    },
    {
     "name": "stdout",
     "output_type": "stream",
     "text": [
      "WARNING: skipping one label for data\\train_images\\2591.tif: incorrect class index -1\n"
     ]
    },
    {
     "name": "stderr",
     "output_type": "stream",
     "text": [
      "Converting data\\xView_train.geojson:  39%|█████████████▋                     | 235308/601937 [01:22<01:58, 3100.02it/s]"
     ]
    },
    {
     "name": "stdout",
     "output_type": "stream",
     "text": [
      "WARNING: skipping one label for data\\train_images\\2599.tif: incorrect class index -1\n"
     ]
    },
    {
     "name": "stderr",
     "output_type": "stream",
     "text": [
      "Converting data\\xView_train.geojson:  50%|█████████████████▌                 | 301849/601937 [01:45<01:35, 3148.32it/s]"
     ]
    },
    {
     "name": "stdout",
     "output_type": "stream",
     "text": [
      "WARNING: skipping one label for data\\train_images\\1121.tif: incorrect class index -1\n"
     ]
    },
    {
     "name": "stderr",
     "output_type": "stream",
     "text": [
      "Converting data\\xView_train.geojson:  61%|█████████████████████▎             | 366040/601937 [02:07<01:26, 2725.98it/s]"
     ]
    },
    {
     "name": "stdout",
     "output_type": "stream",
     "text": [
      "WARNING: skipping one label for data\\train_images\\1211.tif: incorrect class index -1\n"
     ]
    },
    {
     "name": "stderr",
     "output_type": "stream",
     "text": [
      "Converting data\\xView_train.geojson:  71%|████████████████████████▊          | 427623/601937 [02:28<01:15, 2324.03it/s]"
     ]
    },
    {
     "name": "stdout",
     "output_type": "stream",
     "text": [
      "WARNING: skipping one label for data\\train_images\\1422.tif: incorrect class index -1\n",
      "WARNING: skipping one label for data\\train_images\\1422.tif: incorrect class index -1\n"
     ]
    },
    {
     "name": "stderr",
     "output_type": "stream",
     "text": [
      "Converting data\\xView_train.geojson:  71%|████████████████████████▉          | 428380/601937 [02:28<01:13, 2359.64it/s]"
     ]
    },
    {
     "name": "stdout",
     "output_type": "stream",
     "text": [
      "WARNING: skipping one label for data\\train_images\\1422.tif: incorrect class index -1\n",
      "WARNING: skipping one label for data\\train_images\\1422.tif: incorrect class index -1\n",
      "WARNING: skipping one label for data\\train_images\\1422.tif: incorrect class index -1\n"
     ]
    },
    {
     "name": "stderr",
     "output_type": "stream",
     "text": [
      "Converting data\\xView_train.geojson:  72%|█████████████████████████          | 431001/601937 [02:29<00:54, 3137.82it/s]"
     ]
    },
    {
     "name": "stdout",
     "output_type": "stream",
     "text": [
      "WARNING: skipping one label for data\\train_images\\1422.tif: incorrect class index -1\n"
     ]
    },
    {
     "name": "stderr",
     "output_type": "stream",
     "text": [
      "Converting data\\xView_train.geojson:  72%|█████████████████████████          | 431675/601937 [02:29<00:54, 3103.95it/s]"
     ]
    },
    {
     "name": "stdout",
     "output_type": "stream",
     "text": [
      "WARNING: skipping one label for data\\train_images\\1430.tif: incorrect class index -1\n"
     ]
    },
    {
     "name": "stderr",
     "output_type": "stream",
     "text": [
      "Converting data\\xView_train.geojson:  72%|█████████████████████████▏         | 433594/601937 [02:30<00:54, 3114.92it/s]"
     ]
    },
    {
     "name": "stdout",
     "output_type": "stream",
     "text": [
      "WARNING: skipping one label for data\\train_images\\1430.tif: incorrect class index -1\n"
     ]
    },
    {
     "name": "stderr",
     "output_type": "stream",
     "text": [
      "Converting data\\xView_train.geojson:  73%|█████████████████████████▍         | 437547/601937 [02:31<00:50, 3278.21it/s]"
     ]
    },
    {
     "name": "stdout",
     "output_type": "stream",
     "text": [
      "WARNING: skipping one label for data\\train_images\\1436.tif: incorrect class index -1\n"
     ]
    },
    {
     "name": "stderr",
     "output_type": "stream",
     "text": [
      "Converting data\\xView_train.geojson:  73%|█████████████████████████▍         | 438208/601937 [02:31<00:53, 3061.33it/s]"
     ]
    },
    {
     "name": "stdout",
     "output_type": "stream",
     "text": [
      "WARNING: skipping one label for data\\train_images\\1436.tif: incorrect class index -1\n"
     ]
    },
    {
     "name": "stderr",
     "output_type": "stream",
     "text": [
      "Converting data\\xView_train.geojson:  82%|████████████████████████████▊      | 495998/601937 [02:53<00:39, 2661.37it/s]"
     ]
    },
    {
     "name": "stdout",
     "output_type": "stream",
     "text": [
      "WARNING: skipping one label for data\\train_images\\1178.tif: incorrect class index -1\n"
     ]
    },
    {
     "name": "stderr",
     "output_type": "stream",
     "text": [
      "Converting data\\xView_train.geojson:  83%|█████████████████████████████      | 499903/601937 [02:55<00:33, 3019.34it/s]"
     ]
    },
    {
     "name": "stdout",
     "output_type": "stream",
     "text": [
      "WARNING: skipping one label for data\\train_images\\1184.tif: incorrect class index -1\n"
     ]
    },
    {
     "name": "stderr",
     "output_type": "stream",
     "text": [
      "Converting data\\xView_train.geojson:  98%|██████████████████████████████████▏| 588339/601937 [03:25<00:04, 2834.74it/s]"
     ]
    },
    {
     "name": "stdout",
     "output_type": "stream",
     "text": [
      "WARNING: skipping one label for data\\train_images\\107.tif: incorrect class index -1\n"
     ]
    },
    {
     "name": "stderr",
     "output_type": "stream",
     "text": [
      "Converting data\\xView_train.geojson:  98%|██████████████████████████████████▎| 589196/601937 [03:25<00:04, 2688.58it/s]"
     ]
    },
    {
     "name": "stdout",
     "output_type": "stream",
     "text": [
      "WARNING: skipping one label for data\\train_images\\107.tif: incorrect class index -1\n"
     ]
    },
    {
     "name": "stderr",
     "output_type": "stream",
     "text": [
      "Converting data\\xView_train.geojson:  98%|██████████████████████████████████▍| 591431/601937 [03:26<00:03, 2933.02it/s]"
     ]
    },
    {
     "name": "stdout",
     "output_type": "stream",
     "text": [
      "WARNING: skipping one label for data\\train_images\\109.tif: incorrect class index -1\n",
      "WARNING: skipping one label for data\\train_images\\109.tif: incorrect class index -1\n"
     ]
    },
    {
     "name": "stderr",
     "output_type": "stream",
     "text": [
      "Converting data\\xView_train.geojson: 100%|███████████████████████████████████| 601937/601937 [03:30<00:00, 2854.79it/s]\n"
     ]
    }
   ],
   "source": [
    "convert_labels(Path(geojson_file_path))"
   ]
  },
  {
   "cell_type": "code",
   "execution_count": null,
   "metadata": {
    "id": "hL1Uqx4oWBhL"
   },
   "outputs": [],
   "source": []
  }
 ],
 "metadata": {
  "colab": {
   "authorship_tag": "ABX9TyOfYpjxMzjbyMRqMH0GRJ+i",
   "include_colab_link": true,
   "mount_file_id": "1bouhbiRicCpaJnba_1VBa8NXFZS471lJ",
   "provenance": []
  },
  "kernelspec": {
   "display_name": "Python 3 (ipykernel)",
   "language": "python",
   "name": "python3"
  },
  "language_info": {
   "codemirror_mode": {
    "name": "ipython",
    "version": 3
   },
   "file_extension": ".py",
   "mimetype": "text/x-python",
   "name": "python",
   "nbconvert_exporter": "python",
   "pygments_lexer": "ipython3",
   "version": "3.12.8"
  }
 },
 "nbformat": 4,
 "nbformat_minor": 4
}
