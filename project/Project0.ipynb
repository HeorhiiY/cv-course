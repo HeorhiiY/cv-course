{
  "cells": [
    {
      "cell_type": "markdown",
      "metadata": {
        "id": "view-in-github",
        "colab_type": "text"
      },
      "source": [
        "<a href=\"https://colab.research.google.com/github/HeorhiiY/cv-course/blob/main/project/Project0.ipynb\" target=\"_parent\"><img src=\"https://colab.research.google.com/assets/colab-badge.svg\" alt=\"Open In Colab\"/></a>"
      ]
    },
    {
      "cell_type": "code",
      "execution_count": null,
      "metadata": {
        "id": "XVUNOt2y1Xdz"
      },
      "outputs": [],
      "source": [
        ""
      ]
    },
    {
      "cell_type": "code",
      "execution_count": null,
      "metadata": {
        "id": "AgcSV3ya2lk-"
      },
      "outputs": [],
      "source": [
        "from google.colab import drive\n",
        "# drive.mount('/content/drive')"
      ]
    },
    {
      "cell_type": "code",
      "execution_count": 22,
      "metadata": {
        "id": "gwMCp1GXGDTO",
        "colab": {
          "base_uri": "https://localhost:8080/"
        },
        "outputId": "beeeead5-2dc4-40c9-a9d1-7be9a1e9103c"
      },
      "outputs": [
        {
          "output_type": "stream",
          "name": "stdout",
          "text": [
            "data  train_images  train_images.zip  train_labels.zip\tunzipped_files\tval_images  val_images.zip\n"
          ]
        }
      ],
      "source": [
        "!ls \"/content/drive/MyDrive/Colab Notebooks/project\"\n"
      ]
    },
    {
      "cell_type": "code",
      "execution_count": 23,
      "metadata": {
        "id": "FA8kTUVLGl9O",
        "colab": {
          "base_uri": "https://localhost:8080/"
        },
        "outputId": "5cc1a914-457e-4c9e-f910-5d3331c43851"
      },
      "outputs": [
        {
          "output_type": "stream",
          "name": "stdout",
          "text": [
            "Top-level keys in the GeoJSON data: dict_keys(['crs', 'type', 'features', 'name'])\n",
            "First feature in the GeoJSON file:\n",
            "{\n",
            "    \"type\": \"Feature\",\n",
            "    \"properties\": {\n",
            "        \"bounds_imcoords\": \"2712,1145,2746,1177\",\n",
            "        \"edited_by\": \"wwoscarbecerril\",\n",
            "        \"cat_id\": \"1040010028371A00\",\n",
            "        \"type_id\": 73,\n",
            "        \"ingest_time\": \"2017/07/24 12:49:09.118+00\",\n",
            "        \"index_right\": 2356,\n",
            "        \"image_id\": \"2355.tif\",\n",
            "        \"point_geom\": \"0101000020E6100000616E4E6406A256C03BE6ADA0D6212D40\",\n",
            "        \"feature_id\": 374410,\n",
            "        \"grid_file\": \"Grid2.shp\"\n",
            "    },\n",
            "    \"geometry\": {\n",
            "        \"type\": \"Polygon\",\n",
            "        \"coordinates\": [\n",
            "            [\n",
            "                [\n",
            "                    -90.53169885094464,\n",
            "                    14.56603647302396\n",
            "                ],\n",
            "                [\n",
            "                    -90.53169885094464,\n",
            "                    14.56614473506768\n",
            "                ],\n",
            "                [\n",
            "                    -90.53158140073565,\n",
            "                    14.56614473506768\n",
            "                ],\n",
            "                [\n",
            "                    -90.53158140073565,\n",
            "                    14.56603647302396\n",
            "                ],\n",
            "                [\n",
            "                    -90.53169885094464,\n",
            "                    14.56603647302396\n",
            "                ]\n",
            "            ]\n",
            "        ]\n",
            "    }\n",
            "}\n"
          ]
        }
      ],
      "source": [
        "import json\n",
        "\n",
        "# Define the file path\n",
        "geojson_file_path = '/content/drive/MyDrive/Colab Notebooks/project/data/xView_train.geojson'\n",
        "\n",
        "# Load and parse the GeoJSON file\n",
        "with open(geojson_file_path, 'r') as file:\n",
        "    geojson_data = json.load(file)\n",
        "\n",
        "# Print the top-level keys\n",
        "print(\"Top-level keys in the GeoJSON data:\", geojson_data.keys())\n",
        "\n",
        "# Example: Inspect the 'features' key if it exists\n",
        "if 'features' in geojson_data:\n",
        "    print(\"First feature in the GeoJSON file:\")\n",
        "    print(json.dumps(geojson_data['features'][0], indent=4))  # Pretty-print the first feature"
      ]
    },
    {
      "cell_type": "code",
      "execution_count": 24,
      "metadata": {
        "id": "RL_Rd726HIj5"
      },
      "outputs": [],
      "source": [
        "from ultralytics.data.utils import autosplit\n",
        "from ultralytics.utils.ops import xyxy2xywhn\n",
        "import json\n",
        "import os\n",
        "from pathlib import Path\n",
        "\n",
        "import numpy as np\n",
        "from PIL import Image\n",
        "from tqdm import tqdm\n",
        "\n",
        "def convert_labels(fname=Path('xView/xView_train.geojson')):\n",
        "    # Convert xView geoJSON labels to YOLO format\n",
        "    path = fname.parent\n",
        "    with open(fname) as f:\n",
        "        print(f'Loading {fname}...')\n",
        "        data = json.load(f)\n",
        "\n",
        "    # Make dirs\n",
        "    labels = Path(path / 'labels' / 'train')\n",
        "    os.system(f'rm -rf {labels}')\n",
        "    labels.mkdir(parents=True, exist_ok=True)\n",
        "\n",
        "    # xView classes 11-94 to 0-59\n",
        "    xview_class2index = [-1, -1, -1, -1, -1, -1, -1, -1, -1, -1, -1, 0, 1, 2, -1, 3, -1, 4, 5, 6, 7, 8, -1, 9, 10, 11,\n",
        "                          12, 13, 14, 15, -1, -1, 16, 17, 18, 19, 20, 21, 22, -1, 23, 24, 25, -1, 26, 27, -1, 28, -1,\n",
        "                          29, 30, 31, 32, 33, 34, 35, 36, 37, -1, 38, 39, 40, 41, 42, 43, 44, 45, -1, -1, -1, -1, 46,\n",
        "                          47, 48, 49, -1, 50, 51, -1, 52, -1, -1, -1, 53, 54, -1, 55, -1, -1, 56, -1, 57, -1, 58, 59]\n",
        "\n",
        "    shapes = {}\n",
        "    for feature in tqdm(data['features'], desc=f'Converting {fname}'):\n",
        "        p = feature['properties']\n",
        "        if p['bounds_imcoords']:\n",
        "            id = p['image_id']\n",
        "            file = path / 'train_images' / id\n",
        "            if file.exists():  # 1395.tif missing\n",
        "                try:\n",
        "                    box = np.array([int(num) for num in p['bounds_imcoords'].split(\",\")])\n",
        "                    assert box.shape[0] == 4, f'incorrect box shape {box.shape[0]}'\n",
        "                    cls = p['type_id']\n",
        "                    cls = xview_class2index[int(cls)]  # xView class to 0-60\n",
        "                    assert 59 >= cls >= 0, f'incorrect class index {cls}'\n",
        "\n",
        "                    # Write YOLO label\n",
        "                    if id not in shapes:\n",
        "                        shapes[id] = Image.open(file).size\n",
        "                    box = xyxy2xywhn(box[None].astype(np.float64), w=shapes[id][0], h=shapes[id][1], clip=True)\n",
        "                    with open((labels / id).with_suffix('.txt'), 'a') as f:\n",
        "                        f.write(f\"{cls} {' '.join(f'{x:.6f}' for x in box[0])}\\n\")  # write label.txt\n",
        "                except Exception as e:\n",
        "                    print(f'WARNING: skipping one label for {file}: {e}')"
      ]
    },
    {
      "cell_type": "code",
      "execution_count": null,
      "metadata": {
        "id": "SCdIMrCKI01N",
        "colab": {
          "base_uri": "https://localhost:8080/"
        },
        "outputId": "6863e77b-8756-4af7-a6bf-15b94e297253"
      },
      "outputs": [
        {
          "output_type": "stream",
          "name": "stdout",
          "text": [
            "Loading /content/drive/MyDrive/Colab Notebooks/project/data/xView_train.geojson...\n"
          ]
        },
        {
          "output_type": "stream",
          "name": "stderr",
          "text": [
            "Converting /content/drive/MyDrive/Colab Notebooks/project/data/xView_train.geojson:   4%|▍         | 23222/601937 [02:57<1:08:10, 141.49it/s]"
          ]
        },
        {
          "output_type": "stream",
          "name": "stdout",
          "text": [
            "WARNING: skipping one label for /content/drive/MyDrive/Colab Notebooks/project/data/train_images/2308.tif: incorrect class index -1\n"
          ]
        },
        {
          "output_type": "stream",
          "name": "stderr",
          "text": [
            "Converting /content/drive/MyDrive/Colab Notebooks/project/data/xView_train.geojson:   4%|▍         | 23625/601937 [03:00<1:12:43, 132.54it/s]"
          ]
        },
        {
          "output_type": "stream",
          "name": "stdout",
          "text": [
            "WARNING: skipping one label for /content/drive/MyDrive/Colab Notebooks/project/data/train_images/2308.tif: incorrect class index -1\n"
          ]
        },
        {
          "output_type": "stream",
          "name": "stderr",
          "text": [
            "Converting /content/drive/MyDrive/Colab Notebooks/project/data/xView_train.geojson:   4%|▍         | 26872/601937 [03:25<1:11:56, 133.21it/s]"
          ]
        },
        {
          "output_type": "stream",
          "name": "stdout",
          "text": [
            "WARNING: skipping one label for /content/drive/MyDrive/Colab Notebooks/project/data/train_images/2313.tif: incorrect class index -1\n"
          ]
        },
        {
          "output_type": "stream",
          "name": "stderr",
          "text": [
            "Converting /content/drive/MyDrive/Colab Notebooks/project/data/xView_train.geojson:   5%|▌         | 30174/601937 [03:50<1:07:23, 141.41it/s]"
          ]
        },
        {
          "output_type": "stream",
          "name": "stdout",
          "text": [
            "WARNING: skipping one label for /content/drive/MyDrive/Colab Notebooks/project/data/train_images/2423.tif: incorrect class index -1\n"
          ]
        },
        {
          "output_type": "stream",
          "name": "stderr",
          "text": [
            "Converting /content/drive/MyDrive/Colab Notebooks/project/data/xView_train.geojson:   7%|▋         | 41503/601937 [05:19<1:13:18, 127.43it/s]"
          ]
        },
        {
          "output_type": "stream",
          "name": "stdout",
          "text": [
            "WARNING: skipping one label for /content/drive/MyDrive/Colab Notebooks/project/data/train_images/1457.tif: incorrect class index -1\n"
          ]
        },
        {
          "output_type": "stream",
          "name": "stderr",
          "text": [
            "Converting /content/drive/MyDrive/Colab Notebooks/project/data/xView_train.geojson:   7%|▋         | 43567/601937 [05:35<1:07:26, 137.99it/s]"
          ]
        },
        {
          "output_type": "stream",
          "name": "stdout",
          "text": [
            "WARNING: skipping one label for /content/drive/MyDrive/Colab Notebooks/project/data/train_images/1468.tif: incorrect class index -1\n",
            "WARNING: skipping one label for /content/drive/MyDrive/Colab Notebooks/project/data/train_images/1468.tif: incorrect class index -1\n"
          ]
        },
        {
          "output_type": "stream",
          "name": "stderr",
          "text": [
            "Converting /content/drive/MyDrive/Colab Notebooks/project/data/xView_train.geojson:  10%|▉         | 57502/601937 [07:24<1:09:27, 130.65it/s]"
          ]
        },
        {
          "output_type": "stream",
          "name": "stdout",
          "text": [
            "WARNING: skipping one label for /content/drive/MyDrive/Colab Notebooks/project/data/train_images/295.tif: incorrect class index -1\n"
          ]
        },
        {
          "output_type": "stream",
          "name": "stderr",
          "text": [
            "Converting /content/drive/MyDrive/Colab Notebooks/project/data/xView_train.geojson:  10%|▉         | 58880/601937 [07:35<1:04:29, 140.36it/s]"
          ]
        },
        {
          "output_type": "stream",
          "name": "stdout",
          "text": [
            "WARNING: skipping one label for /content/drive/MyDrive/Colab Notebooks/project/data/train_images/302.tif: incorrect class index -1\n"
          ]
        },
        {
          "output_type": "stream",
          "name": "stderr",
          "text": [
            "Converting /content/drive/MyDrive/Colab Notebooks/project/data/xView_train.geojson:  11%|█         | 64162/601937 [08:15<1:22:33, 108.57it/s]"
          ]
        },
        {
          "output_type": "stream",
          "name": "stdout",
          "text": [
            "WARNING: skipping one label for /content/drive/MyDrive/Colab Notebooks/project/data/train_images/716.tif: incorrect class index -1\n",
            "WARNING: skipping one label for /content/drive/MyDrive/Colab Notebooks/project/data/train_images/716.tif: incorrect class index -1\n"
          ]
        },
        {
          "output_type": "stream",
          "name": "stderr",
          "text": [
            "Converting /content/drive/MyDrive/Colab Notebooks/project/data/xView_train.geojson:  11%|█         | 64374/601937 [08:17<1:16:24, 117.24it/s]"
          ]
        },
        {
          "output_type": "stream",
          "name": "stdout",
          "text": [
            "WARNING: skipping one label for /content/drive/MyDrive/Colab Notebooks/project/data/train_images/716.tif: incorrect class index -1\n"
          ]
        },
        {
          "output_type": "stream",
          "name": "stderr",
          "text": [
            "Converting /content/drive/MyDrive/Colab Notebooks/project/data/xView_train.geojson:  13%|█▎        | 75855/601937 [09:50<1:03:31, 138.03it/s]"
          ]
        },
        {
          "output_type": "stream",
          "name": "stdout",
          "text": [
            "WARNING: skipping one label for /content/drive/MyDrive/Colab Notebooks/project/data/train_images/886.tif: incorrect class index -1\n"
          ]
        },
        {
          "output_type": "stream",
          "name": "stderr",
          "text": [
            "Converting /content/drive/MyDrive/Colab Notebooks/project/data/xView_train.geojson:  13%|█▎        | 76121/601937 [09:53<1:04:22, 136.12it/s]"
          ]
        },
        {
          "output_type": "stream",
          "name": "stdout",
          "text": [
            "WARNING: skipping one label for /content/drive/MyDrive/Colab Notebooks/project/data/train_images/888.tif: incorrect class index -1\n",
            "WARNING: skipping one label for /content/drive/MyDrive/Colab Notebooks/project/data/train_images/888.tif: incorrect class index -1\n",
            "WARNING: skipping one label for /content/drive/MyDrive/Colab Notebooks/project/data/train_images/888.tif: incorrect class index -1\n"
          ]
        },
        {
          "output_type": "stream",
          "name": "stderr",
          "text": [
            "Converting /content/drive/MyDrive/Colab Notebooks/project/data/xView_train.geojson:  19%|█▊        | 111404/601937 [14:35<1:02:55, 129.91it/s]"
          ]
        },
        {
          "output_type": "stream",
          "name": "stdout",
          "text": [
            "WARNING: skipping one label for /content/drive/MyDrive/Colab Notebooks/project/data/train_images/2544.tif: incorrect class index -1\n"
          ]
        },
        {
          "output_type": "stream",
          "name": "stderr",
          "text": [
            "Converting /content/drive/MyDrive/Colab Notebooks/project/data/xView_train.geojson:  20%|██        | 121172/601937 [15:51<59:33, 134.55it/s]"
          ]
        },
        {
          "output_type": "stream",
          "name": "stdout",
          "text": [
            "WARNING: skipping one label for /content/drive/MyDrive/Colab Notebooks/project/data/train_images/1450.tif: incorrect class index -1\n"
          ]
        },
        {
          "output_type": "stream",
          "name": "stderr",
          "text": [
            "Converting /content/drive/MyDrive/Colab Notebooks/project/data/xView_train.geojson:  20%|██        | 121620/601937 [15:54<1:02:21, 128.36it/s]"
          ]
        },
        {
          "output_type": "stream",
          "name": "stdout",
          "text": [
            "WARNING: skipping one label for /content/drive/MyDrive/Colab Notebooks/project/data/train_images/1450.tif: incorrect class index -1\n"
          ]
        },
        {
          "output_type": "stream",
          "name": "stderr",
          "text": [
            "Converting /content/drive/MyDrive/Colab Notebooks/project/data/xView_train.geojson:  20%|██        | 122652/601937 [16:02<1:11:09, 112.27it/s]"
          ]
        },
        {
          "output_type": "stream",
          "name": "stdout",
          "text": [
            "WARNING: skipping one label for /content/drive/MyDrive/Colab Notebooks/project/data/train_images/1450.tif: incorrect class index -1\n"
          ]
        },
        {
          "output_type": "stream",
          "name": "stderr",
          "text": [
            "Converting /content/drive/MyDrive/Colab Notebooks/project/data/xView_train.geojson:  20%|██        | 123075/601937 [16:06<1:09:37, 114.64it/s]"
          ]
        },
        {
          "output_type": "stream",
          "name": "stdout",
          "text": [
            "WARNING: skipping one label for /content/drive/MyDrive/Colab Notebooks/project/data/train_images/1450.tif: incorrect class index -1\n"
          ]
        },
        {
          "output_type": "stream",
          "name": "stderr",
          "text": [
            "Converting /content/drive/MyDrive/Colab Notebooks/project/data/xView_train.geojson:  21%|██        | 123877/601937 [16:13<1:04:22, 123.78it/s]"
          ]
        },
        {
          "output_type": "stream",
          "name": "stdout",
          "text": [
            "WARNING: skipping one label for /content/drive/MyDrive/Colab Notebooks/project/data/train_images/1459.tif: incorrect class index -1\n"
          ]
        },
        {
          "output_type": "stream",
          "name": "stderr",
          "text": [
            "Converting /content/drive/MyDrive/Colab Notebooks/project/data/xView_train.geojson:  21%|██        | 125185/601937 [16:23<59:59, 132.46it/s]  "
          ]
        },
        {
          "output_type": "stream",
          "name": "stdout",
          "text": [
            "WARNING: skipping one label for /content/drive/MyDrive/Colab Notebooks/project/data/train_images/1459.tif: incorrect class index -1\n"
          ]
        },
        {
          "output_type": "stream",
          "name": "stderr",
          "text": [
            "Converting /content/drive/MyDrive/Colab Notebooks/project/data/xView_train.geojson:  21%|██▏       | 128711/601937 [16:49<59:01, 133.62it/s]"
          ]
        },
        {
          "output_type": "stream",
          "name": "stdout",
          "text": [
            "WARNING: skipping one label for /content/drive/MyDrive/Colab Notebooks/project/data/train_images/1465.tif: incorrect class index -1\n"
          ]
        },
        {
          "output_type": "stream",
          "name": "stderr",
          "text": [
            "Converting /content/drive/MyDrive/Colab Notebooks/project/data/xView_train.geojson:  22%|██▏       | 129629/601937 [16:56<58:30, 134.53it/s]"
          ]
        },
        {
          "output_type": "stream",
          "name": "stdout",
          "text": [
            "WARNING: skipping one label for /content/drive/MyDrive/Colab Notebooks/project/data/train_images/1465.tif: incorrect class index -1\n"
          ]
        },
        {
          "output_type": "stream",
          "name": "stderr",
          "text": [
            "Converting /content/drive/MyDrive/Colab Notebooks/project/data/xView_train.geojson:  22%|██▏       | 130107/601937 [17:00<55:08, 142.63it/s]"
          ]
        },
        {
          "output_type": "stream",
          "name": "stdout",
          "text": [
            "WARNING: skipping one label for /content/drive/MyDrive/Colab Notebooks/project/data/train_images/1465.tif: incorrect class index -1\n"
          ]
        },
        {
          "output_type": "stream",
          "name": "stderr",
          "text": [
            "Converting /content/drive/MyDrive/Colab Notebooks/project/data/xView_train.geojson:  22%|██▏       | 130548/601937 [17:03<1:01:32, 127.68it/s]"
          ]
        },
        {
          "output_type": "stream",
          "name": "stdout",
          "text": [
            "WARNING: skipping one label for /content/drive/MyDrive/Colab Notebooks/project/data/train_images/1465.tif: incorrect class index -1\n"
          ]
        },
        {
          "output_type": "stream",
          "name": "stderr",
          "text": [
            "Converting /content/drive/MyDrive/Colab Notebooks/project/data/xView_train.geojson:  25%|██▍       | 150277/601937 [19:38<51:27, 146.29it/s]"
          ]
        },
        {
          "output_type": "stream",
          "name": "stdout",
          "text": [
            "WARNING: skipping one label for /content/drive/MyDrive/Colab Notebooks/project/data/train_images/2031.tif: incorrect class index -1\n"
          ]
        },
        {
          "output_type": "stream",
          "name": "stderr",
          "text": [
            "Converting /content/drive/MyDrive/Colab Notebooks/project/data/xView_train.geojson:  25%|██▍       | 150338/601937 [19:39<50:31, 148.98it/s]"
          ]
        },
        {
          "output_type": "stream",
          "name": "stdout",
          "text": [
            "WARNING: skipping one label for /content/drive/MyDrive/Colab Notebooks/project/data/train_images/2031.tif: incorrect class index -1\n"
          ]
        },
        {
          "output_type": "stream",
          "name": "stderr",
          "text": [
            "Converting /content/drive/MyDrive/Colab Notebooks/project/data/xView_train.geojson:  25%|██▌       | 150942/601937 [19:43<54:50, 137.04it/s]"
          ]
        },
        {
          "output_type": "stream",
          "name": "stdout",
          "text": [
            "WARNING: skipping one label for /content/drive/MyDrive/Colab Notebooks/project/data/train_images/2031.tif: incorrect class index -1\n"
          ]
        },
        {
          "output_type": "stream",
          "name": "stderr",
          "text": [
            "Converting /content/drive/MyDrive/Colab Notebooks/project/data/xView_train.geojson:  25%|██▌       | 151230/601937 [19:45<55:35, 135.14it/s]"
          ]
        },
        {
          "output_type": "stream",
          "name": "stdout",
          "text": [
            "WARNING: skipping one label for /content/drive/MyDrive/Colab Notebooks/project/data/train_images/2031.tif: incorrect class index -1\n",
            "WARNING: skipping one label for /content/drive/MyDrive/Colab Notebooks/project/data/train_images/2031.tif: incorrect class index -1\n"
          ]
        },
        {
          "output_type": "stream",
          "name": "stderr",
          "text": [
            "Converting /content/drive/MyDrive/Colab Notebooks/project/data/xView_train.geojson:  25%|██▌       | 151308/601937 [19:46<51:04, 147.03it/s]"
          ]
        },
        {
          "output_type": "stream",
          "name": "stdout",
          "text": [
            "WARNING: skipping one label for /content/drive/MyDrive/Colab Notebooks/project/data/train_images/2031.tif: incorrect class index -1\n",
            "WARNING: skipping one label for /content/drive/MyDrive/Colab Notebooks/project/data/train_images/2031.tif: incorrect class index -1\n",
            "WARNING: skipping one label for /content/drive/MyDrive/Colab Notebooks/project/data/train_images/2031.tif: incorrect class index -1\n"
          ]
        },
        {
          "output_type": "stream",
          "name": "stderr",
          "text": [
            "Converting /content/drive/MyDrive/Colab Notebooks/project/data/xView_train.geojson:  25%|██▌       | 151353/601937 [19:46<52:24, 143.31it/s]"
          ]
        },
        {
          "output_type": "stream",
          "name": "stdout",
          "text": [
            "WARNING: skipping one label for /content/drive/MyDrive/Colab Notebooks/project/data/train_images/2031.tif: incorrect class index -1\n"
          ]
        },
        {
          "output_type": "stream",
          "name": "stderr",
          "text": [
            "Converting /content/drive/MyDrive/Colab Notebooks/project/data/xView_train.geojson:  25%|██▌       | 151400/601937 [19:47<50:36, 148.39it/s]"
          ]
        },
        {
          "output_type": "stream",
          "name": "stdout",
          "text": [
            "WARNING: skipping one label for /content/drive/MyDrive/Colab Notebooks/project/data/train_images/2031.tif: incorrect class index -1\n"
          ]
        },
        {
          "output_type": "stream",
          "name": "stderr",
          "text": [
            "Converting /content/drive/MyDrive/Colab Notebooks/project/data/xView_train.geojson:  25%|██▌       | 151661/601937 [19:48<55:50, 134.41it/s]"
          ]
        },
        {
          "output_type": "stream",
          "name": "stdout",
          "text": [
            "WARNING: skipping one label for /content/drive/MyDrive/Colab Notebooks/project/data/train_images/2032.tif: incorrect class index -1\n"
          ]
        },
        {
          "output_type": "stream",
          "name": "stderr",
          "text": [
            "Converting /content/drive/MyDrive/Colab Notebooks/project/data/xView_train.geojson:  25%|██▌       | 152432/601937 [19:54<54:02, 138.64it/s]"
          ]
        },
        {
          "output_type": "stream",
          "name": "stdout",
          "text": [
            "WARNING: skipping one label for /content/drive/MyDrive/Colab Notebooks/project/data/train_images/2032.tif: incorrect class index -1\n"
          ]
        },
        {
          "output_type": "stream",
          "name": "stderr",
          "text": [
            "Converting /content/drive/MyDrive/Colab Notebooks/project/data/xView_train.geojson:  25%|██▌       | 152552/601937 [19:55<53:59, 138.72it/s]"
          ]
        },
        {
          "output_type": "stream",
          "name": "stdout",
          "text": [
            "WARNING: skipping one label for /content/drive/MyDrive/Colab Notebooks/project/data/train_images/2032.tif: incorrect class index -1\n"
          ]
        },
        {
          "output_type": "stream",
          "name": "stderr",
          "text": [
            "Converting /content/drive/MyDrive/Colab Notebooks/project/data/xView_train.geojson:  25%|██▌       | 152757/601937 [19:57<53:04, 141.06it/s]"
          ]
        },
        {
          "output_type": "stream",
          "name": "stdout",
          "text": [
            "WARNING: skipping one label for /content/drive/MyDrive/Colab Notebooks/project/data/train_images/2032.tif: incorrect class index -1\n"
          ]
        },
        {
          "output_type": "stream",
          "name": "stderr",
          "text": [
            "Converting /content/drive/MyDrive/Colab Notebooks/project/data/xView_train.geojson:  27%|██▋       | 163151/601937 [21:16<1:00:29, 120.91it/s]"
          ]
        },
        {
          "output_type": "stream",
          "name": "stdout",
          "text": [
            "WARNING: skipping one label for /content/drive/MyDrive/Colab Notebooks/project/data/train_images/1052.tif: incorrect class index -1\n"
          ]
        },
        {
          "output_type": "stream",
          "name": "stderr",
          "text": [
            "Converting /content/drive/MyDrive/Colab Notebooks/project/data/xView_train.geojson:  29%|██▉       | 177069/601937 [23:02<53:05, 133.35it/s]"
          ]
        },
        {
          "output_type": "stream",
          "name": "stdout",
          "text": [
            "WARNING: skipping one label for /content/drive/MyDrive/Colab Notebooks/project/data/train_images/523.tif: incorrect class index -1\n"
          ]
        },
        {
          "output_type": "stream",
          "name": "stderr",
          "text": [
            "Converting /content/drive/MyDrive/Colab Notebooks/project/data/xView_train.geojson:  29%|██▉       | 177252/601937 [23:04<56:33, 125.16it/s]"
          ]
        },
        {
          "output_type": "stream",
          "name": "stdout",
          "text": [
            "WARNING: skipping one label for /content/drive/MyDrive/Colab Notebooks/project/data/train_images/523.tif: incorrect class index -1\n"
          ]
        },
        {
          "output_type": "stream",
          "name": "stderr",
          "text": [
            "Converting /content/drive/MyDrive/Colab Notebooks/project/data/xView_train.geojson:  30%|██▉       | 180327/601937 [23:28<53:32, 131.23it/s]"
          ]
        },
        {
          "output_type": "stream",
          "name": "stdout",
          "text": [
            "WARNING: skipping one label for /content/drive/MyDrive/Colab Notebooks/project/data/train_images/525.tif: incorrect class index -1\n"
          ]
        },
        {
          "output_type": "stream",
          "name": "stderr",
          "text": [
            "Converting /content/drive/MyDrive/Colab Notebooks/project/data/xView_train.geojson:  32%|███▏      | 189716/601937 [24:45<49:24, 139.07it/s]"
          ]
        },
        {
          "output_type": "stream",
          "name": "stdout",
          "text": [
            "WARNING: skipping one label for /content/drive/MyDrive/Colab Notebooks/project/data/train_images/548.tif: incorrect class index -1\n"
          ]
        },
        {
          "output_type": "stream",
          "name": "stderr",
          "text": [
            "Converting /content/drive/MyDrive/Colab Notebooks/project/data/xView_train.geojson:  33%|███▎      | 197347/601937 [25:46<56:33, 119.21it/s]"
          ]
        }
      ],
      "source": [
        "convert_labels(Path(geojson_file_path))"
      ]
    },
    {
      "cell_type": "code",
      "source": [],
      "metadata": {
        "id": "hL1Uqx4oWBhL"
      },
      "execution_count": null,
      "outputs": []
    }
  ],
  "metadata": {
    "colab": {
      "provenance": [],
      "mount_file_id": "1bouhbiRicCpaJnba_1VBa8NXFZS471lJ",
      "authorship_tag": "ABX9TyOfYpjxMzjbyMRqMH0GRJ+i",
      "include_colab_link": true
    },
    "kernelspec": {
      "display_name": "Python 3",
      "name": "python3"
    },
    "language_info": {
      "name": "python"
    }
  },
  "nbformat": 4,
  "nbformat_minor": 0
}