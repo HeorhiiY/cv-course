{
  "cells": [
    {
      "cell_type": "markdown",
      "metadata": {
        "id": "FUMzrTdcatxI"
      },
      "source": [
        "# Prepare data\n",
        "\n",
        "First the data is copied from the google drive into colab for faster processing time"
      ]
    },
    {
      "cell_type": "code",
      "execution_count": 1,
      "metadata": {
        "id": "6GtGmauyQRwB"
      },
      "outputs": [],
      "source": [
        "!cp -r \"/content/drive/MyDrive/Colab Notebooks/project/tif_images.tar\" /content/"
      ]
    },
    {
      "cell_type": "code",
      "execution_count": 2,
      "metadata": {
        "id": "u-8rQh7sTCzJ"
      },
      "outputs": [],
      "source": [
        "!tar -xf /content/tif_images.tar -C /content"
      ]
    },
    {
      "cell_type": "code",
      "execution_count": 3,
      "metadata": {
        "id": "0DllKLIabLBE"
      },
      "outputs": [],
      "source": [
        "# delete old labels from first test runs\n",
        "!rm -rf \"/content/tif_images/train/labels\"\n",
        "!rm -rf \"/content/tif_images/val/labels\"\n",
        "!rm -rf \"/content/tif_images/val/labels.cache\"\n",
        "!rm -rf \"/content/tif_images/train/labels.cache\""
      ]
    },
    {
      "cell_type": "markdown",
      "metadata": {
        "id": "mu8NI0UNa4PQ"
      },
      "source": [
        "Quick check whether number of iamges and labels are the same"
      ]
    },
    {
      "cell_type": "code",
      "execution_count": 4,
      "metadata": {
        "colab": {
          "base_uri": "https://localhost:8080/"
        },
        "id": "fsVEFI0cfKDz",
        "outputId": "6558be71-faca-4f41-ff85-ca738a85be90"
      },
      "outputs": [
        {
          "output_type": "stream",
          "name": "stdout",
          "text": [
            "Collecting ultralytics\n",
            "  Downloading ultralytics-8.3.53-py3-none-any.whl.metadata (35 kB)\n",
            "Requirement already satisfied: numpy>=1.23.0 in /usr/local/lib/python3.10/dist-packages (from ultralytics) (1.26.4)\n",
            "Requirement already satisfied: matplotlib>=3.3.0 in /usr/local/lib/python3.10/dist-packages (from ultralytics) (3.8.0)\n",
            "Requirement already satisfied: opencv-python>=4.6.0 in /usr/local/lib/python3.10/dist-packages (from ultralytics) (4.10.0.84)\n",
            "Requirement already satisfied: pillow>=7.1.2 in /usr/local/lib/python3.10/dist-packages (from ultralytics) (11.0.0)\n",
            "Requirement already satisfied: pyyaml>=5.3.1 in /usr/local/lib/python3.10/dist-packages (from ultralytics) (6.0.2)\n",
            "Requirement already satisfied: requests>=2.23.0 in /usr/local/lib/python3.10/dist-packages (from ultralytics) (2.32.3)\n",
            "Requirement already satisfied: scipy>=1.4.1 in /usr/local/lib/python3.10/dist-packages (from ultralytics) (1.13.1)\n",
            "Requirement already satisfied: torch>=1.8.0 in /usr/local/lib/python3.10/dist-packages (from ultralytics) (2.5.1+cu121)\n",
            "Requirement already satisfied: torchvision>=0.9.0 in /usr/local/lib/python3.10/dist-packages (from ultralytics) (0.20.1+cu121)\n",
            "Requirement already satisfied: tqdm>=4.64.0 in /usr/local/lib/python3.10/dist-packages (from ultralytics) (4.67.1)\n",
            "Requirement already satisfied: psutil in /usr/local/lib/python3.10/dist-packages (from ultralytics) (5.9.5)\n",
            "Requirement already satisfied: py-cpuinfo in /usr/local/lib/python3.10/dist-packages (from ultralytics) (9.0.0)\n",
            "Requirement already satisfied: pandas>=1.1.4 in /usr/local/lib/python3.10/dist-packages (from ultralytics) (2.2.2)\n",
            "Requirement already satisfied: seaborn>=0.11.0 in /usr/local/lib/python3.10/dist-packages (from ultralytics) (0.13.2)\n",
            "Collecting ultralytics-thop>=2.0.0 (from ultralytics)\n",
            "  Downloading ultralytics_thop-2.0.13-py3-none-any.whl.metadata (9.4 kB)\n",
            "Requirement already satisfied: contourpy>=1.0.1 in /usr/local/lib/python3.10/dist-packages (from matplotlib>=3.3.0->ultralytics) (1.3.1)\n",
            "Requirement already satisfied: cycler>=0.10 in /usr/local/lib/python3.10/dist-packages (from matplotlib>=3.3.0->ultralytics) (0.12.1)\n",
            "Requirement already satisfied: fonttools>=4.22.0 in /usr/local/lib/python3.10/dist-packages (from matplotlib>=3.3.0->ultralytics) (4.55.3)\n",
            "Requirement already satisfied: kiwisolver>=1.0.1 in /usr/local/lib/python3.10/dist-packages (from matplotlib>=3.3.0->ultralytics) (1.4.7)\n",
            "Requirement already satisfied: packaging>=20.0 in /usr/local/lib/python3.10/dist-packages (from matplotlib>=3.3.0->ultralytics) (24.2)\n",
            "Requirement already satisfied: pyparsing>=2.3.1 in /usr/local/lib/python3.10/dist-packages (from matplotlib>=3.3.0->ultralytics) (3.2.0)\n",
            "Requirement already satisfied: python-dateutil>=2.7 in /usr/local/lib/python3.10/dist-packages (from matplotlib>=3.3.0->ultralytics) (2.8.2)\n",
            "Requirement already satisfied: pytz>=2020.1 in /usr/local/lib/python3.10/dist-packages (from pandas>=1.1.4->ultralytics) (2024.2)\n",
            "Requirement already satisfied: tzdata>=2022.7 in /usr/local/lib/python3.10/dist-packages (from pandas>=1.1.4->ultralytics) (2024.2)\n",
            "Requirement already satisfied: charset-normalizer<4,>=2 in /usr/local/lib/python3.10/dist-packages (from requests>=2.23.0->ultralytics) (3.4.0)\n",
            "Requirement already satisfied: idna<4,>=2.5 in /usr/local/lib/python3.10/dist-packages (from requests>=2.23.0->ultralytics) (3.10)\n",
            "Requirement already satisfied: urllib3<3,>=1.21.1 in /usr/local/lib/python3.10/dist-packages (from requests>=2.23.0->ultralytics) (2.2.3)\n",
            "Requirement already satisfied: certifi>=2017.4.17 in /usr/local/lib/python3.10/dist-packages (from requests>=2.23.0->ultralytics) (2024.12.14)\n",
            "Requirement already satisfied: filelock in /usr/local/lib/python3.10/dist-packages (from torch>=1.8.0->ultralytics) (3.16.1)\n",
            "Requirement already satisfied: typing-extensions>=4.8.0 in /usr/local/lib/python3.10/dist-packages (from torch>=1.8.0->ultralytics) (4.12.2)\n",
            "Requirement already satisfied: networkx in /usr/local/lib/python3.10/dist-packages (from torch>=1.8.0->ultralytics) (3.4.2)\n",
            "Requirement already satisfied: jinja2 in /usr/local/lib/python3.10/dist-packages (from torch>=1.8.0->ultralytics) (3.1.4)\n",
            "Requirement already satisfied: fsspec in /usr/local/lib/python3.10/dist-packages (from torch>=1.8.0->ultralytics) (2024.10.0)\n",
            "Requirement already satisfied: sympy==1.13.1 in /usr/local/lib/python3.10/dist-packages (from torch>=1.8.0->ultralytics) (1.13.1)\n",
            "Requirement already satisfied: mpmath<1.4,>=1.1.0 in /usr/local/lib/python3.10/dist-packages (from sympy==1.13.1->torch>=1.8.0->ultralytics) (1.3.0)\n",
            "Requirement already satisfied: six>=1.5 in /usr/local/lib/python3.10/dist-packages (from python-dateutil>=2.7->matplotlib>=3.3.0->ultralytics) (1.17.0)\n",
            "Requirement already satisfied: MarkupSafe>=2.0 in /usr/local/lib/python3.10/dist-packages (from jinja2->torch>=1.8.0->ultralytics) (3.0.2)\n",
            "Downloading ultralytics-8.3.53-py3-none-any.whl (902 kB)\n",
            "\u001b[2K   \u001b[90m━━━━━━━━━━━━━━━━━━━━━━━━━━━━━━━━━━━━━━━━\u001b[0m \u001b[32m902.2/902.2 kB\u001b[0m \u001b[31m57.0 MB/s\u001b[0m eta \u001b[36m0:00:00\u001b[0m\n",
            "\u001b[?25hDownloading ultralytics_thop-2.0.13-py3-none-any.whl (26 kB)\n",
            "Installing collected packages: ultralytics-thop, ultralytics\n",
            "Successfully installed ultralytics-8.3.53 ultralytics-thop-2.0.13\n"
          ]
        }
      ],
      "source": [
        "# install ultrlytics\n",
        "!pip install ultralytics"
      ]
    },
    {
      "cell_type": "code",
      "execution_count": 13,
      "metadata": {
        "id": "vN0wG2bpcmUD"
      },
      "outputs": [],
      "source": [
        "# all imports\n",
        "from pathlib import Path\n",
        "from tqdm import tqdm\n",
        "import torch\n",
        "import matplotlib.pyplot as plt\n",
        "import os\n",
        "import shutil\n",
        "import ultralytics\n",
        "from ultralytics import YOLO"
      ]
    },
    {
      "cell_type": "code",
      "execution_count": null,
      "metadata": {
        "id": "WgRSILhmTLus"
      },
      "outputs": [],
      "source": [
        "\n",
        "\n",
        "def count_files_in_folder(folder_path):\n",
        "    \"\"\"\n",
        "    Counts the number of files in a given folder using pathlib.\n",
        "\n",
        "    Parameters:\n",
        "    folder_path (str): Path to the folder.\n",
        "\n",
        "    Returns:\n",
        "    int: Number of files in the folder.\n",
        "    \"\"\"\n",
        "    path = Path(folder_path)\n",
        "\n",
        "    if not path.exists():\n",
        "        raise FileNotFoundError(f\"The folder '{folder_path}' does not exist.\")\n",
        "\n",
        "    if not path.is_dir():\n",
        "        raise NotADirectoryError(f\"'{folder_path}' is not a directory.\")\n",
        "\n",
        "    # Use Path.iterdir() for faster iteration\n",
        "    return sum(1 for item in path.iterdir() if item.is_file())"
      ]
    },
    {
      "cell_type": "code",
      "execution_count": null,
      "metadata": {
        "id": "9JMxKWYwWfYg"
      },
      "outputs": [],
      "source": [
        "folder = Path(r\"/content/tif_images\")"
      ]
    },
    {
      "cell_type": "code",
      "execution_count": null,
      "metadata": {
        "colab": {
          "base_uri": "https://localhost:8080/"
        },
        "id": "29zRgZmDWhgR",
        "outputId": "fe986e5d-9df7-4cef-a307-15af2c829798"
      },
      "outputs": [
        {
          "name": "stdout",
          "output_type": "stream",
          "text": [
            "27299\n",
            "6830\n",
            "27299\n",
            "6830\n"
          ]
        }
      ],
      "source": [
        "train_im = folder / \"train\" / \"images\"\n",
        "val_im = folder / \"val\" / \"images\"\n",
        "train_labels = folder/ \"labels_general_train\"\n",
        "val_labels = folder / \"labels_general_val\"\n",
        "print(count_files_in_folder(train_labels))\n",
        "print(count_files_in_folder(val_labels))\n",
        "print(count_files_in_folder(train_im))\n",
        "print(count_files_in_folder(val_im))"
      ]
    },
    {
      "cell_type": "markdown",
      "metadata": {
        "id": "-btyx7skbr3j"
      },
      "source": [
        "## Create labels\n",
        "From labels with 60 classes, simplified labels with 1 class only is created"
      ]
    },
    {
      "cell_type": "code",
      "execution_count": null,
      "metadata": {
        "id": "42Ma2xRFdKTf"
      },
      "outputs": [],
      "source": [
        "# Reminder how the labels look like\n",
        "\n",
        "parent_labels_dict = {\n",
        "    -1: \"None\",\n",
        "    0: \"Fixed-wing Aircraft\",\n",
        "    1: \"Passenger Vehicle\",\n",
        "    2: \"Truck\",\n",
        "    3: \"Railway Vehicle\",\n",
        "    4: \"Maritime Vessel\",\n",
        "    5: \"Engineering Vehicle\",\n",
        "    6: \"Building\"\n",
        "}\n",
        "\n",
        "labels_dict = {\n",
        "    0: \"Fixed-wing Aircraft\",\n",
        "    1: \"Small Aircraft\",\n",
        "    2: \"Cargo Plane\",\n",
        "    3: \"Helicopter\",\n",
        "    4: \"Passenger Vehicle\",\n",
        "    5: \"Small Car\",\n",
        "    6: \"Bus\",\n",
        "    7: \"Pickup Truck\",\n",
        "    8: \"Utility Truck\",\n",
        "    9: \"Truck\",\n",
        "    10: \"Cargo Truck\",\n",
        "    11: \"Truck w/Box\",\n",
        "    12: \"Truck Tractor\",\n",
        "    13: \"Trailer\",\n",
        "    14: \"Truck w/Flatbed\",\n",
        "    15: \"Truck w/Liquid\",\n",
        "    16: \"Crane Truck\",\n",
        "    17: \"Railway Vehicle\",\n",
        "    18: \"Passenger Car\",\n",
        "    19: \"Cargo Car\",\n",
        "    20: \"Flat Car\",\n",
        "    21: \"Tank car\",\n",
        "    22: \"Locomotive\",\n",
        "    23: \"Maritime Vessel\",\n",
        "    24: \"Motorboat\",\n",
        "    25: \"Sailboat\",\n",
        "    26: \"Tugboat\",\n",
        "    27: \"Barge\",\n",
        "    28: \"Fishing Vessel\",\n",
        "    29: \"Ferry\",\n",
        "    30: \"Yacht\",\n",
        "    31: \"Container Ship\",\n",
        "    32: \"Oil Tanker\",\n",
        "    33: \"Engineering Vehicle\",\n",
        "    34: \"Tower crane\",\n",
        "    35: \"Container Crane\",\n",
        "    36: \"Reach Stacker\",\n",
        "    37: \"Straddle Carrier\",\n",
        "    38: \"Mobile Crane\",\n",
        "    39: \"Dump Truck\",\n",
        "    40: \"Haul Truck\",\n",
        "    41: \"Scraper/Tractor\",\n",
        "    42: \"Front loader/Bulldozer\",\n",
        "    43: \"Excavator\",\n",
        "    44: \"Cement Mixer\",\n",
        "    45: \"Ground Grader\",\n",
        "    46: \"Hut/Tent\",\n",
        "    47: \"Shed\",\n",
        "    48: \"Building\",\n",
        "    49: \"Aircraft Hangar\",\n",
        "    50: \"Damaged Building\",\n",
        "    51: \"Facility\",\n",
        "    52: \"Construction Site\",\n",
        "    53: \"Vehicle Lot\",\n",
        "    54: \"Helipad\",\n",
        "    55: \"Storage Tank\",\n",
        "    56: \"Shipping container lot\",\n",
        "    57: \"Shipping Container\",\n",
        "    58: \"Pylon\",\n",
        "    59: \"Tower\"\n",
        "}"
      ]
    },
    {
      "cell_type": "code",
      "execution_count": 6,
      "metadata": {
        "colab": {
          "base_uri": "https://localhost:8080/"
        },
        "id": "AHTASUnoWnQd",
        "outputId": "d76a5244-df48-453e-a626-c219af4c5411"
      },
      "outputs": [
        {
          "output_type": "stream",
          "name": "stderr",
          "text": [
            "100%|██████████| 27299/27299 [00:02<00:00, 11390.45it/s]\n",
            "100%|██████████| 6830/6830 [00:00<00:00, 10045.53it/s]"
          ]
        },
        {
          "output_type": "stream",
          "name": "stdout",
          "text": [
            "Labels processed and saved successfully!\n"
          ]
        },
        {
          "output_type": "stream",
          "name": "stderr",
          "text": [
            "\n"
          ]
        }
      ],
      "source": [
        "def convert_class_road_vehicle(child_class):\n",
        "  if 4 <= child_class <= 16:\n",
        "    return 0\n",
        "  else:\n",
        "    return -1\n",
        "\n",
        "def convert_class_building(child_class):\n",
        "  if child_class == 48:\n",
        "    return 0\n",
        "  else:\n",
        "    return -1\n",
        "\n",
        "def convert_class_car(child_class):\n",
        "  if child_class == 5:\n",
        "    return 0\n",
        "  else:\n",
        "    return -1\n",
        "\n",
        "\n",
        "# Source and target directories\n",
        "source_train_labels = \"/content/tif_images/labels_general_train\"\n",
        "source_val_labels = \"/content/tif_images/labels_general_val\"\n",
        "target_train_labels = \"/content/tif_images/train/labels\"\n",
        "target_val_labels = \"/content/tif_images/val/labels\"\n",
        "\n",
        "# Ensure target directories exist\n",
        "os.makedirs(target_train_labels, exist_ok=True)\n",
        "os.makedirs(target_val_labels, exist_ok=True)\n",
        "\n",
        "def process_labels(source_folder, target_folder, convert_function):\n",
        "    \"\"\"\n",
        "    Process labels by applying class mapping and copying to the target folder.\n",
        "    \"\"\"\n",
        "    for label_file in tqdm(os.listdir(source_folder)):\n",
        "        if label_file.endswith(\".txt\"):\n",
        "            source_label_path = os.path.join(source_folder, label_file)\n",
        "            target_label_path = os.path.join(target_folder, label_file)\n",
        "\n",
        "            # Read the label file\n",
        "            with open(source_label_path, \"r\") as f:\n",
        "                lines = f.readlines()\n",
        "\n",
        "            # Process the label lines with the class mapping\n",
        "            new_lines = []\n",
        "            for line in lines:\n",
        "                parts = line.strip().split()\n",
        "                class_id = int(float(parts[0]))  # Original class ID\n",
        "                new_class_id = convert_function(class_id)\n",
        "                if new_class_id == -1:\n",
        "                    continue\n",
        "                parts[0] = str(new_class_id)\n",
        "                new_lines.append(\" \".join(parts))\n",
        "\n",
        "\n",
        "            # If any labels are valid, save them to the target folder\n",
        "            if new_lines:\n",
        "                with open(target_label_path, \"w\") as f:\n",
        "                    f.write(\"\\n\".join(new_lines) + \"\\n\")\n",
        "            else:\n",
        "                # If no valid labels, create an empty label file\n",
        "                with open(target_label_path, \"w\") as f:\n",
        "                    pass  # Empty file\n",
        "\n",
        "# Process train and val labels\n",
        "process_labels(source_train_labels, target_train_labels, convert_class_car)\n",
        "process_labels(source_val_labels, target_val_labels, convert_class_car)\n",
        "\n",
        "print(\"Labels processed and saved successfully!\")"
      ]
    },
    {
      "cell_type": "markdown",
      "metadata": {
        "id": "-VY_QNEdarNK"
      },
      "source": []
    },
    {
      "cell_type": "code",
      "execution_count": 7,
      "metadata": {
        "id": "3qkMWyhYWo5P"
      },
      "outputs": [],
      "source": [
        "# prepare config\n",
        "config = \"\"\"\n",
        "# train and val datasets (image directory or *.txt file with image paths)\n",
        "train: /content/tif_images/train\n",
        "val: /content/tif_images/val\n",
        "\n",
        "# number of classes\n",
        "nc: 1\n",
        "\n",
        "# class names\n",
        "names: ['Car']\n",
        "\"\"\"\n",
        "\n",
        "with open(\"/content/data.yaml\", \"w\") as f:\n",
        "    f.write(config)"
      ]
    },
    {
      "cell_type": "code",
      "source": [
        "checkpoint_path = \"/content/last.pt\"\n",
        "\n",
        "try:\n",
        "    checkpoint = torch.load(checkpoint_path, map_location=\"cpu\")\n",
        "    print(\"Checkpoint keys: \", checkpoint.keys())\n",
        "except Exception as e:\n",
        "    print(f\"Error loading checkpoint: {e}\")"
      ],
      "metadata": {
        "colab": {
          "base_uri": "https://localhost:8080/"
        },
        "id": "bJeWZ-BGUMou",
        "outputId": "0f7787d4-f237-4da7-c676-b91f54ccca4d"
      },
      "execution_count": 12,
      "outputs": [
        {
          "output_type": "stream",
          "name": "stdout",
          "text": [
            "Error loading checkpoint: PytorchStreamReader failed reading zip archive: failed finding central directory\n"
          ]
        }
      ]
    },
    {
      "cell_type": "code",
      "execution_count": 14,
      "metadata": {
        "colab": {
          "base_uri": "https://localhost:8080/"
        },
        "id": "TmJ1ChhwW__z",
        "outputId": "2aa40d9a-9a1c-449f-a997-ae3bf2209674"
      },
      "outputs": [
        {
          "metadata": {
            "tags": null
          },
          "name": "stdout",
          "output_type": "stream",
          "text": [
            "Downloading https://github.com/ultralytics/assets/releases/download/v8.3.0/yolov8m.pt to 'yolov8m.pt'...\n",
            "100% 49.7M/49.7M [00:00<00:00, 223MB/s]\n",
            "Ultralytics 8.3.53 🚀 Python-3.10.12 torch-2.5.1+cu121 CUDA:0 (NVIDIA A100-SXM4-40GB, 40514MiB)\n",
            "\u001b[34m\u001b[1mengine/trainer: \u001b[0mtask=detect, mode=train, model=yolov8m.pt, data=/content/data.yaml, epochs=30, time=None, patience=100, batch=16, imgsz=512, save=True, save_period=-1, cache=False, device=None, workers=8, project=None, name=train, exist_ok=False, pretrained=True, optimizer=auto, verbose=True, seed=0, deterministic=True, single_cls=False, rect=False, cos_lr=False, close_mosaic=10, resume=False, amp=True, fraction=1.0, profile=False, freeze=None, multi_scale=False, overlap_mask=True, mask_ratio=4, dropout=0.0, val=True, split=val, save_json=False, save_hybrid=False, conf=None, iou=0.7, max_det=300, half=False, dnn=False, plots=True, source=None, vid_stride=1, stream_buffer=False, visualize=False, augment=False, agnostic_nms=False, classes=None, retina_masks=False, embed=None, show=False, save_frames=False, save_txt=False, save_conf=False, save_crop=False, show_labels=True, show_conf=True, show_boxes=True, line_width=None, format=torchscript, keras=False, optimize=False, int8=False, dynamic=False, simplify=True, opset=None, workspace=None, nms=False, lr0=0.01, lrf=0.01, momentum=0.937, weight_decay=0.0005, warmup_epochs=3.0, warmup_momentum=0.8, warmup_bias_lr=0.1, box=7.5, cls=0.5, dfl=1.5, pose=12.0, kobj=1.0, nbs=64, hsv_h=0.015, hsv_s=0.7, hsv_v=0.4, degrees=0.0, translate=0.1, scale=0.0, shear=0.0, perspective=0.0, flipud=0.5, fliplr=0.5, bgr=0.0, mosaic=0.0, mixup=0.0, copy_paste=0.0, copy_paste_mode=flip, auto_augment=randaugment, erasing=0.4, crop_fraction=1.0, cfg=None, tracker=botsort.yaml, save_dir=runs/detect/train\n",
            "Downloading https://ultralytics.com/assets/Arial.ttf to '/root/.config/Ultralytics/Arial.ttf'...\n",
            "100% 755k/755k [00:00<00:00, 146MB/s]\n",
            "Overriding model.yaml nc=80 with nc=1\n",
            "\n",
            "                   from  n    params  module                                       arguments                     \n",
            "  0                  -1  1      1392  ultralytics.nn.modules.conv.Conv             [3, 48, 3, 2]                 \n",
            "  1                  -1  1     41664  ultralytics.nn.modules.conv.Conv             [48, 96, 3, 2]                \n",
            "  2                  -1  2    111360  ultralytics.nn.modules.block.C2f             [96, 96, 2, True]             \n",
            "  3                  -1  1    166272  ultralytics.nn.modules.conv.Conv             [96, 192, 3, 2]               \n",
            "  4                  -1  4    813312  ultralytics.nn.modules.block.C2f             [192, 192, 4, True]           \n",
            "  5                  -1  1    664320  ultralytics.nn.modules.conv.Conv             [192, 384, 3, 2]              \n",
            "  6                  -1  4   3248640  ultralytics.nn.modules.block.C2f             [384, 384, 4, True]           \n",
            "  7                  -1  1   1991808  ultralytics.nn.modules.conv.Conv             [384, 576, 3, 2]              \n",
            "  8                  -1  2   3985920  ultralytics.nn.modules.block.C2f             [576, 576, 2, True]           \n",
            "  9                  -1  1    831168  ultralytics.nn.modules.block.SPPF            [576, 576, 5]                 \n",
            " 10                  -1  1         0  torch.nn.modules.upsampling.Upsample         [None, 2, 'nearest']          \n",
            " 11             [-1, 6]  1         0  ultralytics.nn.modules.conv.Concat           [1]                           \n",
            " 12                  -1  2   1993728  ultralytics.nn.modules.block.C2f             [960, 384, 2]                 \n",
            " 13                  -1  1         0  torch.nn.modules.upsampling.Upsample         [None, 2, 'nearest']          \n",
            " 14             [-1, 4]  1         0  ultralytics.nn.modules.conv.Concat           [1]                           \n",
            " 15                  -1  2    517632  ultralytics.nn.modules.block.C2f             [576, 192, 2]                 \n",
            " 16                  -1  1    332160  ultralytics.nn.modules.conv.Conv             [192, 192, 3, 2]              \n",
            " 17            [-1, 12]  1         0  ultralytics.nn.modules.conv.Concat           [1]                           \n",
            " 18                  -1  2   1846272  ultralytics.nn.modules.block.C2f             [576, 384, 2]                 \n",
            " 19                  -1  1   1327872  ultralytics.nn.modules.conv.Conv             [384, 384, 3, 2]              \n",
            " 20             [-1, 9]  1         0  ultralytics.nn.modules.conv.Concat           [1]                           \n",
            " 21                  -1  2   4207104  ultralytics.nn.modules.block.C2f             [960, 576, 2]                 \n",
            " 22        [15, 18, 21]  1   3776275  ultralytics.nn.modules.head.Detect           [1, [192, 384, 576]]          \n",
            "Model summary: 295 layers, 25,856,899 parameters, 25,856,883 gradients, 79.1 GFLOPs\n",
            "\n",
            "Transferred 469/475 items from pretrained weights\n",
            "\u001b[34m\u001b[1mTensorBoard: \u001b[0mStart with 'tensorboard --logdir runs/detect/train', view at http://localhost:6006/\n",
            "Freezing layer 'model.22.dfl.conv.weight'\n",
            "\u001b[34m\u001b[1mAMP: \u001b[0mrunning Automatic Mixed Precision (AMP) checks...\n",
            "Downloading https://github.com/ultralytics/assets/releases/download/v8.3.0/yolo11n.pt to 'yolo11n.pt'...\n",
            "100% 5.35M/5.35M [00:00<00:00, 427MB/s]\n",
            "\u001b[34m\u001b[1mAMP: \u001b[0mchecks passed ✅\n",
            "\u001b[34m\u001b[1mtrain: \u001b[0mScanning /content/tif_images/train/labels... 27299 images, 18627 backgrounds, 0 corrupt: 100% 27299/27299 [00:27<00:00, 1005.99it/s]\n",
            "\u001b[34m\u001b[1mtrain: \u001b[0mWARNING ⚠️ /content/tif_images/train/images/1529_448_896.tif: 1 duplicate labels removed\n",
            "\u001b[34m\u001b[1mtrain: \u001b[0mWARNING ⚠️ /content/tif_images/train/images/18_0_0.tif: 1 duplicate labels removed\n",
            "\u001b[34m\u001b[1mtrain: \u001b[0mWARNING ⚠️ /content/tif_images/train/images/217_2688_2240.tif: 1 duplicate labels removed\n",
            "\u001b[34m\u001b[1mtrain: \u001b[0mWARNING ⚠️ /content/tif_images/train/images/252_3136_1792.tif: 1 duplicate labels removed\n",
            "\u001b[34m\u001b[1mtrain: \u001b[0mWARNING ⚠️ /content/tif_images/train/images/562_0_448.tif: 1 duplicate labels removed\n",
            "\u001b[34m\u001b[1mtrain: \u001b[0mNew cache created: /content/tif_images/train/labels.cache\n",
            "/usr/local/lib/python3.10/dist-packages/albumentations/__init__.py:24: UserWarning: A new version of Albumentations is available: 1.4.23 (you have 1.4.20). Upgrade using: pip install -U albumentations. To disable automatic update checks, set the environment variable NO_ALBUMENTATIONS_UPDATE to 1.\n",
            "  check_for_updates()\n",
            "\u001b[34m\u001b[1malbumentations: \u001b[0mBlur(p=0.01, blur_limit=(3, 7)), MedianBlur(p=0.01, blur_limit=(3, 7)), ToGray(p=0.01, num_output_channels=3, method='weighted_average'), CLAHE(p=0.01, clip_limit=(1.0, 4.0), tile_grid_size=(8, 8))\n",
            "\u001b[34m\u001b[1mval: \u001b[0mScanning /content/tif_images/val/labels... 6830 images, 4326 backgrounds, 0 corrupt: 100% 6830/6830 [00:07<00:00, 956.47it/s]\n",
            "\u001b[34m\u001b[1mval: \u001b[0mWARNING ⚠️ /content/tif_images/val/images/600_896_1344.tif: 1 duplicate labels removed\n",
            "\u001b[34m\u001b[1mval: \u001b[0mWARNING ⚠️ /content/tif_images/val/images/600_896_1792.tif: 1 duplicate labels removed\n",
            "\u001b[34m\u001b[1mval: \u001b[0mNew cache created: /content/tif_images/val/labels.cache\n",
            "Plotting labels to runs/detect/train/labels.jpg... \n",
            "\u001b[34m\u001b[1moptimizer:\u001b[0m 'optimizer=auto' found, ignoring 'lr0=0.01' and 'momentum=0.937' and determining best 'optimizer', 'lr0' and 'momentum' automatically... \n",
            "\u001b[34m\u001b[1moptimizer:\u001b[0m SGD(lr=0.01, momentum=0.9) with parameter groups 77 weight(decay=0.0), 84 weight(decay=0.0005), 83 bias(decay=0.0)\n",
            "\u001b[34m\u001b[1mTensorBoard: \u001b[0mmodel graph visualization added ✅\n",
            "Image sizes 512 train, 512 val\n",
            "Using 8 dataloader workers\n",
            "Logging results to \u001b[1mruns/detect/train\u001b[0m\n",
            "Starting training for 30 epochs...\n",
            "\n",
            "      Epoch    GPU_mem   box_loss   cls_loss   dfl_loss  Instances       Size\n",
            "       1/30      10.6G      2.411       1.89     0.9684          1        512: 100% 1707/1707 [03:04<00:00,  9.27it/s]\n",
            "                 Class     Images  Instances      Box(P          R      mAP50  mAP50-95): 100% 214/214 [00:22<00:00,  9.40it/s]\n",
            "                   all       6830      55205      0.625      0.596      0.601      0.214\n",
            "\n",
            "      Epoch    GPU_mem   box_loss   cls_loss   dfl_loss  Instances       Size\n",
            "       2/30      10.1G      2.392       1.48     0.9626          0        512: 100% 1707/1707 [02:53<00:00,  9.84it/s]\n",
            "                 Class     Images  Instances      Box(P          R      mAP50  mAP50-95): 100% 214/214 [00:22<00:00,  9.52it/s]\n",
            "                   all       6830      55205       0.67       0.58      0.587        0.2\n",
            "\n",
            "      Epoch    GPU_mem   box_loss   cls_loss   dfl_loss  Instances       Size\n",
            "       3/30      8.03G      2.441      1.602     0.9715          8        512: 100% 1707/1707 [02:49<00:00, 10.09it/s]\n",
            "                 Class     Images  Instances      Box(P          R      mAP50  mAP50-95): 100% 214/214 [00:23<00:00,  8.98it/s]\n",
            "                   all       6830      55205      0.654      0.574      0.574      0.194\n",
            "\n",
            "      Epoch    GPU_mem   box_loss   cls_loss   dfl_loss  Instances       Size\n",
            "       4/30      9.15G      2.425      1.528     0.9689          5        512: 100% 1707/1707 [02:47<00:00, 10.17it/s]\n",
            "                 Class     Images  Instances      Box(P          R      mAP50  mAP50-95): 100% 214/214 [00:22<00:00,  9.45it/s]\n",
            "                   all       6830      55205      0.657      0.599      0.597      0.204\n",
            "\n",
            "      Epoch    GPU_mem   box_loss   cls_loss   dfl_loss  Instances       Size\n",
            "       5/30      11.9G      2.355      1.447      0.954          0        512: 100% 1707/1707 [02:47<00:00, 10.21it/s]\n",
            "                 Class     Images  Instances      Box(P          R      mAP50  mAP50-95): 100% 214/214 [00:22<00:00,  9.50it/s]\n",
            "                   all       6830      55205      0.679      0.629      0.636       0.22\n",
            "\n",
            "      Epoch    GPU_mem   box_loss   cls_loss   dfl_loss  Instances       Size\n",
            "       6/30      9.58G      2.328      1.388     0.9483          0        512: 100% 1707/1707 [02:47<00:00, 10.20it/s]\n",
            "                 Class     Images  Instances      Box(P          R      mAP50  mAP50-95): 100% 214/214 [00:22<00:00,  9.48it/s]\n",
            "                   all       6830      55205      0.711      0.668      0.674      0.246\n",
            "\n",
            "      Epoch    GPU_mem   box_loss   cls_loss   dfl_loss  Instances       Size\n",
            "       7/30        12G      2.299      1.349      0.945          0        512: 100% 1707/1707 [02:49<00:00, 10.05it/s]\n",
            "                 Class     Images  Instances      Box(P          R      mAP50  mAP50-95): 100% 214/214 [00:22<00:00,  9.45it/s]\n",
            "                   all       6830      55205      0.711      0.675      0.674      0.248\n",
            "\n",
            "      Epoch    GPU_mem   box_loss   cls_loss   dfl_loss  Instances       Size\n",
            "       8/30      11.1G      2.275      1.324     0.9399          4        512: 100% 1707/1707 [02:49<00:00, 10.06it/s]\n",
            "                 Class     Images  Instances      Box(P          R      mAP50  mAP50-95): 100% 214/214 [00:22<00:00,  9.65it/s]\n",
            "                   all       6830      55205      0.708      0.698      0.692      0.252\n",
            "\n",
            "      Epoch    GPU_mem   box_loss   cls_loss   dfl_loss  Instances       Size\n",
            "       9/30      10.8G      2.263      1.323     0.9368          2        512: 100% 1707/1707 [02:50<00:00, 10.03it/s]\n",
            "                 Class     Images  Instances      Box(P          R      mAP50  mAP50-95): 100% 214/214 [00:21<00:00,  9.73it/s]\n",
            "                   all       6830      55205      0.713      0.701      0.697      0.258\n",
            "\n",
            "      Epoch    GPU_mem   box_loss   cls_loss   dfl_loss  Instances       Size\n",
            "      10/30      10.1G       2.25      1.271     0.9343          0        512: 100% 1707/1707 [02:48<00:00, 10.13it/s]\n",
            "                 Class     Images  Instances      Box(P          R      mAP50  mAP50-95): 100% 214/214 [00:22<00:00,  9.61it/s]\n",
            "                   all       6830      55205      0.726      0.717      0.709      0.267\n",
            "\n",
            "      Epoch    GPU_mem   box_loss   cls_loss   dfl_loss  Instances       Size\n",
            "      11/30        10G      2.234      1.274     0.9311         36        512: 100% 1707/1707 [02:49<00:00, 10.09it/s]\n",
            "                 Class     Images  Instances      Box(P          R      mAP50  mAP50-95): 100% 214/214 [00:22<00:00,  9.64it/s]\n",
            "                   all       6830      55205      0.727      0.717      0.712      0.267\n",
            "\n",
            "      Epoch    GPU_mem   box_loss   cls_loss   dfl_loss  Instances       Size\n",
            "      12/30      8.69G      2.221      1.249     0.9301          0        512: 100% 1707/1707 [02:48<00:00, 10.12it/s]\n",
            "                 Class     Images  Instances      Box(P          R      mAP50  mAP50-95): 100% 214/214 [00:21<00:00,  9.84it/s]\n",
            "                   all       6830      55205       0.73      0.731      0.726      0.272\n",
            "\n",
            "      Epoch    GPU_mem   box_loss   cls_loss   dfl_loss  Instances       Size\n",
            "      13/30      10.2G        2.2      1.222     0.9279          3        512: 100% 1707/1707 [02:47<00:00, 10.17it/s]\n",
            "                 Class     Images  Instances      Box(P          R      mAP50  mAP50-95): 100% 214/214 [00:21<00:00,  9.75it/s]\n",
            "                   all       6830      55205      0.733      0.734      0.725      0.274\n",
            "\n",
            "      Epoch    GPU_mem   box_loss   cls_loss   dfl_loss  Instances       Size\n",
            "      14/30      8.43G      2.203      1.232     0.9274          1        512: 100% 1707/1707 [02:48<00:00, 10.15it/s]\n",
            "                 Class     Images  Instances      Box(P          R      mAP50  mAP50-95): 100% 214/214 [00:21<00:00,  9.82it/s]\n",
            "                   all       6830      55205      0.734      0.741      0.733       0.28\n",
            "\n",
            "      Epoch    GPU_mem   box_loss   cls_loss   dfl_loss  Instances       Size\n",
            "      15/30      9.26G       2.19      1.209     0.9222          2        512: 100% 1707/1707 [02:49<00:00, 10.09it/s]\n",
            "                 Class     Images  Instances      Box(P          R      mAP50  mAP50-95): 100% 214/214 [00:21<00:00,  9.84it/s]\n",
            "                   all       6830      55205      0.738      0.743      0.734      0.279\n",
            "\n",
            "      Epoch    GPU_mem   box_loss   cls_loss   dfl_loss  Instances       Size\n",
            "      16/30      9.52G      2.185      1.212     0.9238          0        512: 100% 1707/1707 [02:49<00:00, 10.10it/s]\n",
            "                 Class     Images  Instances      Box(P          R      mAP50  mAP50-95): 100% 214/214 [00:21<00:00,  9.85it/s]\n",
            "                   all       6830      55205       0.74      0.745      0.737      0.282\n",
            "\n",
            "      Epoch    GPU_mem   box_loss   cls_loss   dfl_loss  Instances       Size\n",
            "      17/30      9.41G      2.174      1.196     0.9224         13        512: 100% 1707/1707 [02:48<00:00, 10.14it/s]\n",
            "                 Class     Images  Instances      Box(P          R      mAP50  mAP50-95): 100% 214/214 [00:21<00:00,  9.75it/s]\n",
            "                   all       6830      55205      0.738      0.752      0.741      0.285\n",
            "\n",
            "      Epoch    GPU_mem   box_loss   cls_loss   dfl_loss  Instances       Size\n",
            "      18/30      9.92G       2.17      1.191     0.9216         11        512: 100% 1707/1707 [02:48<00:00, 10.10it/s]\n",
            "                 Class     Images  Instances      Box(P          R      mAP50  mAP50-95): 100% 214/214 [00:21<00:00,  9.78it/s]\n",
            "                   all       6830      55205      0.742      0.754      0.745      0.287\n",
            "\n",
            "      Epoch    GPU_mem   box_loss   cls_loss   dfl_loss  Instances       Size\n",
            "      19/30      9.64G      2.158      1.205     0.9149          0        512: 100% 1707/1707 [02:48<00:00, 10.13it/s]\n",
            "                 Class     Images  Instances      Box(P          R      mAP50  mAP50-95): 100% 214/214 [00:21<00:00,  9.83it/s]\n",
            "                   all       6830      55205      0.747      0.755      0.746      0.288\n",
            "\n",
            "      Epoch    GPU_mem   box_loss   cls_loss   dfl_loss  Instances       Size\n",
            "      20/30        11G      2.154      1.173     0.9161          0        512: 100% 1707/1707 [02:48<00:00, 10.14it/s]\n",
            "                 Class     Images  Instances      Box(P          R      mAP50  mAP50-95): 100% 214/214 [00:21<00:00,  9.95it/s]\n",
            "                   all       6830      55205      0.748       0.76       0.75      0.291\n",
            "Closing dataloader mosaic\n",
            "\u001b[34m\u001b[1malbumentations: \u001b[0mBlur(p=0.01, blur_limit=(3, 7)), MedianBlur(p=0.01, blur_limit=(3, 7)), ToGray(p=0.01, num_output_channels=3, method='weighted_average'), CLAHE(p=0.01, clip_limit=(1.0, 4.0), tile_grid_size=(8, 8))\n",
            "\n",
            "      Epoch    GPU_mem   box_loss   cls_loss   dfl_loss  Instances       Size\n",
            "      21/30       8.7G      2.145      1.164     0.9166         42        512: 100% 1707/1707 [02:50<00:00, 10.01it/s]\n",
            "                 Class     Images  Instances      Box(P          R      mAP50  mAP50-95): 100% 214/214 [00:21<00:00,  9.80it/s]\n",
            "                   all       6830      55205      0.748      0.765      0.751      0.292\n",
            "\n",
            "      Epoch    GPU_mem   box_loss   cls_loss   dfl_loss  Instances       Size\n",
            "      22/30      9.14G      2.142      1.166      0.915         84        512: 100% 1707/1707 [02:49<00:00, 10.07it/s]\n",
            "                 Class     Images  Instances      Box(P          R      mAP50  mAP50-95): 100% 214/214 [00:21<00:00,  9.80it/s]\n",
            "                   all       6830      55205      0.744      0.772      0.752      0.293\n",
            "\n",
            "      Epoch    GPU_mem   box_loss   cls_loss   dfl_loss  Instances       Size\n",
            "      23/30      11.5G      2.131      1.149     0.9139          0        512: 100% 1707/1707 [02:49<00:00, 10.05it/s]\n",
            "                 Class     Images  Instances      Box(P          R      mAP50  mAP50-95): 100% 214/214 [00:21<00:00,  9.81it/s]\n",
            "                   all       6830      55205      0.746      0.771      0.754      0.293\n",
            "\n",
            "      Epoch    GPU_mem   box_loss   cls_loss   dfl_loss  Instances       Size\n",
            "      24/30      10.7G      2.129      1.141     0.9129         45        512: 100% 1707/1707 [02:49<00:00, 10.07it/s]\n",
            "                 Class     Images  Instances      Box(P          R      mAP50  mAP50-95): 100% 214/214 [00:21<00:00,  9.80it/s]\n",
            "                   all       6830      55205       0.75      0.769      0.755      0.293\n",
            "\n",
            "      Epoch    GPU_mem   box_loss   cls_loss   dfl_loss  Instances       Size\n",
            "      25/30       9.6G      2.112      1.127     0.9103         27        512: 100% 1707/1707 [02:49<00:00, 10.07it/s]\n",
            "                 Class     Images  Instances      Box(P          R      mAP50  mAP50-95): 100% 214/214 [00:21<00:00,  9.78it/s]\n",
            "                   all       6830      55205      0.752      0.769      0.755      0.293\n",
            "\n",
            "      Epoch    GPU_mem   box_loss   cls_loss   dfl_loss  Instances       Size\n",
            "      26/30      12.2G      2.106      1.124     0.9074         55        512: 100% 1707/1707 [02:49<00:00, 10.06it/s]\n",
            "                 Class     Images  Instances      Box(P          R      mAP50  mAP50-95): 100% 214/214 [00:21<00:00,  9.84it/s]\n",
            "                   all       6830      55205      0.751      0.773      0.758      0.294\n",
            "\n",
            "      Epoch    GPU_mem   box_loss   cls_loss   dfl_loss  Instances       Size\n",
            "      27/30      11.4G      2.105      1.125      0.909          2        512: 100% 1707/1707 [02:50<00:00, 10.03it/s]\n",
            "                 Class     Images  Instances      Box(P          R      mAP50  mAP50-95): 100% 214/214 [00:21<00:00,  9.78it/s]\n",
            "                   all       6830      55205      0.751      0.773      0.759      0.296\n",
            "\n",
            "      Epoch    GPU_mem   box_loss   cls_loss   dfl_loss  Instances       Size\n",
            "      28/30      11.9G      2.096      1.114     0.9066          0        512: 100% 1707/1707 [02:49<00:00, 10.04it/s]\n",
            "                 Class     Images  Instances      Box(P          R      mAP50  mAP50-95): 100% 214/214 [00:21<00:00,  9.83it/s]\n",
            "                   all       6830      55205      0.752      0.775       0.76      0.296\n",
            "\n",
            "      Epoch    GPU_mem   box_loss   cls_loss   dfl_loss  Instances       Size\n",
            "      29/30      8.92G      2.085      1.099     0.9061          3        512: 100% 1707/1707 [02:50<00:00, 10.02it/s]\n",
            "                 Class     Images  Instances      Box(P          R      mAP50  mAP50-95): 100% 214/214 [00:21<00:00,  9.90it/s]\n",
            "                   all       6830      55205      0.752      0.775      0.761      0.296\n",
            "\n",
            "      Epoch    GPU_mem   box_loss   cls_loss   dfl_loss  Instances       Size\n",
            "      30/30       9.2G      2.082      1.093     0.9044          0        512: 100% 1707/1707 [02:51<00:00,  9.97it/s]\n",
            "                 Class     Images  Instances      Box(P          R      mAP50  mAP50-95): 100% 214/214 [00:21<00:00,  9.83it/s]\n",
            "                   all       6830      55205      0.751      0.778      0.762      0.297\n",
            "\n",
            "30 epochs completed in 1.612 hours.\n",
            "Optimizer stripped from runs/detect/train/weights/last.pt, 52.0MB\n",
            "Optimizer stripped from runs/detect/train/weights/best.pt, 52.0MB\n",
            "\n",
            "Validating runs/detect/train/weights/best.pt...\n",
            "Ultralytics 8.3.53 🚀 Python-3.10.12 torch-2.5.1+cu121 CUDA:0 (NVIDIA A100-SXM4-40GB, 40514MiB)\n",
            "Model summary (fused): 218 layers, 25,840,339 parameters, 0 gradients, 78.7 GFLOPs\n",
            "                 Class     Images  Instances      Box(P          R      mAP50  mAP50-95): 100% 214/214 [00:28<00:00,  7.58it/s]\n",
            "                   all       6830      55205      0.751      0.778      0.762      0.297\n",
            "Speed: 0.1ms preprocess, 1.0ms inference, 0.0ms loss, 0.5ms postprocess per image\n",
            "Results saved to \u001b[1mruns/detect/train\u001b[0m\n",
            "💡 Learn more at https://docs.ultralytics.com/modes/train\n",
            "Ultralytics 8.3.53 🚀 Python-3.10.12 torch-2.5.1+cu121 CUDA:0 (NVIDIA A100-SXM4-40GB, 40514MiB)\n",
            "\u001b[34m\u001b[1mengine/trainer: \u001b[0mtask=detect, mode=train, model=/content/last.pt, data=/content/data.yaml, epochs=20, time=None, patience=100, batch=16, imgsz=512, save=True, save_period=-1, cache=False, device=None, workers=8, project=None, name=train, exist_ok=False, pretrained=True, optimizer=auto, verbose=True, seed=0, deterministic=True, single_cls=False, rect=False, cos_lr=False, close_mosaic=10, resume=/content/last.pt, amp=True, fraction=1.0, profile=False, freeze=None, multi_scale=False, overlap_mask=True, mask_ratio=4, dropout=0.0, val=True, split=val, save_json=False, save_hybrid=False, conf=None, iou=0.7, max_det=300, half=True, dnn=False, plots=True, source=None, vid_stride=1, stream_buffer=False, visualize=False, augment=False, agnostic_nms=False, classes=None, retina_masks=False, embed=None, show=False, save_frames=False, save_txt=False, save_conf=False, save_crop=False, show_labels=True, show_conf=True, show_boxes=True, line_width=None, format=torchscript, keras=False, optimize=False, int8=False, dynamic=False, simplify=True, opset=None, workspace=None, nms=False, lr0=0.01, lrf=0.01, momentum=0.937, weight_decay=0.0005, warmup_epochs=3.0, warmup_momentum=0.8, warmup_bias_lr=0.0, box=7.5, cls=0.5, dfl=1.5, pose=12.0, kobj=1.0, nbs=64, hsv_h=0.015, hsv_s=0.7, hsv_v=0.4, degrees=0.0, translate=0.1, scale=0.0, shear=0.0, perspective=0.0, flipud=0.0, fliplr=0.5, bgr=0.0, mosaic=0.0, mixup=0.0, copy_paste=0.0, copy_paste_mode=flip, auto_augment=randaugment, erasing=0.4, crop_fraction=1.0, cfg=None, tracker=botsort.yaml, save_dir=runs/detect/train\n",
            "\u001b[34m\u001b[1mTensorBoard: \u001b[0mStart with 'tensorboard --logdir runs/detect/train', view at http://localhost:6006/\n",
            "\n",
            "                   from  n    params  module                                       arguments                     \n",
            "  0                  -1  1      1392  ultralytics.nn.modules.conv.Conv             [3, 48, 3, 2]                 \n",
            "  1                  -1  1     41664  ultralytics.nn.modules.conv.Conv             [48, 96, 3, 2]                \n",
            "  2                  -1  2    111360  ultralytics.nn.modules.block.C2f             [96, 96, 2, True]             \n",
            "  3                  -1  1    166272  ultralytics.nn.modules.conv.Conv             [96, 192, 3, 2]               \n",
            "  4                  -1  4    813312  ultralytics.nn.modules.block.C2f             [192, 192, 4, True]           \n",
            "  5                  -1  1    664320  ultralytics.nn.modules.conv.Conv             [192, 384, 3, 2]              \n",
            "  6                  -1  4   3248640  ultralytics.nn.modules.block.C2f             [384, 384, 4, True]           \n",
            "  7                  -1  1   1991808  ultralytics.nn.modules.conv.Conv             [384, 576, 3, 2]              \n",
            "  8                  -1  2   3985920  ultralytics.nn.modules.block.C2f             [576, 576, 2, True]           \n",
            "  9                  -1  1    831168  ultralytics.nn.modules.block.SPPF            [576, 576, 5]                 \n",
            " 10                  -1  1         0  torch.nn.modules.upsampling.Upsample         [None, 2, 'nearest']          \n",
            " 11             [-1, 6]  1         0  ultralytics.nn.modules.conv.Concat           [1]                           \n",
            " 12                  -1  2   1993728  ultralytics.nn.modules.block.C2f             [960, 384, 2]                 \n",
            " 13                  -1  1         0  torch.nn.modules.upsampling.Upsample         [None, 2, 'nearest']          \n",
            " 14             [-1, 4]  1         0  ultralytics.nn.modules.conv.Concat           [1]                           \n",
            " 15                  -1  2    517632  ultralytics.nn.modules.block.C2f             [576, 192, 2]                 \n",
            " 16                  -1  1    332160  ultralytics.nn.modules.conv.Conv             [192, 192, 3, 2]              \n",
            " 17            [-1, 12]  1         0  ultralytics.nn.modules.conv.Concat           [1]                           \n",
            " 18                  -1  2   1846272  ultralytics.nn.modules.block.C2f             [576, 384, 2]                 \n",
            " 19                  -1  1   1327872  ultralytics.nn.modules.conv.Conv             [384, 384, 3, 2]              \n",
            " 20             [-1, 9]  1         0  ultralytics.nn.modules.conv.Concat           [1]                           \n",
            " 21                  -1  2   4207104  ultralytics.nn.modules.block.C2f             [960, 576, 2]                 \n",
            " 22        [15, 18, 21]  1   3776275  ultralytics.nn.modules.head.Detect           [1, [192, 384, 576]]          \n",
            "Model summary: 295 layers, 25,856,899 parameters, 25,856,883 gradients, 79.1 GFLOPs\n",
            "\n",
            "Transferred 475/475 items from pretrained weights\n",
            "Freezing layer 'model.22.dfl.conv.weight'\n",
            "\u001b[34m\u001b[1mAMP: \u001b[0mrunning Automatic Mixed Precision (AMP) checks...\n",
            "\u001b[34m\u001b[1mAMP: \u001b[0mchecks passed ✅\n"
          ]
        },
        {
          "metadata": {
            "tags": null
          },
          "name": "stderr",
          "output_type": "stream",
          "text": [
            "\u001b[34m\u001b[1mtrain: \u001b[0mScanning /content/tif_images/train/labels.cache... 27299 images, 18627 backgrounds, 0 corrupt: 100%|██████████| 27299/27299 [00:00<?, ?it/s]"
          ]
        },
        {
          "metadata": {
            "tags": null
          },
          "name": "stdout",
          "output_type": "stream",
          "text": [
            "\u001b[34m\u001b[1mtrain: \u001b[0mWARNING ⚠️ /content/tif_images/train/images/1529_448_896.tif: 1 duplicate labels removed\n",
            "\u001b[34m\u001b[1mtrain: \u001b[0mWARNING ⚠️ /content/tif_images/train/images/18_0_0.tif: 1 duplicate labels removed\n",
            "\u001b[34m\u001b[1mtrain: \u001b[0mWARNING ⚠️ /content/tif_images/train/images/217_2688_2240.tif: 1 duplicate labels removed\n",
            "\u001b[34m\u001b[1mtrain: \u001b[0mWARNING ⚠️ /content/tif_images/train/images/252_3136_1792.tif: 1 duplicate labels removed\n",
            "\u001b[34m\u001b[1mtrain: \u001b[0mWARNING ⚠️ /content/tif_images/train/images/562_0_448.tif: 1 duplicate labels removed\n"
          ]
        },
        {
          "metadata": {
            "tags": null
          },
          "name": "stderr",
          "output_type": "stream",
          "text": [
            "\n"
          ]
        },
        {
          "metadata": {
            "tags": null
          },
          "name": "stdout",
          "output_type": "stream",
          "text": [
            "\u001b[34m\u001b[1malbumentations: \u001b[0mBlur(p=0.01, blur_limit=(3, 7)), MedianBlur(p=0.01, blur_limit=(3, 7)), ToGray(p=0.01, num_output_channels=3, method='weighted_average'), CLAHE(p=0.01, clip_limit=(1.0, 4.0), tile_grid_size=(8, 8))\n"
          ]
        },
        {
          "metadata": {
            "tags": null
          },
          "name": "stderr",
          "output_type": "stream",
          "text": [
            "/usr/local/lib/python3.10/dist-packages/albumentations/__init__.py:24: UserWarning: A new version of Albumentations is available: 1.4.23 (you have 1.4.20). Upgrade using: pip install -U albumentations. To disable automatic update checks, set the environment variable NO_ALBUMENTATIONS_UPDATE to 1.\n",
            "  check_for_updates()\n",
            "\u001b[34m\u001b[1mval: \u001b[0mScanning /content/tif_images/val/labels.cache... 6830 images, 4326 backgrounds, 0 corrupt: 100%|██████████| 6830/6830 [00:00<?, ?it/s]"
          ]
        },
        {
          "metadata": {
            "tags": null
          },
          "name": "stdout",
          "output_type": "stream",
          "text": [
            "\u001b[34m\u001b[1mval: \u001b[0mWARNING ⚠️ /content/tif_images/val/images/600_896_1344.tif: 1 duplicate labels removed\n",
            "\u001b[34m\u001b[1mval: \u001b[0mWARNING ⚠️ /content/tif_images/val/images/600_896_1792.tif: 1 duplicate labels removed\n"
          ]
        },
        {
          "metadata": {
            "tags": null
          },
          "name": "stderr",
          "output_type": "stream",
          "text": [
            "\n"
          ]
        },
        {
          "metadata": {
            "tags": null
          },
          "name": "stdout",
          "output_type": "stream",
          "text": [
            "Plotting labels to runs/detect/train/labels.jpg... \n",
            "\u001b[34m\u001b[1moptimizer:\u001b[0m 'optimizer=auto' found, ignoring 'lr0=0.01' and 'momentum=0.937' and determining best 'optimizer', 'lr0' and 'momentum' automatically... \n",
            "\u001b[34m\u001b[1moptimizer:\u001b[0m AdamW(lr=0.002, momentum=0.9) with parameter groups 77 weight(decay=0.0), 84 weight(decay=0.0005), 83 bias(decay=0.0)\n",
            "Resuming training /content/last.pt from epoch 8 to 20 total epochs\n",
            "\u001b[34m\u001b[1mTensorBoard: \u001b[0mmodel graph visualization added ✅\n",
            "Image sizes 512 train, 512 val\n",
            "Using 8 dataloader workers\n",
            "Logging results to \u001b[1mruns/detect/train\u001b[0m\n",
            "Starting training for 20 epochs...\n",
            "\n",
            "      Epoch    GPU_mem   box_loss   cls_loss   dfl_loss  Instances       Size\n"
          ]
        },
        {
          "metadata": {
            "tags": null
          },
          "name": "stderr",
          "output_type": "stream",
          "text": [
            "       8/20      10.8G      2.188      1.275     0.9241          1        512: 100%|██████████| 1707/1707 [02:56<00:00,  9.67it/s]\n",
            "                 Class     Images  Instances      Box(P          R      mAP50  mAP50-95): 100%|██████████| 214/214 [00:22<00:00,  9.43it/s]\n"
          ]
        },
        {
          "metadata": {
            "tags": null
          },
          "name": "stdout",
          "output_type": "stream",
          "text": [
            "                   all       6830      55205      0.726      0.715      0.715      0.275\n",
            "\n",
            "      Epoch    GPU_mem   box_loss   cls_loss   dfl_loss  Instances       Size\n"
          ]
        },
        {
          "metadata": {
            "tags": null
          },
          "name": "stderr",
          "output_type": "stream",
          "text": [
            "       9/20      10.2G      2.169      1.215     0.9219          0        512: 100%|██████████| 1707/1707 [02:59<00:00,  9.52it/s]\n",
            "                 Class     Images  Instances      Box(P          R      mAP50  mAP50-95): 100%|██████████| 214/214 [00:22<00:00,  9.53it/s]\n"
          ]
        },
        {
          "metadata": {
            "tags": null
          },
          "name": "stdout",
          "output_type": "stream",
          "text": [
            "                   all       6830      55205      0.731      0.724      0.723      0.279\n",
            "\n",
            "      Epoch    GPU_mem   box_loss   cls_loss   dfl_loss  Instances       Size\n"
          ]
        },
        {
          "metadata": {
            "tags": null
          },
          "name": "stderr",
          "output_type": "stream",
          "text": [
            "      10/20      8.15G      2.153       1.19     0.9179          8        512: 100%|██████████| 1707/1707 [02:59<00:00,  9.51it/s]\n",
            "                 Class     Images  Instances      Box(P          R      mAP50  mAP50-95): 100%|██████████| 214/214 [00:22<00:00,  9.42it/s]\n"
          ]
        },
        {
          "metadata": {
            "tags": null
          },
          "name": "stdout",
          "output_type": "stream",
          "text": [
            "                   all       6830      55205       0.74      0.736      0.732      0.285\n",
            "Closing dataloader mosaic\n",
            "\u001b[34m\u001b[1malbumentations: \u001b[0mBlur(p=0.01, blur_limit=(3, 7)), MedianBlur(p=0.01, blur_limit=(3, 7)), ToGray(p=0.01, num_output_channels=3, method='weighted_average'), CLAHE(p=0.01, clip_limit=(1.0, 4.0), tile_grid_size=(8, 8))\n",
            "\n",
            "      Epoch    GPU_mem   box_loss   cls_loss   dfl_loss  Instances       Size\n"
          ]
        },
        {
          "metadata": {
            "tags": null
          },
          "name": "stderr",
          "output_type": "stream",
          "text": [
            "      11/20      10.9G       2.15      1.217     0.9183         13        512: 100%|██████████| 1707/1707 [03:01<00:00,  9.41it/s]\n",
            "                 Class     Images  Instances      Box(P          R      mAP50  mAP50-95): 100%|██████████| 214/214 [00:22<00:00,  9.49it/s]\n"
          ]
        },
        {
          "metadata": {
            "tags": null
          },
          "name": "stdout",
          "output_type": "stream",
          "text": [
            "                   all       6830      55205      0.739      0.743      0.736      0.286\n",
            "\n",
            "      Epoch    GPU_mem   box_loss   cls_loss   dfl_loss  Instances       Size\n"
          ]
        },
        {
          "metadata": {
            "tags": null
          },
          "name": "stderr",
          "output_type": "stream",
          "text": [
            "      12/20      10.4G      2.131      1.187     0.9138          0        512: 100%|██████████| 1707/1707 [02:59<00:00,  9.51it/s]\n",
            "                 Class     Images  Instances      Box(P          R      mAP50  mAP50-95): 100%|██████████| 214/214 [00:22<00:00,  9.45it/s]\n"
          ]
        },
        {
          "metadata": {
            "tags": null
          },
          "name": "stdout",
          "output_type": "stream",
          "text": [
            "                   all       6830      55205      0.741      0.745      0.738       0.29\n",
            "\n",
            "      Epoch    GPU_mem   box_loss   cls_loss   dfl_loss  Instances       Size\n"
          ]
        },
        {
          "metadata": {
            "tags": null
          },
          "name": "stderr",
          "output_type": "stream",
          "text": [
            "      13/20      8.66G      2.122      1.161     0.9135         42        512: 100%|██████████| 1707/1707 [03:01<00:00,  9.41it/s]\n",
            "                 Class     Images  Instances      Box(P          R      mAP50  mAP50-95): 100%|██████████| 214/214 [00:22<00:00,  9.56it/s]\n"
          ]
        },
        {
          "metadata": {
            "tags": null
          },
          "name": "stdout",
          "output_type": "stream",
          "text": [
            "                   all       6830      55205      0.745      0.754      0.745      0.293\n",
            "\n",
            "      Epoch    GPU_mem   box_loss   cls_loss   dfl_loss  Instances       Size\n"
          ]
        },
        {
          "metadata": {
            "tags": null
          },
          "name": "stderr",
          "output_type": "stream",
          "text": [
            "      14/20      10.2G       2.12      1.159     0.9154         10        512: 100%|██████████| 1707/1707 [03:01<00:00,  9.41it/s]\n",
            "                 Class     Images  Instances      Box(P          R      mAP50  mAP50-95): 100%|██████████| 214/214 [00:22<00:00,  9.51it/s]\n"
          ]
        },
        {
          "metadata": {
            "tags": null
          },
          "name": "stdout",
          "output_type": "stream",
          "text": [
            "                   all       6830      55205      0.743      0.756      0.749      0.296\n",
            "\n",
            "      Epoch    GPU_mem   box_loss   cls_loss   dfl_loss  Instances       Size\n"
          ]
        },
        {
          "metadata": {
            "tags": null
          },
          "name": "stderr",
          "output_type": "stream",
          "text": [
            "      15/20      8.04G        2.1      1.139     0.9101          0        512: 100%|██████████| 1707/1707 [02:59<00:00,  9.53it/s]\n",
            "                 Class     Images  Instances      Box(P          R      mAP50  mAP50-95): 100%|██████████| 214/214 [00:22<00:00,  9.68it/s]\n"
          ]
        },
        {
          "metadata": {
            "tags": null
          },
          "name": "stdout",
          "output_type": "stream",
          "text": [
            "                   all       6830      55205      0.747      0.759      0.752      0.296\n",
            "\n",
            "      Epoch    GPU_mem   box_loss   cls_loss   dfl_loss  Instances       Size\n"
          ]
        },
        {
          "metadata": {
            "tags": null
          },
          "name": "stderr",
          "output_type": "stream",
          "text": [
            "      16/20      8.71G      2.091      1.136     0.9095         12        512: 100%|██████████| 1707/1707 [02:59<00:00,  9.52it/s]\n",
            "                 Class     Images  Instances      Box(P          R      mAP50  mAP50-95): 100%|██████████| 214/214 [00:22<00:00,  9.64it/s]\n"
          ]
        },
        {
          "metadata": {
            "tags": null
          },
          "name": "stdout",
          "output_type": "stream",
          "text": [
            "                   all       6830      55205      0.745      0.768      0.757      0.302\n",
            "\n",
            "      Epoch    GPU_mem   box_loss   cls_loss   dfl_loss  Instances       Size\n"
          ]
        },
        {
          "metadata": {
            "tags": null
          },
          "name": "stderr",
          "output_type": "stream",
          "text": [
            "      17/20      10.5G      2.084      1.132     0.9077          1        512: 100%|██████████| 1707/1707 [02:59<00:00,  9.52it/s]\n",
            "                 Class     Images  Instances      Box(P          R      mAP50  mAP50-95): 100%|██████████| 214/214 [00:22<00:00,  9.65it/s]\n"
          ]
        },
        {
          "metadata": {
            "tags": null
          },
          "name": "stdout",
          "output_type": "stream",
          "text": [
            "                   all       6830      55205       0.75      0.769      0.759      0.303\n",
            "\n",
            "      Epoch    GPU_mem   box_loss   cls_loss   dfl_loss  Instances       Size\n"
          ]
        },
        {
          "metadata": {
            "tags": null
          },
          "name": "stderr",
          "output_type": "stream",
          "text": [
            "      18/20      10.1G      2.073      1.128     0.9032         14        512: 100%|██████████| 1707/1707 [02:59<00:00,  9.52it/s]\n",
            "                 Class     Images  Instances      Box(P          R      mAP50  mAP50-95): 100%|██████████| 214/214 [00:22<00:00,  9.70it/s]\n"
          ]
        },
        {
          "metadata": {
            "tags": null
          },
          "name": "stdout",
          "output_type": "stream",
          "text": [
            "                   all       6830      55205      0.752      0.768      0.761      0.305\n",
            "\n",
            "      Epoch    GPU_mem   box_loss   cls_loss   dfl_loss  Instances       Size\n"
          ]
        },
        {
          "output_type": "stream",
          "name": "stderr",
          "text": [
            "      19/20      9.44G      2.072      1.129     0.9066          0        512: 100%|██████████| 1707/1707 [02:59<00:00,  9.50it/s]\n",
            "                 Class     Images  Instances      Box(P          R      mAP50  mAP50-95): 100%|██████████| 214/214 [00:22<00:00,  9.68it/s]\n"
          ]
        },
        {
          "output_type": "stream",
          "name": "stdout",
          "text": [
            "                   all       6830      55205      0.753      0.768       0.76      0.304\n",
            "\n",
            "      Epoch    GPU_mem   box_loss   cls_loss   dfl_loss  Instances       Size\n"
          ]
        },
        {
          "output_type": "stream",
          "name": "stderr",
          "text": [
            "      20/20      10.7G      2.056      1.094     0.9035          0        512: 100%|██████████| 1707/1707 [02:59<00:00,  9.52it/s]\n",
            "                 Class     Images  Instances      Box(P          R      mAP50  mAP50-95): 100%|██████████| 214/214 [00:21<00:00,  9.73it/s]\n"
          ]
        },
        {
          "output_type": "stream",
          "name": "stdout",
          "text": [
            "                   all       6830      55205      0.754      0.771      0.763      0.305\n",
            "\n",
            "13 epochs completed in 0.737 hours.\n",
            "Optimizer stripped from runs/detect/train/weights/last.pt, 52.0MB\n",
            "Optimizer stripped from runs/detect/train/weights/best.pt, 52.0MB\n",
            "\n",
            "Validating runs/detect/train/weights/best.pt...\n",
            "Ultralytics 8.3.53 🚀 Python-3.10.12 torch-2.5.1+cu121 CUDA:0 (NVIDIA A100-SXM4-40GB, 40514MiB)\n",
            "Model summary (fused): 218 layers, 25,840,339 parameters, 0 gradients, 78.7 GFLOPs\n"
          ]
        },
        {
          "output_type": "stream",
          "name": "stderr",
          "text": [
            "                 Class     Images  Instances      Box(P          R      mAP50  mAP50-95): 100%|██████████| 214/214 [00:28<00:00,  7.52it/s]\n"
          ]
        },
        {
          "output_type": "stream",
          "name": "stdout",
          "text": [
            "                   all       6830      55205      0.754       0.77      0.763      0.305\n",
            "Speed: 0.1ms preprocess, 1.1ms inference, 0.0ms loss, 0.5ms postprocess per image\n",
            "Results saved to \u001b[1mruns/detect/train\u001b[0m\n"
          ]
        },
        {
          "output_type": "execute_result",
          "data": {
            "text/plain": [
              "ultralytics.utils.metrics.DetMetrics object with attributes:\n",
              "\n",
              "ap_class_index: array([0])\n",
              "box: ultralytics.utils.metrics.Metric object\n",
              "confusion_matrix: <ultralytics.utils.metrics.ConfusionMatrix object at 0x7992dae8b760>\n",
              "curves: ['Precision-Recall(B)', 'F1-Confidence(B)', 'Precision-Confidence(B)', 'Recall-Confidence(B)']\n",
              "curves_results: [[array([          0,    0.001001,    0.002002,    0.003003,    0.004004,    0.005005,    0.006006,    0.007007,    0.008008,    0.009009,     0.01001,    0.011011,    0.012012,    0.013013,    0.014014,    0.015015,    0.016016,    0.017017,    0.018018,    0.019019,     0.02002,    0.021021,    0.022022,    0.023023,\n",
              "          0.024024,    0.025025,    0.026026,    0.027027,    0.028028,    0.029029,     0.03003,    0.031031,    0.032032,    0.033033,    0.034034,    0.035035,    0.036036,    0.037037,    0.038038,    0.039039,     0.04004,    0.041041,    0.042042,    0.043043,    0.044044,    0.045045,    0.046046,    0.047047,\n",
              "          0.048048,    0.049049,     0.05005,    0.051051,    0.052052,    0.053053,    0.054054,    0.055055,    0.056056,    0.057057,    0.058058,    0.059059,     0.06006,    0.061061,    0.062062,    0.063063,    0.064064,    0.065065,    0.066066,    0.067067,    0.068068,    0.069069,     0.07007,    0.071071,\n",
              "          0.072072,    0.073073,    0.074074,    0.075075,    0.076076,    0.077077,    0.078078,    0.079079,     0.08008,    0.081081,    0.082082,    0.083083,    0.084084,    0.085085,    0.086086,    0.087087,    0.088088,    0.089089,     0.09009,    0.091091,    0.092092,    0.093093,    0.094094,    0.095095,\n",
              "          0.096096,    0.097097,    0.098098,    0.099099,      0.1001,      0.1011,      0.1021,      0.1031,      0.1041,     0.10511,     0.10611,     0.10711,     0.10811,     0.10911,     0.11011,     0.11111,     0.11211,     0.11311,     0.11411,     0.11512,     0.11612,     0.11712,     0.11812,     0.11912,\n",
              "           0.12012,     0.12112,     0.12212,     0.12312,     0.12412,     0.12513,     0.12613,     0.12713,     0.12813,     0.12913,     0.13013,     0.13113,     0.13213,     0.13313,     0.13413,     0.13514,     0.13614,     0.13714,     0.13814,     0.13914,     0.14014,     0.14114,     0.14214,     0.14314,\n",
              "           0.14414,     0.14515,     0.14615,     0.14715,     0.14815,     0.14915,     0.15015,     0.15115,     0.15215,     0.15315,     0.15415,     0.15516,     0.15616,     0.15716,     0.15816,     0.15916,     0.16016,     0.16116,     0.16216,     0.16316,     0.16416,     0.16517,     0.16617,     0.16717,\n",
              "           0.16817,     0.16917,     0.17017,     0.17117,     0.17217,     0.17317,     0.17417,     0.17518,     0.17618,     0.17718,     0.17818,     0.17918,     0.18018,     0.18118,     0.18218,     0.18318,     0.18418,     0.18519,     0.18619,     0.18719,     0.18819,     0.18919,     0.19019,     0.19119,\n",
              "           0.19219,     0.19319,     0.19419,      0.1952,      0.1962,      0.1972,      0.1982,      0.1992,      0.2002,      0.2012,      0.2022,      0.2032,      0.2042,     0.20521,     0.20621,     0.20721,     0.20821,     0.20921,     0.21021,     0.21121,     0.21221,     0.21321,     0.21421,     0.21522,\n",
              "           0.21622,     0.21722,     0.21822,     0.21922,     0.22022,     0.22122,     0.22222,     0.22322,     0.22422,     0.22523,     0.22623,     0.22723,     0.22823,     0.22923,     0.23023,     0.23123,     0.23223,     0.23323,     0.23423,     0.23524,     0.23624,     0.23724,     0.23824,     0.23924,\n",
              "           0.24024,     0.24124,     0.24224,     0.24324,     0.24424,     0.24525,     0.24625,     0.24725,     0.24825,     0.24925,     0.25025,     0.25125,     0.25225,     0.25325,     0.25425,     0.25526,     0.25626,     0.25726,     0.25826,     0.25926,     0.26026,     0.26126,     0.26226,     0.26326,\n",
              "           0.26426,     0.26527,     0.26627,     0.26727,     0.26827,     0.26927,     0.27027,     0.27127,     0.27227,     0.27327,     0.27427,     0.27528,     0.27628,     0.27728,     0.27828,     0.27928,     0.28028,     0.28128,     0.28228,     0.28328,     0.28428,     0.28529,     0.28629,     0.28729,\n",
              "           0.28829,     0.28929,     0.29029,     0.29129,     0.29229,     0.29329,     0.29429,      0.2953,      0.2963,      0.2973,      0.2983,      0.2993,      0.3003,      0.3013,      0.3023,      0.3033,      0.3043,     0.30531,     0.30631,     0.30731,     0.30831,     0.30931,     0.31031,     0.31131,\n",
              "           0.31231,     0.31331,     0.31431,     0.31532,     0.31632,     0.31732,     0.31832,     0.31932,     0.32032,     0.32132,     0.32232,     0.32332,     0.32432,     0.32533,     0.32633,     0.32733,     0.32833,     0.32933,     0.33033,     0.33133,     0.33233,     0.33333,     0.33433,     0.33534,\n",
              "           0.33634,     0.33734,     0.33834,     0.33934,     0.34034,     0.34134,     0.34234,     0.34334,     0.34434,     0.34535,     0.34635,     0.34735,     0.34835,     0.34935,     0.35035,     0.35135,     0.35235,     0.35335,     0.35435,     0.35536,     0.35636,     0.35736,     0.35836,     0.35936,\n",
              "           0.36036,     0.36136,     0.36236,     0.36336,     0.36436,     0.36537,     0.36637,     0.36737,     0.36837,     0.36937,     0.37037,     0.37137,     0.37237,     0.37337,     0.37437,     0.37538,     0.37638,     0.37738,     0.37838,     0.37938,     0.38038,     0.38138,     0.38238,     0.38338,\n",
              "           0.38438,     0.38539,     0.38639,     0.38739,     0.38839,     0.38939,     0.39039,     0.39139,     0.39239,     0.39339,     0.39439,      0.3954,      0.3964,      0.3974,      0.3984,      0.3994,      0.4004,      0.4014,      0.4024,      0.4034,      0.4044,     0.40541,     0.40641,     0.40741,\n",
              "           0.40841,     0.40941,     0.41041,     0.41141,     0.41241,     0.41341,     0.41441,     0.41542,     0.41642,     0.41742,     0.41842,     0.41942,     0.42042,     0.42142,     0.42242,     0.42342,     0.42442,     0.42543,     0.42643,     0.42743,     0.42843,     0.42943,     0.43043,     0.43143,\n",
              "           0.43243,     0.43343,     0.43443,     0.43544,     0.43644,     0.43744,     0.43844,     0.43944,     0.44044,     0.44144,     0.44244,     0.44344,     0.44444,     0.44545,     0.44645,     0.44745,     0.44845,     0.44945,     0.45045,     0.45145,     0.45245,     0.45345,     0.45445,     0.45546,\n",
              "           0.45646,     0.45746,     0.45846,     0.45946,     0.46046,     0.46146,     0.46246,     0.46346,     0.46446,     0.46547,     0.46647,     0.46747,     0.46847,     0.46947,     0.47047,     0.47147,     0.47247,     0.47347,     0.47447,     0.47548,     0.47648,     0.47748,     0.47848,     0.47948,\n",
              "           0.48048,     0.48148,     0.48248,     0.48348,     0.48448,     0.48549,     0.48649,     0.48749,     0.48849,     0.48949,     0.49049,     0.49149,     0.49249,     0.49349,     0.49449,      0.4955,      0.4965,      0.4975,      0.4985,      0.4995,      0.5005,      0.5015,      0.5025,      0.5035,\n",
              "            0.5045,     0.50551,     0.50651,     0.50751,     0.50851,     0.50951,     0.51051,     0.51151,     0.51251,     0.51351,     0.51451,     0.51552,     0.51652,     0.51752,     0.51852,     0.51952,     0.52052,     0.52152,     0.52252,     0.52352,     0.52452,     0.52553,     0.52653,     0.52753,\n",
              "           0.52853,     0.52953,     0.53053,     0.53153,     0.53253,     0.53353,     0.53453,     0.53554,     0.53654,     0.53754,     0.53854,     0.53954,     0.54054,     0.54154,     0.54254,     0.54354,     0.54454,     0.54555,     0.54655,     0.54755,     0.54855,     0.54955,     0.55055,     0.55155,\n",
              "           0.55255,     0.55355,     0.55455,     0.55556,     0.55656,     0.55756,     0.55856,     0.55956,     0.56056,     0.56156,     0.56256,     0.56356,     0.56456,     0.56557,     0.56657,     0.56757,     0.56857,     0.56957,     0.57057,     0.57157,     0.57257,     0.57357,     0.57457,     0.57558,\n",
              "           0.57658,     0.57758,     0.57858,     0.57958,     0.58058,     0.58158,     0.58258,     0.58358,     0.58458,     0.58559,     0.58659,     0.58759,     0.58859,     0.58959,     0.59059,     0.59159,     0.59259,     0.59359,     0.59459,      0.5956,      0.5966,      0.5976,      0.5986,      0.5996,\n",
              "            0.6006,      0.6016,      0.6026,      0.6036,      0.6046,     0.60561,     0.60661,     0.60761,     0.60861,     0.60961,     0.61061,     0.61161,     0.61261,     0.61361,     0.61461,     0.61562,     0.61662,     0.61762,     0.61862,     0.61962,     0.62062,     0.62162,     0.62262,     0.62362,\n",
              "           0.62462,     0.62563,     0.62663,     0.62763,     0.62863,     0.62963,     0.63063,     0.63163,     0.63263,     0.63363,     0.63463,     0.63564,     0.63664,     0.63764,     0.63864,     0.63964,     0.64064,     0.64164,     0.64264,     0.64364,     0.64464,     0.64565,     0.64665,     0.64765,\n",
              "           0.64865,     0.64965,     0.65065,     0.65165,     0.65265,     0.65365,     0.65465,     0.65566,     0.65666,     0.65766,     0.65866,     0.65966,     0.66066,     0.66166,     0.66266,     0.66366,     0.66466,     0.66567,     0.66667,     0.66767,     0.66867,     0.66967,     0.67067,     0.67167,\n",
              "           0.67267,     0.67367,     0.67467,     0.67568,     0.67668,     0.67768,     0.67868,     0.67968,     0.68068,     0.68168,     0.68268,     0.68368,     0.68468,     0.68569,     0.68669,     0.68769,     0.68869,     0.68969,     0.69069,     0.69169,     0.69269,     0.69369,     0.69469,      0.6957,\n",
              "            0.6967,      0.6977,      0.6987,      0.6997,      0.7007,      0.7017,      0.7027,      0.7037,      0.7047,     0.70571,     0.70671,     0.70771,     0.70871,     0.70971,     0.71071,     0.71171,     0.71271,     0.71371,     0.71471,     0.71572,     0.71672,     0.71772,     0.71872,     0.71972,\n",
              "           0.72072,     0.72172,     0.72272,     0.72372,     0.72472,     0.72573,     0.72673,     0.72773,     0.72873,     0.72973,     0.73073,     0.73173,     0.73273,     0.73373,     0.73473,     0.73574,     0.73674,     0.73774,     0.73874,     0.73974,     0.74074,     0.74174,     0.74274,     0.74374,\n",
              "           0.74474,     0.74575,     0.74675,     0.74775,     0.74875,     0.74975,     0.75075,     0.75175,     0.75275,     0.75375,     0.75475,     0.75576,     0.75676,     0.75776,     0.75876,     0.75976,     0.76076,     0.76176,     0.76276,     0.76376,     0.76476,     0.76577,     0.76677,     0.76777,\n",
              "           0.76877,     0.76977,     0.77077,     0.77177,     0.77277,     0.77377,     0.77477,     0.77578,     0.77678,     0.77778,     0.77878,     0.77978,     0.78078,     0.78178,     0.78278,     0.78378,     0.78478,     0.78579,     0.78679,     0.78779,     0.78879,     0.78979,     0.79079,     0.79179,\n",
              "           0.79279,     0.79379,     0.79479,      0.7958,      0.7968,      0.7978,      0.7988,      0.7998,      0.8008,      0.8018,      0.8028,      0.8038,      0.8048,     0.80581,     0.80681,     0.80781,     0.80881,     0.80981,     0.81081,     0.81181,     0.81281,     0.81381,     0.81481,     0.81582,\n",
              "           0.81682,     0.81782,     0.81882,     0.81982,     0.82082,     0.82182,     0.82282,     0.82382,     0.82482,     0.82583,     0.82683,     0.82783,     0.82883,     0.82983,     0.83083,     0.83183,     0.83283,     0.83383,     0.83483,     0.83584,     0.83684,     0.83784,     0.83884,     0.83984,\n",
              "           0.84084,     0.84184,     0.84284,     0.84384,     0.84484,     0.84585,     0.84685,     0.84785,     0.84885,     0.84985,     0.85085,     0.85185,     0.85285,     0.85385,     0.85485,     0.85586,     0.85686,     0.85786,     0.85886,     0.85986,     0.86086,     0.86186,     0.86286,     0.86386,\n",
              "           0.86486,     0.86587,     0.86687,     0.86787,     0.86887,     0.86987,     0.87087,     0.87187,     0.87287,     0.87387,     0.87487,     0.87588,     0.87688,     0.87788,     0.87888,     0.87988,     0.88088,     0.88188,     0.88288,     0.88388,     0.88488,     0.88589,     0.88689,     0.88789,\n",
              "           0.88889,     0.88989,     0.89089,     0.89189,     0.89289,     0.89389,     0.89489,      0.8959,      0.8969,      0.8979,      0.8989,      0.8999,      0.9009,      0.9019,      0.9029,      0.9039,      0.9049,     0.90591,     0.90691,     0.90791,     0.90891,     0.90991,     0.91091,     0.91191,\n",
              "           0.91291,     0.91391,     0.91491,     0.91592,     0.91692,     0.91792,     0.91892,     0.91992,     0.92092,     0.92192,     0.92292,     0.92392,     0.92492,     0.92593,     0.92693,     0.92793,     0.92893,     0.92993,     0.93093,     0.93193,     0.93293,     0.93393,     0.93493,     0.93594,\n",
              "           0.93694,     0.93794,     0.93894,     0.93994,     0.94094,     0.94194,     0.94294,     0.94394,     0.94494,     0.94595,     0.94695,     0.94795,     0.94895,     0.94995,     0.95095,     0.95195,     0.95295,     0.95395,     0.95495,     0.95596,     0.95696,     0.95796,     0.95896,     0.95996,\n",
              "           0.96096,     0.96196,     0.96296,     0.96396,     0.96496,     0.96597,     0.96697,     0.96797,     0.96897,     0.96997,     0.97097,     0.97197,     0.97297,     0.97397,     0.97497,     0.97598,     0.97698,     0.97798,     0.97898,     0.97998,     0.98098,     0.98198,     0.98298,     0.98398,\n",
              "           0.98498,     0.98599,     0.98699,     0.98799,     0.98899,     0.98999,     0.99099,     0.99199,     0.99299,     0.99399,     0.99499,       0.996,       0.997,       0.998,       0.999,           1]), array([[    0.95062,     0.95062,     0.95062,     0.95062,     0.95062,     0.95062,     0.94828,     0.94828,     0.94828,     0.94828,     0.94828,     0.94807,     0.94807,     0.94807,     0.94807,      0.9442,     0.94387,     0.94214,     0.94145,       0.938,     0.93663,     0.93569,     0.93381,\n",
              "            0.93381,     0.93338,     0.93327,     0.93327,     0.93327,     0.93327,     0.93327,     0.93327,     0.93327,     0.93327,     0.93327,     0.93272,     0.93161,     0.93052,     0.93034,     0.93034,      0.9295,      0.9295,      0.9295,     0.92912,     0.92912,     0.92912,     0.92912,\n",
              "            0.92912,     0.92912,     0.92912,     0.92912,     0.92912,     0.92912,     0.92912,     0.92912,     0.92912,     0.92912,     0.92912,     0.92912,     0.92912,     0.92912,     0.92912,     0.92912,     0.92912,     0.92912,     0.92912,     0.92912,     0.92912,     0.92912,     0.92912,\n",
              "            0.92912,     0.92912,     0.92903,     0.92874,     0.92803,     0.92749,      0.9268,     0.92643,     0.92643,     0.92643,     0.92643,      0.9264,     0.92621,     0.92621,     0.92621,     0.92621,     0.92621,     0.92588,     0.92587,     0.92576,     0.92561,     0.92546,     0.92516,\n",
              "            0.92504,     0.92504,     0.92504,     0.92479,     0.92449,     0.92449,     0.92449,     0.92449,     0.92422,     0.92422,     0.92407,     0.92378,     0.92378,     0.92357,     0.92357,     0.92256,     0.92218,     0.92218,     0.92218,     0.92218,     0.92195,     0.92195,     0.92149,\n",
              "            0.92111,     0.92102,     0.92097,     0.92085,     0.92071,      0.9206,      0.9205,      0.9205,      0.9205,     0.92048,     0.92037,     0.92037,     0.92037,     0.91961,     0.91956,     0.91891,     0.91855,     0.91819,     0.91803,     0.91803,     0.91803,     0.91803,     0.91803,\n",
              "            0.91803,     0.91803,     0.91803,     0.91803,     0.91803,     0.91803,     0.91803,     0.91781,     0.91764,     0.91736,      0.9172,     0.91713,     0.91707,     0.91707,     0.91707,     0.91707,     0.91707,     0.91707,     0.91707,     0.91703,     0.91649,     0.91609,     0.91609,\n",
              "            0.91609,     0.91609,     0.91609,     0.91609,     0.91609,     0.91609,     0.91609,     0.91609,     0.91609,     0.91609,     0.91607,     0.91605,       0.916,     0.91583,     0.91583,     0.91583,     0.91581,     0.91548,     0.91513,     0.91498,     0.91498,     0.91485,     0.91485,\n",
              "            0.91482,     0.91479,     0.91456,      0.9143,       0.914,     0.91395,     0.91384,     0.91365,     0.91363,     0.91363,      0.9136,     0.91337,     0.91337,     0.91337,     0.91337,     0.91337,     0.91337,     0.91337,     0.91337,     0.91337,     0.91337,       0.913,       0.913,\n",
              "            0.91281,     0.91281,     0.91268,     0.91208,     0.91154,     0.91154,     0.91154,     0.91146,      0.9113,      0.9113,     0.91098,     0.91095,     0.91084,     0.91073,      0.9107,      0.9107,     0.91044,     0.91044,     0.91041,     0.91023,     0.91005,     0.90983,     0.90968,\n",
              "            0.90962,     0.90931,     0.90931,     0.90928,     0.90928,     0.90927,     0.90907,     0.90907,     0.90836,     0.90803,     0.90785,      0.9076,     0.90741,     0.90727,     0.90713,     0.90685,     0.90658,     0.90625,     0.90625,     0.90607,     0.90587,     0.90584,     0.90584,\n",
              "            0.90567,     0.90523,     0.90523,     0.90517,     0.90511,     0.90471,      0.9047,     0.90441,     0.90437,     0.90427,     0.90425,     0.90397,     0.90383,     0.90381,     0.90381,     0.90371,     0.90295,     0.90277,     0.90277,     0.90271,     0.90271,     0.90251,     0.90177,\n",
              "            0.90177,     0.90158,      0.9015,      0.9013,      0.9013,     0.90109,     0.90096,     0.90096,     0.90072,      0.9007,     0.90052,     0.90041,     0.90041,     0.90041,     0.90041,     0.90041,     0.90041,     0.90041,     0.90026,     0.90004,     0.90004,     0.90004,     0.90001,\n",
              "            0.89978,     0.89964,      0.8996,     0.89947,     0.89931,     0.89895,     0.89858,     0.89858,     0.89852,     0.89835,     0.89834,     0.89825,     0.89806,     0.89776,     0.89765,     0.89765,      0.8974,      0.8974,      0.8974,      0.8974,      0.8973,     0.89723,     0.89723,\n",
              "            0.89717,      0.8971,     0.89683,     0.89683,     0.89683,     0.89626,     0.89609,     0.89606,     0.89578,     0.89555,     0.89518,     0.89513,     0.89497,     0.89497,     0.89485,     0.89477,     0.89454,      0.8943,     0.89408,     0.89395,     0.89377,      0.8935,      0.8935,\n",
              "             0.8935,      0.8935,     0.89339,     0.89329,     0.89292,     0.89287,     0.89286,     0.89286,     0.89286,     0.89234,     0.89224,     0.89223,     0.89223,     0.89223,      0.8921,     0.89205,     0.89184,     0.89173,     0.89135,     0.89132,      0.8911,     0.89082,     0.89054,\n",
              "            0.89022,     0.89009,     0.88978,     0.88954,     0.88944,     0.88944,     0.88943,     0.88936,     0.88931,     0.88931,     0.88917,     0.88904,     0.88885,     0.88885,     0.88877,      0.8885,     0.88829,     0.88796,     0.88755,     0.88745,     0.88735,     0.88719,     0.88691,\n",
              "            0.88651,     0.88633,     0.88613,     0.88607,     0.88607,     0.88595,     0.88579,     0.88574,     0.88544,     0.88512,     0.88479,     0.88462,     0.88451,     0.88436,     0.88434,     0.88409,      0.8839,     0.88377,     0.88355,     0.88339,     0.88307,     0.88307,      0.8827,\n",
              "             0.8827,     0.88262,     0.88244,      0.8821,     0.88172,      0.8816,     0.88155,     0.88139,     0.88098,     0.88098,     0.88098,     0.88098,     0.88097,      0.8809,     0.88067,     0.88055,     0.88039,     0.88018,     0.87988,     0.87966,     0.87938,     0.87931,     0.87903,\n",
              "            0.87878,     0.87865,     0.87845,      0.8782,     0.87795,      0.8779,     0.87765,     0.87758,     0.87742,     0.87722,     0.87693,     0.87677,     0.87645,     0.87619,     0.87606,     0.87591,     0.87568,     0.87562,     0.87543,     0.87513,     0.87485,     0.87481,     0.87463,\n",
              "             0.8745,     0.87441,     0.87441,     0.87424,     0.87414,       0.874,     0.87376,     0.87374,     0.87339,     0.87305,       0.873,     0.87291,     0.87276,     0.87238,     0.87203,     0.87175,     0.87152,     0.87128,     0.87112,     0.87091,     0.87057,     0.87047,     0.87024,\n",
              "            0.87011,     0.87006,     0.86984,     0.86947,     0.86925,     0.86879,     0.86857,      0.8685,     0.86846,      0.8682,      0.8682,     0.86802,     0.86773,     0.86738,     0.86706,     0.86688,     0.86661,     0.86628,     0.86595,     0.86577,     0.86555,     0.86551,      0.8651,\n",
              "            0.86487,     0.86461,     0.86438,     0.86431,       0.864,     0.86377,     0.86362,     0.86344,     0.86323,     0.86318,     0.86291,     0.86268,     0.86237,     0.86207,     0.86203,     0.86196,     0.86157,     0.86136,     0.86109,     0.86109,     0.86101,     0.86092,      0.8606,\n",
              "            0.86038,      0.8601,     0.85997,     0.85949,     0.85932,     0.85907,     0.85896,     0.85877,     0.85857,     0.85849,     0.85829,     0.85824,       0.858,     0.85768,     0.85737,     0.85712,     0.85696,     0.85668,      0.8564,     0.85616,     0.85594,     0.85564,     0.85529,\n",
              "            0.85506,     0.85483,     0.85466,     0.85447,     0.85416,       0.854,     0.85383,     0.85346,     0.85317,     0.85288,     0.85254,     0.85237,     0.85205,     0.85154,     0.85131,     0.85098,      0.8506,     0.85044,     0.85021,        0.85,     0.84955,     0.84907,     0.84876,\n",
              "            0.84842,     0.84827,     0.84794,     0.84774,     0.84715,     0.84689,     0.84668,     0.84639,     0.84583,     0.84548,     0.84507,      0.8446,     0.84445,     0.84427,     0.84392,     0.84355,      0.8434,     0.84311,     0.84278,     0.84242,     0.84213,     0.84185,     0.84142,\n",
              "            0.84101,     0.84081,     0.84048,     0.84017,      0.8399,     0.83956,     0.83912,     0.83881,     0.83844,     0.83823,     0.83807,     0.83774,     0.83769,     0.83724,      0.8369,     0.83667,      0.8364,     0.83611,     0.83555,     0.83523,     0.83477,     0.83407,      0.8338,\n",
              "            0.83357,     0.83343,     0.83313,     0.83293,     0.83255,     0.83233,     0.83209,     0.83181,     0.83144,     0.83119,     0.83077,     0.83039,     0.83002,     0.82966,     0.82926,     0.82888,     0.82844,     0.82822,     0.82777,     0.82724,     0.82689,     0.82655,     0.82631,\n",
              "             0.8259,     0.82555,     0.82509,      0.8246,     0.82432,     0.82402,     0.82356,     0.82325,     0.82304,     0.82274,     0.82255,     0.82218,     0.82197,      0.8216,     0.82096,     0.82061,     0.82027,     0.81979,     0.81936,     0.81906,     0.81872,     0.81815,     0.81794,\n",
              "             0.8178,     0.81731,     0.81685,     0.81629,     0.81584,     0.81549,     0.81487,     0.81419,     0.81366,     0.81294,     0.81247,     0.81204,     0.81167,     0.81136,     0.81094,     0.81069,     0.81022,     0.80978,     0.80968,     0.80931,     0.80866,     0.80826,     0.80793,\n",
              "             0.8075,     0.80689,     0.80647,     0.80597,     0.80539,     0.80492,     0.80441,     0.80378,     0.80352,     0.80299,     0.80235,      0.8019,     0.80137,     0.80099,      0.8005,         0.8,     0.79961,     0.79911,     0.79831,     0.79785,     0.79741,     0.79704,     0.79649,\n",
              "             0.7961,     0.79579,     0.79502,     0.79412,     0.79371,      0.7929,      0.7922,     0.79187,      0.7915,     0.79082,     0.79014,     0.78971,     0.78907,     0.78838,     0.78789,     0.78739,     0.78668,     0.78608,     0.78535,     0.78477,     0.78398,      0.7832,     0.78247,\n",
              "            0.78158,      0.7808,     0.78003,     0.77935,     0.77897,     0.77804,     0.77698,     0.77635,     0.77565,     0.77499,     0.77446,     0.77367,     0.77285,     0.77195,     0.77117,     0.77034,     0.76977,     0.76902,     0.76795,      0.7674,     0.76658,     0.76599,     0.76516,\n",
              "            0.76428,     0.76296,     0.76196,     0.76115,     0.76012,      0.7595,     0.75859,     0.75768,     0.75678,     0.75572,     0.75468,     0.75374,     0.75256,     0.75149,     0.75075,     0.74956,     0.74895,     0.74763,     0.74627,      0.7454,     0.74449,      0.7432,     0.74207,\n",
              "            0.74098,     0.73992,     0.73923,     0.73838,     0.73756,     0.73637,     0.73492,     0.73389,     0.73258,     0.73142,     0.73006,     0.72868,     0.72732,     0.72587,     0.72408,     0.72303,     0.72183,     0.72021,      0.7184,     0.71701,     0.71547,     0.71379,     0.71217,\n",
              "            0.71017,      0.7089,     0.70736,     0.70607,      0.7046,     0.70313,     0.70139,      0.6999,      0.6983,     0.69652,     0.69461,     0.69285,     0.69048,     0.68896,     0.68724,     0.68472,     0.68292,     0.68092,     0.67857,     0.67671,     0.67456,     0.67265,     0.67107,\n",
              "             0.6684,     0.66556,     0.66199,     0.65878,     0.65638,     0.65357,     0.65052,     0.64714,     0.64474,     0.64222,     0.63969,     0.63633,     0.63181,     0.62735,     0.62348,     0.62037,     0.61746,     0.61308,     0.60821,     0.60423,     0.59984,     0.59572,     0.58995,\n",
              "            0.58587,     0.58059,     0.57572,     0.57008,     0.56364,     0.55694,     0.54889,      0.5437,     0.53806,      0.5325,     0.52724,     0.52256,     0.51619,     0.51047,     0.50503,     0.49813,      0.4929,     0.48616,     0.48215,      0.4756,     0.46923,     0.46335,     0.45663,\n",
              "            0.44894,     0.44164,     0.43541,     0.42802,     0.42213,     0.41513,     0.40943,      0.4029,     0.39503,     0.38854,     0.38221,      0.3763,     0.37027,     0.36395,     0.35787,     0.35142,     0.34407,     0.33774,     0.33091,     0.32425,     0.31742,     0.31024,     0.30185,\n",
              "            0.29489,     0.28712,     0.27931,     0.27066,     0.26397,     0.25675,     0.24635,     0.23594,     0.22721,     0.21819,     0.20276,     0.19333,     0.17844,       0.166,     0.15923,     0.15742,     0.15561,      0.1538,     0.15199,     0.15018,     0.14837,     0.14656,     0.14475,\n",
              "            0.14294,     0.14113,     0.13933,     0.13752,     0.13571,      0.1339,     0.13209,     0.13028,     0.12847,     0.12666,     0.12485,     0.12304,     0.12123,     0.11942,     0.11761,      0.1158,     0.11399,     0.11218,     0.11037,     0.10857,     0.10676,     0.10495,     0.10314,\n",
              "            0.10133,    0.099518,    0.097709,    0.095899,     0.09409,    0.092281,    0.090471,    0.088662,    0.086852,    0.085043,    0.083233,    0.081424,    0.079615,    0.077805,    0.075996,    0.074186,    0.072377,    0.070567,    0.068758,    0.066949,    0.065139,     0.06333,     0.06152,\n",
              "           0.059711,    0.057902,    0.056092,    0.054283,    0.052473,    0.050664,    0.048854,    0.047045,    0.045236,    0.043426,    0.041617,    0.039807,    0.037998,    0.036188,    0.034379,     0.03257,     0.03076,    0.028951,    0.027141,    0.025332,    0.023522,    0.021713,    0.019904,\n",
              "           0.018094,    0.016285,    0.014475,    0.012666,    0.010857,   0.0090471,   0.0072377,   0.0054283,   0.0036188,   0.0018094,           0]]), 'Recall', 'Precision'], [array([          0,    0.001001,    0.002002,    0.003003,    0.004004,    0.005005,    0.006006,    0.007007,    0.008008,    0.009009,     0.01001,    0.011011,    0.012012,    0.013013,    0.014014,    0.015015,    0.016016,    0.017017,    0.018018,    0.019019,     0.02002,    0.021021,    0.022022,    0.023023,\n",
              "          0.024024,    0.025025,    0.026026,    0.027027,    0.028028,    0.029029,     0.03003,    0.031031,    0.032032,    0.033033,    0.034034,    0.035035,    0.036036,    0.037037,    0.038038,    0.039039,     0.04004,    0.041041,    0.042042,    0.043043,    0.044044,    0.045045,    0.046046,    0.047047,\n",
              "          0.048048,    0.049049,     0.05005,    0.051051,    0.052052,    0.053053,    0.054054,    0.055055,    0.056056,    0.057057,    0.058058,    0.059059,     0.06006,    0.061061,    0.062062,    0.063063,    0.064064,    0.065065,    0.066066,    0.067067,    0.068068,    0.069069,     0.07007,    0.071071,\n",
              "          0.072072,    0.073073,    0.074074,    0.075075,    0.076076,    0.077077,    0.078078,    0.079079,     0.08008,    0.081081,    0.082082,    0.083083,    0.084084,    0.085085,    0.086086,    0.087087,    0.088088,    0.089089,     0.09009,    0.091091,    0.092092,    0.093093,    0.094094,    0.095095,\n",
              "          0.096096,    0.097097,    0.098098,    0.099099,      0.1001,      0.1011,      0.1021,      0.1031,      0.1041,     0.10511,     0.10611,     0.10711,     0.10811,     0.10911,     0.11011,     0.11111,     0.11211,     0.11311,     0.11411,     0.11512,     0.11612,     0.11712,     0.11812,     0.11912,\n",
              "           0.12012,     0.12112,     0.12212,     0.12312,     0.12412,     0.12513,     0.12613,     0.12713,     0.12813,     0.12913,     0.13013,     0.13113,     0.13213,     0.13313,     0.13413,     0.13514,     0.13614,     0.13714,     0.13814,     0.13914,     0.14014,     0.14114,     0.14214,     0.14314,\n",
              "           0.14414,     0.14515,     0.14615,     0.14715,     0.14815,     0.14915,     0.15015,     0.15115,     0.15215,     0.15315,     0.15415,     0.15516,     0.15616,     0.15716,     0.15816,     0.15916,     0.16016,     0.16116,     0.16216,     0.16316,     0.16416,     0.16517,     0.16617,     0.16717,\n",
              "           0.16817,     0.16917,     0.17017,     0.17117,     0.17217,     0.17317,     0.17417,     0.17518,     0.17618,     0.17718,     0.17818,     0.17918,     0.18018,     0.18118,     0.18218,     0.18318,     0.18418,     0.18519,     0.18619,     0.18719,     0.18819,     0.18919,     0.19019,     0.19119,\n",
              "           0.19219,     0.19319,     0.19419,      0.1952,      0.1962,      0.1972,      0.1982,      0.1992,      0.2002,      0.2012,      0.2022,      0.2032,      0.2042,     0.20521,     0.20621,     0.20721,     0.20821,     0.20921,     0.21021,     0.21121,     0.21221,     0.21321,     0.21421,     0.21522,\n",
              "           0.21622,     0.21722,     0.21822,     0.21922,     0.22022,     0.22122,     0.22222,     0.22322,     0.22422,     0.22523,     0.22623,     0.22723,     0.22823,     0.22923,     0.23023,     0.23123,     0.23223,     0.23323,     0.23423,     0.23524,     0.23624,     0.23724,     0.23824,     0.23924,\n",
              "           0.24024,     0.24124,     0.24224,     0.24324,     0.24424,     0.24525,     0.24625,     0.24725,     0.24825,     0.24925,     0.25025,     0.25125,     0.25225,     0.25325,     0.25425,     0.25526,     0.25626,     0.25726,     0.25826,     0.25926,     0.26026,     0.26126,     0.26226,     0.26326,\n",
              "           0.26426,     0.26527,     0.26627,     0.26727,     0.26827,     0.26927,     0.27027,     0.27127,     0.27227,     0.27327,     0.27427,     0.27528,     0.27628,     0.27728,     0.27828,     0.27928,     0.28028,     0.28128,     0.28228,     0.28328,     0.28428,     0.28529,     0.28629,     0.28729,\n",
              "           0.28829,     0.28929,     0.29029,     0.29129,     0.29229,     0.29329,     0.29429,      0.2953,      0.2963,      0.2973,      0.2983,      0.2993,      0.3003,      0.3013,      0.3023,      0.3033,      0.3043,     0.30531,     0.30631,     0.30731,     0.30831,     0.30931,     0.31031,     0.31131,\n",
              "           0.31231,     0.31331,     0.31431,     0.31532,     0.31632,     0.31732,     0.31832,     0.31932,     0.32032,     0.32132,     0.32232,     0.32332,     0.32432,     0.32533,     0.32633,     0.32733,     0.32833,     0.32933,     0.33033,     0.33133,     0.33233,     0.33333,     0.33433,     0.33534,\n",
              "           0.33634,     0.33734,     0.33834,     0.33934,     0.34034,     0.34134,     0.34234,     0.34334,     0.34434,     0.34535,     0.34635,     0.34735,     0.34835,     0.34935,     0.35035,     0.35135,     0.35235,     0.35335,     0.35435,     0.35536,     0.35636,     0.35736,     0.35836,     0.35936,\n",
              "           0.36036,     0.36136,     0.36236,     0.36336,     0.36436,     0.36537,     0.36637,     0.36737,     0.36837,     0.36937,     0.37037,     0.37137,     0.37237,     0.37337,     0.37437,     0.37538,     0.37638,     0.37738,     0.37838,     0.37938,     0.38038,     0.38138,     0.38238,     0.38338,\n",
              "           0.38438,     0.38539,     0.38639,     0.38739,     0.38839,     0.38939,     0.39039,     0.39139,     0.39239,     0.39339,     0.39439,      0.3954,      0.3964,      0.3974,      0.3984,      0.3994,      0.4004,      0.4014,      0.4024,      0.4034,      0.4044,     0.40541,     0.40641,     0.40741,\n",
              "           0.40841,     0.40941,     0.41041,     0.41141,     0.41241,     0.41341,     0.41441,     0.41542,     0.41642,     0.41742,     0.41842,     0.41942,     0.42042,     0.42142,     0.42242,     0.42342,     0.42442,     0.42543,     0.42643,     0.42743,     0.42843,     0.42943,     0.43043,     0.43143,\n",
              "           0.43243,     0.43343,     0.43443,     0.43544,     0.43644,     0.43744,     0.43844,     0.43944,     0.44044,     0.44144,     0.44244,     0.44344,     0.44444,     0.44545,     0.44645,     0.44745,     0.44845,     0.44945,     0.45045,     0.45145,     0.45245,     0.45345,     0.45445,     0.45546,\n",
              "           0.45646,     0.45746,     0.45846,     0.45946,     0.46046,     0.46146,     0.46246,     0.46346,     0.46446,     0.46547,     0.46647,     0.46747,     0.46847,     0.46947,     0.47047,     0.47147,     0.47247,     0.47347,     0.47447,     0.47548,     0.47648,     0.47748,     0.47848,     0.47948,\n",
              "           0.48048,     0.48148,     0.48248,     0.48348,     0.48448,     0.48549,     0.48649,     0.48749,     0.48849,     0.48949,     0.49049,     0.49149,     0.49249,     0.49349,     0.49449,      0.4955,      0.4965,      0.4975,      0.4985,      0.4995,      0.5005,      0.5015,      0.5025,      0.5035,\n",
              "            0.5045,     0.50551,     0.50651,     0.50751,     0.50851,     0.50951,     0.51051,     0.51151,     0.51251,     0.51351,     0.51451,     0.51552,     0.51652,     0.51752,     0.51852,     0.51952,     0.52052,     0.52152,     0.52252,     0.52352,     0.52452,     0.52553,     0.52653,     0.52753,\n",
              "           0.52853,     0.52953,     0.53053,     0.53153,     0.53253,     0.53353,     0.53453,     0.53554,     0.53654,     0.53754,     0.53854,     0.53954,     0.54054,     0.54154,     0.54254,     0.54354,     0.54454,     0.54555,     0.54655,     0.54755,     0.54855,     0.54955,     0.55055,     0.55155,\n",
              "           0.55255,     0.55355,     0.55455,     0.55556,     0.55656,     0.55756,     0.55856,     0.55956,     0.56056,     0.56156,     0.56256,     0.56356,     0.56456,     0.56557,     0.56657,     0.56757,     0.56857,     0.56957,     0.57057,     0.57157,     0.57257,     0.57357,     0.57457,     0.57558,\n",
              "           0.57658,     0.57758,     0.57858,     0.57958,     0.58058,     0.58158,     0.58258,     0.58358,     0.58458,     0.58559,     0.58659,     0.58759,     0.58859,     0.58959,     0.59059,     0.59159,     0.59259,     0.59359,     0.59459,      0.5956,      0.5966,      0.5976,      0.5986,      0.5996,\n",
              "            0.6006,      0.6016,      0.6026,      0.6036,      0.6046,     0.60561,     0.60661,     0.60761,     0.60861,     0.60961,     0.61061,     0.61161,     0.61261,     0.61361,     0.61461,     0.61562,     0.61662,     0.61762,     0.61862,     0.61962,     0.62062,     0.62162,     0.62262,     0.62362,\n",
              "           0.62462,     0.62563,     0.62663,     0.62763,     0.62863,     0.62963,     0.63063,     0.63163,     0.63263,     0.63363,     0.63463,     0.63564,     0.63664,     0.63764,     0.63864,     0.63964,     0.64064,     0.64164,     0.64264,     0.64364,     0.64464,     0.64565,     0.64665,     0.64765,\n",
              "           0.64865,     0.64965,     0.65065,     0.65165,     0.65265,     0.65365,     0.65465,     0.65566,     0.65666,     0.65766,     0.65866,     0.65966,     0.66066,     0.66166,     0.66266,     0.66366,     0.66466,     0.66567,     0.66667,     0.66767,     0.66867,     0.66967,     0.67067,     0.67167,\n",
              "           0.67267,     0.67367,     0.67467,     0.67568,     0.67668,     0.67768,     0.67868,     0.67968,     0.68068,     0.68168,     0.68268,     0.68368,     0.68468,     0.68569,     0.68669,     0.68769,     0.68869,     0.68969,     0.69069,     0.69169,     0.69269,     0.69369,     0.69469,      0.6957,\n",
              "            0.6967,      0.6977,      0.6987,      0.6997,      0.7007,      0.7017,      0.7027,      0.7037,      0.7047,     0.70571,     0.70671,     0.70771,     0.70871,     0.70971,     0.71071,     0.71171,     0.71271,     0.71371,     0.71471,     0.71572,     0.71672,     0.71772,     0.71872,     0.71972,\n",
              "           0.72072,     0.72172,     0.72272,     0.72372,     0.72472,     0.72573,     0.72673,     0.72773,     0.72873,     0.72973,     0.73073,     0.73173,     0.73273,     0.73373,     0.73473,     0.73574,     0.73674,     0.73774,     0.73874,     0.73974,     0.74074,     0.74174,     0.74274,     0.74374,\n",
              "           0.74474,     0.74575,     0.74675,     0.74775,     0.74875,     0.74975,     0.75075,     0.75175,     0.75275,     0.75375,     0.75475,     0.75576,     0.75676,     0.75776,     0.75876,     0.75976,     0.76076,     0.76176,     0.76276,     0.76376,     0.76476,     0.76577,     0.76677,     0.76777,\n",
              "           0.76877,     0.76977,     0.77077,     0.77177,     0.77277,     0.77377,     0.77477,     0.77578,     0.77678,     0.77778,     0.77878,     0.77978,     0.78078,     0.78178,     0.78278,     0.78378,     0.78478,     0.78579,     0.78679,     0.78779,     0.78879,     0.78979,     0.79079,     0.79179,\n",
              "           0.79279,     0.79379,     0.79479,      0.7958,      0.7968,      0.7978,      0.7988,      0.7998,      0.8008,      0.8018,      0.8028,      0.8038,      0.8048,     0.80581,     0.80681,     0.80781,     0.80881,     0.80981,     0.81081,     0.81181,     0.81281,     0.81381,     0.81481,     0.81582,\n",
              "           0.81682,     0.81782,     0.81882,     0.81982,     0.82082,     0.82182,     0.82282,     0.82382,     0.82482,     0.82583,     0.82683,     0.82783,     0.82883,     0.82983,     0.83083,     0.83183,     0.83283,     0.83383,     0.83483,     0.83584,     0.83684,     0.83784,     0.83884,     0.83984,\n",
              "           0.84084,     0.84184,     0.84284,     0.84384,     0.84484,     0.84585,     0.84685,     0.84785,     0.84885,     0.84985,     0.85085,     0.85185,     0.85285,     0.85385,     0.85485,     0.85586,     0.85686,     0.85786,     0.85886,     0.85986,     0.86086,     0.86186,     0.86286,     0.86386,\n",
              "           0.86486,     0.86587,     0.86687,     0.86787,     0.86887,     0.86987,     0.87087,     0.87187,     0.87287,     0.87387,     0.87487,     0.87588,     0.87688,     0.87788,     0.87888,     0.87988,     0.88088,     0.88188,     0.88288,     0.88388,     0.88488,     0.88589,     0.88689,     0.88789,\n",
              "           0.88889,     0.88989,     0.89089,     0.89189,     0.89289,     0.89389,     0.89489,      0.8959,      0.8969,      0.8979,      0.8989,      0.8999,      0.9009,      0.9019,      0.9029,      0.9039,      0.9049,     0.90591,     0.90691,     0.90791,     0.90891,     0.90991,     0.91091,     0.91191,\n",
              "           0.91291,     0.91391,     0.91491,     0.91592,     0.91692,     0.91792,     0.91892,     0.91992,     0.92092,     0.92192,     0.92292,     0.92392,     0.92492,     0.92593,     0.92693,     0.92793,     0.92893,     0.92993,     0.93093,     0.93193,     0.93293,     0.93393,     0.93493,     0.93594,\n",
              "           0.93694,     0.93794,     0.93894,     0.93994,     0.94094,     0.94194,     0.94294,     0.94394,     0.94494,     0.94595,     0.94695,     0.94795,     0.94895,     0.94995,     0.95095,     0.95195,     0.95295,     0.95395,     0.95495,     0.95596,     0.95696,     0.95796,     0.95896,     0.95996,\n",
              "           0.96096,     0.96196,     0.96296,     0.96396,     0.96496,     0.96597,     0.96697,     0.96797,     0.96897,     0.96997,     0.97097,     0.97197,     0.97297,     0.97397,     0.97497,     0.97598,     0.97698,     0.97798,     0.97898,     0.97998,     0.98098,     0.98198,     0.98298,     0.98398,\n",
              "           0.98498,     0.98599,     0.98699,     0.98799,     0.98899,     0.98999,     0.99099,     0.99199,     0.99299,     0.99399,     0.99499,       0.996,       0.997,       0.998,       0.999,           1]), array([[    0.27299,     0.27299,     0.31768,     0.34695,     0.36918,     0.38747,     0.40291,     0.41581,     0.42815,     0.43873,      0.4491,     0.45795,     0.46641,     0.47428,      0.4823,     0.48963,      0.4965,     0.50296,     0.50951,     0.51586,     0.52187,     0.52714,      0.5322,\n",
              "            0.53725,     0.54232,     0.54737,     0.55237,     0.55696,     0.56122,     0.56555,     0.56976,     0.57403,     0.57813,      0.5824,     0.58645,     0.59022,     0.59369,     0.59716,     0.60089,     0.60437,     0.60792,     0.61105,      0.6142,      0.6173,     0.62033,     0.62337,\n",
              "            0.62634,     0.62886,     0.63179,     0.63453,     0.63723,     0.63956,     0.64244,     0.64461,     0.64705,     0.64936,     0.65162,     0.65341,     0.65574,     0.65798,     0.66016,     0.66227,      0.6642,     0.66643,     0.66809,     0.66993,     0.67164,     0.67353,     0.67602,\n",
              "            0.67789,      0.6796,     0.68147,     0.68292,     0.68473,     0.68649,     0.68799,     0.68919,     0.69059,     0.69233,     0.69363,     0.69505,     0.69623,     0.69737,     0.69908,     0.70032,     0.70169,     0.70288,     0.70394,     0.70502,     0.70612,     0.70763,     0.70851,\n",
              "            0.70965,     0.71087,     0.71193,     0.71292,     0.71397,     0.71484,      0.7157,     0.71638,     0.71731,     0.71822,     0.71917,     0.72012,     0.72082,     0.72185,     0.72281,     0.72374,     0.72445,     0.72523,     0.72613,     0.72668,     0.72746,     0.72804,     0.72869,\n",
              "            0.72925,     0.72999,      0.7305,     0.73134,     0.73183,     0.73262,     0.73319,     0.73376,     0.73453,     0.73504,     0.73575,     0.73628,     0.73677,     0.73752,     0.73806,     0.73861,     0.73906,     0.73974,     0.74017,      0.7407,      0.7411,     0.74161,     0.74194,\n",
              "            0.74239,     0.74268,     0.74316,     0.74347,     0.74378,     0.74406,     0.74446,     0.74508,     0.74538,     0.74579,     0.74604,     0.74645,     0.74683,     0.74723,     0.74767,     0.74788,     0.74821,     0.74855,     0.74876,     0.74907,     0.74931,     0.74971,     0.74996,\n",
              "            0.75026,      0.7506,     0.75099,     0.75132,     0.75157,      0.7517,     0.75176,     0.75215,     0.75232,     0.75269,     0.75302,     0.75323,     0.75332,     0.75348,     0.75373,     0.75397,     0.75396,     0.75423,     0.75436,     0.75463,     0.75476,     0.75485,      0.7551,\n",
              "            0.75526,     0.75564,     0.75595,     0.75612,     0.75625,     0.75659,     0.75681,      0.7569,     0.75713,     0.75735,     0.75748,     0.75775,       0.758,     0.75813,     0.75836,     0.75849,     0.75861,      0.7587,     0.75869,     0.75896,     0.75912,     0.75951,     0.75951,\n",
              "            0.75968,     0.75985,     0.75994,     0.76021,     0.76032,     0.76042,     0.76049,     0.76058,      0.7607,     0.76087,     0.76089,     0.76095,     0.76099,     0.76124,      0.7613,     0.76135,      0.7614,     0.76135,     0.76135,     0.76122,     0.76124,     0.76128,      0.7614,\n",
              "            0.76151,     0.76142,     0.76159,     0.76171,     0.76172,     0.76168,     0.76167,      0.7618,     0.76189,      0.7619,     0.76201,      0.7621,     0.76196,     0.76191,     0.76209,     0.76201,     0.76202,       0.762,     0.76218,     0.76212,      0.7621,     0.76215,     0.76217,\n",
              "            0.76219,     0.76225,     0.76222,     0.76217,     0.76216,     0.76214,     0.76209,     0.76199,     0.76197,     0.76198,     0.76191,     0.76183,     0.76191,     0.76192,     0.76198,     0.76196,     0.76189,     0.76183,     0.76166,     0.76152,     0.76142,     0.76131,     0.76129,\n",
              "            0.76126,     0.76117,     0.76103,     0.76088,     0.76084,     0.76083,      0.7607,     0.76064,     0.76048,     0.76048,     0.76032,     0.76012,        0.76,     0.75983,     0.75968,      0.7595,     0.75939,     0.75945,     0.75932,      0.7591,     0.75884,     0.75873,     0.75873,\n",
              "            0.75846,     0.75851,     0.75828,     0.75822,     0.75801,     0.75793,     0.75791,     0.75772,     0.75755,     0.75719,     0.75702,     0.75693,     0.75675,     0.75626,     0.75612,     0.75592,     0.75574,     0.75545,     0.75538,     0.75524,     0.75471,     0.75443,     0.75419,\n",
              "            0.75401,     0.75389,     0.75345,     0.75335,     0.75327,     0.75305,     0.75277,     0.75247,     0.75199,     0.75158,     0.75134,     0.75098,     0.75079,     0.75057,     0.75024,     0.74954,     0.74931,     0.74893,      0.7486,     0.74838,      0.7481,     0.74755,     0.74728,\n",
              "            0.74689,     0.74665,     0.74633,     0.74595,     0.74565,     0.74497,     0.74468,     0.74451,     0.74407,     0.74351,     0.74311,     0.74285,     0.74249,       0.742,     0.74154,      0.7406,     0.74024,     0.73965,     0.73929,     0.73885,     0.73852,     0.73825,     0.73793,\n",
              "            0.73766,     0.73724,     0.73636,     0.73596,     0.73544,     0.73515,     0.73441,     0.73397,     0.73353,     0.73306,     0.73261,     0.73209,     0.73119,     0.73083,     0.73018,     0.72962,     0.72897,     0.72834,     0.72758,     0.72696,     0.72654,      0.7259,     0.72469,\n",
              "            0.72426,      0.7238,      0.7231,     0.72253,     0.72194,      0.7215,     0.72081,     0.72025,     0.71975,     0.71926,     0.71855,      0.7179,     0.71736,     0.71687,     0.71632,     0.71561,     0.71419,     0.71346,     0.71279,     0.71187,     0.71108,     0.71064,     0.70997,\n",
              "            0.70936,     0.70887,     0.70812,     0.70708,     0.70657,     0.70582,       0.705,      0.7042,     0.70349,     0.70199,     0.70125,     0.70056,     0.69974,     0.69894,     0.69826,      0.6975,     0.69665,     0.69588,     0.69471,     0.69408,     0.69318,     0.69212,      0.6913,\n",
              "            0.69053,     0.68958,     0.68862,     0.68776,     0.68664,     0.68556,      0.6847,     0.68389,     0.68292,     0.68188,     0.68098,     0.67998,     0.67927,     0.67702,      0.6761,     0.67529,     0.67405,     0.67316,     0.67189,     0.67099,     0.66979,     0.66873,     0.66758,\n",
              "             0.6663,     0.66511,      0.6639,     0.66259,     0.66112,     0.65958,     0.65829,     0.65698,     0.65565,     0.65456,     0.65306,     0.65154,     0.65028,     0.64895,     0.64741,     0.64621,      0.6446,     0.64303,      0.6413,     0.63993,     0.63698,     0.63527,     0.63382,\n",
              "            0.63231,     0.63104,     0.62948,     0.62768,     0.62612,     0.62474,     0.62301,     0.62121,     0.61954,     0.61778,     0.61599,     0.61413,     0.61253,     0.61057,     0.60903,     0.60724,     0.60526,     0.60325,     0.60117,     0.59975,     0.59782,     0.59602,     0.59414,\n",
              "             0.5921,     0.59013,     0.58833,     0.58624,     0.58456,     0.58276,     0.58068,     0.57879,     0.57661,     0.57441,     0.57202,     0.57035,     0.56831,     0.56632,     0.56203,     0.56012,     0.55799,     0.55594,     0.55364,     0.55155,     0.54941,     0.54684,     0.54444,\n",
              "             0.5427,     0.54062,     0.53785,     0.53575,     0.53337,     0.53063,     0.52796,     0.52559,       0.523,     0.52045,     0.51807,      0.5157,     0.51302,     0.50981,     0.50684,     0.50424,     0.50117,      0.4981,     0.49529,     0.49223,      0.4893,     0.48634,     0.48329,\n",
              "            0.48042,     0.47749,     0.47438,     0.47111,     0.46798,     0.46232,     0.45863,     0.45531,     0.45228,     0.44905,     0.44549,     0.44244,     0.43937,     0.43557,     0.43233,     0.42902,     0.42512,     0.42179,     0.41813,     0.41496,      0.4118,     0.40875,     0.40552,\n",
              "            0.40244,     0.39888,     0.39561,     0.39172,     0.38828,     0.38134,     0.37798,     0.37419,     0.37015,     0.36592,     0.36196,     0.35796,     0.35455,     0.35079,     0.34718,     0.34351,     0.34013,     0.33612,     0.33243,     0.32798,      0.3238,     0.31601,     0.31227,\n",
              "            0.30911,     0.30519,     0.30168,     0.29809,     0.29426,     0.29046,     0.28589,     0.28207,      0.2783,      0.2702,      0.2669,     0.26294,     0.25955,     0.25539,     0.25134,     0.24713,     0.24314,     0.23914,     0.23547,     0.23164,     0.22806,     0.22452,     0.21719,\n",
              "            0.21315,     0.20929,     0.20571,     0.20182,     0.19802,     0.19411,     0.19074,     0.18676,     0.18293,     0.17866,     0.17504,     0.16794,     0.16426,     0.16102,     0.15686,     0.15345,     0.15039,      0.1473,     0.14357,     0.13696,     0.13414,     0.13121,     0.12812,\n",
              "            0.12483,     0.12195,     0.11853,     0.11577,     0.11283,     0.10731,     0.10479,     0.10191,    0.098642,     0.09589,    0.093109,    0.090593,    0.087534,    0.084701,    0.079933,    0.077306,    0.075106,    0.073139,    0.068833,    0.066986,    0.065233,     0.06351,    0.061235,\n",
              "           0.058912,    0.057109,    0.055065,    0.051286,     0.04964,    0.047647,    0.045971,    0.044043,    0.042213,    0.040409,    0.037131,    0.035144,    0.034131,    0.031631,    0.030159,    0.028719,    0.027802,    0.026448,    0.025059,    0.023482,    0.021023,    0.019959,    0.019204,\n",
              "            0.01788,    0.016847,    0.015884,     0.01394,    0.013296,     0.01271,    0.012026,    0.011236,    0.010145,    0.009678,   0.0083312,   0.0078992,   0.0075005,   0.0069809,   0.0063325,   0.0053413,   0.0051243,   0.0046479,   0.0043113,   0.0039859,   0.0032812,   0.0030637,   0.0028215,\n",
              "          0.0026827,    0.002465,   0.0021931,   0.0019081,   0.0018834,   0.0016417,   0.0013667,   0.0013482,   0.0010731,  0.00083124,   0.0008065,  0.00067316,  0.00064842,  0.00062368,  0.00049032,  0.00035826,   0.0003397,   0.0002833,  0.00025855,  0.00019758,  6.4161e-05,  3.9406e-05,   1.465e-05,\n",
              "                  0,           0,           0,           0,           0,           0,           0,           0,           0,           0,           0,           0,           0,           0,           0,           0,           0,           0,           0,           0,           0,           0,           0,\n",
              "                  0,           0,           0,           0,           0,           0,           0,           0,           0,           0,           0,           0,           0,           0,           0,           0,           0,           0,           0,           0,           0,           0,           0,\n",
              "                  0,           0,           0,           0,           0,           0,           0,           0,           0,           0,           0,           0,           0,           0,           0,           0,           0,           0,           0,           0,           0,           0,           0,\n",
              "                  0,           0,           0,           0,           0,           0,           0,           0,           0,           0,           0,           0,           0,           0,           0,           0,           0,           0,           0,           0,           0,           0,           0,\n",
              "                  0,           0,           0,           0,           0,           0,           0,           0,           0,           0,           0,           0,           0,           0,           0,           0,           0,           0,           0,           0,           0,           0,           0,\n",
              "                  0,           0,           0,           0,           0,           0,           0,           0,           0,           0,           0,           0,           0,           0,           0,           0,           0,           0,           0,           0,           0,           0,           0,\n",
              "                  0,           0,           0,           0,           0,           0,           0,           0,           0,           0,           0,           0,           0,           0,           0,           0,           0,           0,           0,           0,           0,           0,           0,\n",
              "                  0,           0,           0,           0,           0,           0,           0,           0,           0,           0,           0,           0,           0,           0,           0,           0,           0,           0,           0,           0,           0,           0,           0,\n",
              "                  0,           0,           0,           0,           0,           0,           0,           0,           0,           0,           0,           0,           0,           0,           0,           0,           0,           0,           0,           0,           0,           0,           0,\n",
              "                  0,           0,           0,           0,           0,           0,           0,           0,           0,           0,           0,           0,           0,           0,           0,           0,           0,           0,           0,           0,           0,           0,           0,\n",
              "                  0,           0,           0,           0,           0,           0,           0,           0,           0,           0,           0,           0,           0,           0,           0,           0,           0,           0,           0,           0,           0,           0,           0,\n",
              "                  0,           0,           0,           0,           0,           0,           0,           0,           0,           0,           0]]), 'Confidence', 'F1'], [array([          0,    0.001001,    0.002002,    0.003003,    0.004004,    0.005005,    0.006006,    0.007007,    0.008008,    0.009009,     0.01001,    0.011011,    0.012012,    0.013013,    0.014014,    0.015015,    0.016016,    0.017017,    0.018018,    0.019019,     0.02002,    0.021021,    0.022022,    0.023023,\n",
              "          0.024024,    0.025025,    0.026026,    0.027027,    0.028028,    0.029029,     0.03003,    0.031031,    0.032032,    0.033033,    0.034034,    0.035035,    0.036036,    0.037037,    0.038038,    0.039039,     0.04004,    0.041041,    0.042042,    0.043043,    0.044044,    0.045045,    0.046046,    0.047047,\n",
              "          0.048048,    0.049049,     0.05005,    0.051051,    0.052052,    0.053053,    0.054054,    0.055055,    0.056056,    0.057057,    0.058058,    0.059059,     0.06006,    0.061061,    0.062062,    0.063063,    0.064064,    0.065065,    0.066066,    0.067067,    0.068068,    0.069069,     0.07007,    0.071071,\n",
              "          0.072072,    0.073073,    0.074074,    0.075075,    0.076076,    0.077077,    0.078078,    0.079079,     0.08008,    0.081081,    0.082082,    0.083083,    0.084084,    0.085085,    0.086086,    0.087087,    0.088088,    0.089089,     0.09009,    0.091091,    0.092092,    0.093093,    0.094094,    0.095095,\n",
              "          0.096096,    0.097097,    0.098098,    0.099099,      0.1001,      0.1011,      0.1021,      0.1031,      0.1041,     0.10511,     0.10611,     0.10711,     0.10811,     0.10911,     0.11011,     0.11111,     0.11211,     0.11311,     0.11411,     0.11512,     0.11612,     0.11712,     0.11812,     0.11912,\n",
              "           0.12012,     0.12112,     0.12212,     0.12312,     0.12412,     0.12513,     0.12613,     0.12713,     0.12813,     0.12913,     0.13013,     0.13113,     0.13213,     0.13313,     0.13413,     0.13514,     0.13614,     0.13714,     0.13814,     0.13914,     0.14014,     0.14114,     0.14214,     0.14314,\n",
              "           0.14414,     0.14515,     0.14615,     0.14715,     0.14815,     0.14915,     0.15015,     0.15115,     0.15215,     0.15315,     0.15415,     0.15516,     0.15616,     0.15716,     0.15816,     0.15916,     0.16016,     0.16116,     0.16216,     0.16316,     0.16416,     0.16517,     0.16617,     0.16717,\n",
              "           0.16817,     0.16917,     0.17017,     0.17117,     0.17217,     0.17317,     0.17417,     0.17518,     0.17618,     0.17718,     0.17818,     0.17918,     0.18018,     0.18118,     0.18218,     0.18318,     0.18418,     0.18519,     0.18619,     0.18719,     0.18819,     0.18919,     0.19019,     0.19119,\n",
              "           0.19219,     0.19319,     0.19419,      0.1952,      0.1962,      0.1972,      0.1982,      0.1992,      0.2002,      0.2012,      0.2022,      0.2032,      0.2042,     0.20521,     0.20621,     0.20721,     0.20821,     0.20921,     0.21021,     0.21121,     0.21221,     0.21321,     0.21421,     0.21522,\n",
              "           0.21622,     0.21722,     0.21822,     0.21922,     0.22022,     0.22122,     0.22222,     0.22322,     0.22422,     0.22523,     0.22623,     0.22723,     0.22823,     0.22923,     0.23023,     0.23123,     0.23223,     0.23323,     0.23423,     0.23524,     0.23624,     0.23724,     0.23824,     0.23924,\n",
              "           0.24024,     0.24124,     0.24224,     0.24324,     0.24424,     0.24525,     0.24625,     0.24725,     0.24825,     0.24925,     0.25025,     0.25125,     0.25225,     0.25325,     0.25425,     0.25526,     0.25626,     0.25726,     0.25826,     0.25926,     0.26026,     0.26126,     0.26226,     0.26326,\n",
              "           0.26426,     0.26527,     0.26627,     0.26727,     0.26827,     0.26927,     0.27027,     0.27127,     0.27227,     0.27327,     0.27427,     0.27528,     0.27628,     0.27728,     0.27828,     0.27928,     0.28028,     0.28128,     0.28228,     0.28328,     0.28428,     0.28529,     0.28629,     0.28729,\n",
              "           0.28829,     0.28929,     0.29029,     0.29129,     0.29229,     0.29329,     0.29429,      0.2953,      0.2963,      0.2973,      0.2983,      0.2993,      0.3003,      0.3013,      0.3023,      0.3033,      0.3043,     0.30531,     0.30631,     0.30731,     0.30831,     0.30931,     0.31031,     0.31131,\n",
              "           0.31231,     0.31331,     0.31431,     0.31532,     0.31632,     0.31732,     0.31832,     0.31932,     0.32032,     0.32132,     0.32232,     0.32332,     0.32432,     0.32533,     0.32633,     0.32733,     0.32833,     0.32933,     0.33033,     0.33133,     0.33233,     0.33333,     0.33433,     0.33534,\n",
              "           0.33634,     0.33734,     0.33834,     0.33934,     0.34034,     0.34134,     0.34234,     0.34334,     0.34434,     0.34535,     0.34635,     0.34735,     0.34835,     0.34935,     0.35035,     0.35135,     0.35235,     0.35335,     0.35435,     0.35536,     0.35636,     0.35736,     0.35836,     0.35936,\n",
              "           0.36036,     0.36136,     0.36236,     0.36336,     0.36436,     0.36537,     0.36637,     0.36737,     0.36837,     0.36937,     0.37037,     0.37137,     0.37237,     0.37337,     0.37437,     0.37538,     0.37638,     0.37738,     0.37838,     0.37938,     0.38038,     0.38138,     0.38238,     0.38338,\n",
              "           0.38438,     0.38539,     0.38639,     0.38739,     0.38839,     0.38939,     0.39039,     0.39139,     0.39239,     0.39339,     0.39439,      0.3954,      0.3964,      0.3974,      0.3984,      0.3994,      0.4004,      0.4014,      0.4024,      0.4034,      0.4044,     0.40541,     0.40641,     0.40741,\n",
              "           0.40841,     0.40941,     0.41041,     0.41141,     0.41241,     0.41341,     0.41441,     0.41542,     0.41642,     0.41742,     0.41842,     0.41942,     0.42042,     0.42142,     0.42242,     0.42342,     0.42442,     0.42543,     0.42643,     0.42743,     0.42843,     0.42943,     0.43043,     0.43143,\n",
              "           0.43243,     0.43343,     0.43443,     0.43544,     0.43644,     0.43744,     0.43844,     0.43944,     0.44044,     0.44144,     0.44244,     0.44344,     0.44444,     0.44545,     0.44645,     0.44745,     0.44845,     0.44945,     0.45045,     0.45145,     0.45245,     0.45345,     0.45445,     0.45546,\n",
              "           0.45646,     0.45746,     0.45846,     0.45946,     0.46046,     0.46146,     0.46246,     0.46346,     0.46446,     0.46547,     0.46647,     0.46747,     0.46847,     0.46947,     0.47047,     0.47147,     0.47247,     0.47347,     0.47447,     0.47548,     0.47648,     0.47748,     0.47848,     0.47948,\n",
              "           0.48048,     0.48148,     0.48248,     0.48348,     0.48448,     0.48549,     0.48649,     0.48749,     0.48849,     0.48949,     0.49049,     0.49149,     0.49249,     0.49349,     0.49449,      0.4955,      0.4965,      0.4975,      0.4985,      0.4995,      0.5005,      0.5015,      0.5025,      0.5035,\n",
              "            0.5045,     0.50551,     0.50651,     0.50751,     0.50851,     0.50951,     0.51051,     0.51151,     0.51251,     0.51351,     0.51451,     0.51552,     0.51652,     0.51752,     0.51852,     0.51952,     0.52052,     0.52152,     0.52252,     0.52352,     0.52452,     0.52553,     0.52653,     0.52753,\n",
              "           0.52853,     0.52953,     0.53053,     0.53153,     0.53253,     0.53353,     0.53453,     0.53554,     0.53654,     0.53754,     0.53854,     0.53954,     0.54054,     0.54154,     0.54254,     0.54354,     0.54454,     0.54555,     0.54655,     0.54755,     0.54855,     0.54955,     0.55055,     0.55155,\n",
              "           0.55255,     0.55355,     0.55455,     0.55556,     0.55656,     0.55756,     0.55856,     0.55956,     0.56056,     0.56156,     0.56256,     0.56356,     0.56456,     0.56557,     0.56657,     0.56757,     0.56857,     0.56957,     0.57057,     0.57157,     0.57257,     0.57357,     0.57457,     0.57558,\n",
              "           0.57658,     0.57758,     0.57858,     0.57958,     0.58058,     0.58158,     0.58258,     0.58358,     0.58458,     0.58559,     0.58659,     0.58759,     0.58859,     0.58959,     0.59059,     0.59159,     0.59259,     0.59359,     0.59459,      0.5956,      0.5966,      0.5976,      0.5986,      0.5996,\n",
              "            0.6006,      0.6016,      0.6026,      0.6036,      0.6046,     0.60561,     0.60661,     0.60761,     0.60861,     0.60961,     0.61061,     0.61161,     0.61261,     0.61361,     0.61461,     0.61562,     0.61662,     0.61762,     0.61862,     0.61962,     0.62062,     0.62162,     0.62262,     0.62362,\n",
              "           0.62462,     0.62563,     0.62663,     0.62763,     0.62863,     0.62963,     0.63063,     0.63163,     0.63263,     0.63363,     0.63463,     0.63564,     0.63664,     0.63764,     0.63864,     0.63964,     0.64064,     0.64164,     0.64264,     0.64364,     0.64464,     0.64565,     0.64665,     0.64765,\n",
              "           0.64865,     0.64965,     0.65065,     0.65165,     0.65265,     0.65365,     0.65465,     0.65566,     0.65666,     0.65766,     0.65866,     0.65966,     0.66066,     0.66166,     0.66266,     0.66366,     0.66466,     0.66567,     0.66667,     0.66767,     0.66867,     0.66967,     0.67067,     0.67167,\n",
              "           0.67267,     0.67367,     0.67467,     0.67568,     0.67668,     0.67768,     0.67868,     0.67968,     0.68068,     0.68168,     0.68268,     0.68368,     0.68468,     0.68569,     0.68669,     0.68769,     0.68869,     0.68969,     0.69069,     0.69169,     0.69269,     0.69369,     0.69469,      0.6957,\n",
              "            0.6967,      0.6977,      0.6987,      0.6997,      0.7007,      0.7017,      0.7027,      0.7037,      0.7047,     0.70571,     0.70671,     0.70771,     0.70871,     0.70971,     0.71071,     0.71171,     0.71271,     0.71371,     0.71471,     0.71572,     0.71672,     0.71772,     0.71872,     0.71972,\n",
              "           0.72072,     0.72172,     0.72272,     0.72372,     0.72472,     0.72573,     0.72673,     0.72773,     0.72873,     0.72973,     0.73073,     0.73173,     0.73273,     0.73373,     0.73473,     0.73574,     0.73674,     0.73774,     0.73874,     0.73974,     0.74074,     0.74174,     0.74274,     0.74374,\n",
              "           0.74474,     0.74575,     0.74675,     0.74775,     0.74875,     0.74975,     0.75075,     0.75175,     0.75275,     0.75375,     0.75475,     0.75576,     0.75676,     0.75776,     0.75876,     0.75976,     0.76076,     0.76176,     0.76276,     0.76376,     0.76476,     0.76577,     0.76677,     0.76777,\n",
              "           0.76877,     0.76977,     0.77077,     0.77177,     0.77277,     0.77377,     0.77477,     0.77578,     0.77678,     0.77778,     0.77878,     0.77978,     0.78078,     0.78178,     0.78278,     0.78378,     0.78478,     0.78579,     0.78679,     0.78779,     0.78879,     0.78979,     0.79079,     0.79179,\n",
              "           0.79279,     0.79379,     0.79479,      0.7958,      0.7968,      0.7978,      0.7988,      0.7998,      0.8008,      0.8018,      0.8028,      0.8038,      0.8048,     0.80581,     0.80681,     0.80781,     0.80881,     0.80981,     0.81081,     0.81181,     0.81281,     0.81381,     0.81481,     0.81582,\n",
              "           0.81682,     0.81782,     0.81882,     0.81982,     0.82082,     0.82182,     0.82282,     0.82382,     0.82482,     0.82583,     0.82683,     0.82783,     0.82883,     0.82983,     0.83083,     0.83183,     0.83283,     0.83383,     0.83483,     0.83584,     0.83684,     0.83784,     0.83884,     0.83984,\n",
              "           0.84084,     0.84184,     0.84284,     0.84384,     0.84484,     0.84585,     0.84685,     0.84785,     0.84885,     0.84985,     0.85085,     0.85185,     0.85285,     0.85385,     0.85485,     0.85586,     0.85686,     0.85786,     0.85886,     0.85986,     0.86086,     0.86186,     0.86286,     0.86386,\n",
              "           0.86486,     0.86587,     0.86687,     0.86787,     0.86887,     0.86987,     0.87087,     0.87187,     0.87287,     0.87387,     0.87487,     0.87588,     0.87688,     0.87788,     0.87888,     0.87988,     0.88088,     0.88188,     0.88288,     0.88388,     0.88488,     0.88589,     0.88689,     0.88789,\n",
              "           0.88889,     0.88989,     0.89089,     0.89189,     0.89289,     0.89389,     0.89489,      0.8959,      0.8969,      0.8979,      0.8989,      0.8999,      0.9009,      0.9019,      0.9029,      0.9039,      0.9049,     0.90591,     0.90691,     0.90791,     0.90891,     0.90991,     0.91091,     0.91191,\n",
              "           0.91291,     0.91391,     0.91491,     0.91592,     0.91692,     0.91792,     0.91892,     0.91992,     0.92092,     0.92192,     0.92292,     0.92392,     0.92492,     0.92593,     0.92693,     0.92793,     0.92893,     0.92993,     0.93093,     0.93193,     0.93293,     0.93393,     0.93493,     0.93594,\n",
              "           0.93694,     0.93794,     0.93894,     0.93994,     0.94094,     0.94194,     0.94294,     0.94394,     0.94494,     0.94595,     0.94695,     0.94795,     0.94895,     0.94995,     0.95095,     0.95195,     0.95295,     0.95395,     0.95495,     0.95596,     0.95696,     0.95796,     0.95896,     0.95996,\n",
              "           0.96096,     0.96196,     0.96296,     0.96396,     0.96496,     0.96597,     0.96697,     0.96797,     0.96897,     0.96997,     0.97097,     0.97197,     0.97297,     0.97397,     0.97497,     0.97598,     0.97698,     0.97798,     0.97898,     0.97998,     0.98098,     0.98198,     0.98298,     0.98398,\n",
              "           0.98498,     0.98599,     0.98699,     0.98799,     0.98899,     0.98999,     0.99099,     0.99199,     0.99299,     0.99399,     0.99499,       0.996,       0.997,       0.998,       0.999,           1]), array([[    0.16054,     0.16054,     0.19247,     0.21449,     0.23185,     0.24659,     0.25933,     0.27027,     0.28091,     0.29023,     0.29949,     0.30756,     0.31535,     0.32274,     0.33036,     0.33743,     0.34415,     0.35053,     0.35709,     0.36352,     0.36967,     0.37516,     0.38049,\n",
              "            0.38582,     0.39125,     0.39668,     0.40211,     0.40711,     0.41189,     0.41677,     0.42148,     0.42638,     0.43105,       0.436,     0.44076,      0.4452,      0.4493,     0.45342,     0.45792,     0.46217,     0.46652,     0.47039,     0.47432,     0.47824,     0.48204,     0.48602,\n",
              "            0.48981,     0.49308,     0.49692,     0.50055,     0.50404,     0.50721,     0.51107,     0.51402,     0.51729,     0.52039,     0.52355,     0.52605,     0.52937,     0.53249,     0.53549,     0.53857,     0.54132,     0.54451,     0.54694,     0.54957,     0.55202,      0.5547,      0.5583,\n",
              "              0.561,     0.56353,     0.56632,     0.56848,     0.57114,     0.57375,     0.57613,     0.57798,     0.58019,     0.58287,      0.5849,     0.58713,     0.58901,     0.59091,     0.59351,     0.59551,      0.5978,     0.59974,     0.60153,     0.60331,     0.60513,     0.60763,     0.60916,\n",
              "            0.61102,     0.61304,     0.61481,     0.61652,     0.61833,     0.61992,     0.62158,     0.62278,     0.62443,     0.62607,     0.62776,      0.6294,     0.63062,     0.63246,     0.63414,     0.63577,     0.63707,     0.63857,     0.64036,     0.64142,     0.64294,     0.64407,     0.64548,\n",
              "            0.64656,      0.6481,     0.64915,     0.65072,      0.6517,     0.65328,     0.65447,     0.65557,     0.65712,     0.65825,     0.65973,     0.66081,     0.66179,     0.66334,     0.66436,     0.66545,     0.66633,     0.66773,     0.66872,     0.66979,     0.67075,     0.67209,     0.67297,\n",
              "            0.67397,      0.6748,     0.67589,     0.67673,     0.67758,     0.67834,     0.67936,      0.6807,      0.6815,     0.68244,     0.68319,     0.68425,     0.68522,     0.68615,     0.68716,      0.6878,     0.68866,     0.68962,     0.69043,      0.6913,     0.69181,      0.6927,     0.69351,\n",
              "            0.69434,     0.69538,     0.69638,      0.6972,     0.69803,     0.69866,     0.69897,      0.6999,     0.70067,     0.70163,     0.70261,     0.70339,     0.70368,      0.7044,     0.70523,     0.70604,     0.70634,     0.70714,     0.70782,     0.70879,     0.70922,     0.70982,     0.71064,\n",
              "            0.71113,     0.71209,     0.71304,     0.71381,     0.71426,     0.71523,     0.71607,     0.71643,     0.71735,     0.71823,     0.71867,     0.71958,     0.72044,     0.72092,     0.72185,     0.72231,     0.72312,      0.7238,     0.72407,     0.72512,     0.72558,      0.7268,     0.72718,\n",
              "            0.72811,     0.72886,     0.72929,     0.73028,     0.73074,     0.73152,     0.73192,     0.73264,     0.73321,     0.73407,     0.73445,     0.73521,     0.73561,     0.73665,     0.73701,     0.73776,     0.73821,     0.73889,     0.73941,     0.74002,     0.74032,     0.74117,     0.74172,\n",
              "            0.74257,     0.74291,     0.74342,     0.74429,     0.74472,     0.74553,     0.74599,     0.74685,     0.74731,     0.74771,     0.74851,     0.74898,     0.74965,        0.75,     0.75071,      0.7514,     0.75181,     0.75219,     0.75307,     0.75343,     0.75437,     0.75479,     0.75531,\n",
              "            0.75616,     0.75673,     0.75713,      0.7578,     0.75825,     0.75866,     0.75955,     0.75993,     0.76086,     0.76138,     0.76187,     0.76224,     0.76332,     0.76376,     0.76429,     0.76522,      0.7655,     0.76604,     0.76685,     0.76715,     0.76754,     0.76789,     0.76875,\n",
              "            0.76922,     0.76963,     0.76999,      0.7707,     0.77106,     0.77155,     0.77234,     0.77271,     0.77307,      0.7737,      0.7746,     0.77495,     0.77532,     0.77563,     0.77654,     0.77692,     0.77734,     0.77801,     0.77904,     0.77934,     0.77967,      0.7801,     0.78063,\n",
              "            0.78138,     0.78209,     0.78253,     0.78297,     0.78377,      0.7842,     0.78475,     0.78512,     0.78561,     0.78635,     0.78683,     0.78733,     0.78778,     0.78843,     0.78892,     0.78932,     0.78969,      0.7899,     0.79052,     0.79098,     0.79176,       0.792,     0.79235,\n",
              "            0.79282,     0.79327,     0.79407,     0.79455,       0.795,     0.79556,     0.79594,      0.7963,     0.79701,     0.79737,     0.79779,     0.79814,     0.79862,     0.79912,     0.79962,     0.80051,     0.80093,     0.80129,     0.80171,     0.80199,     0.80235,     0.80316,      0.8036,\n",
              "            0.80398,     0.80447,     0.80502,     0.80539,     0.80585,     0.80675,     0.80715,     0.80769,     0.80809,     0.80824,     0.80878,     0.80931,     0.80966,     0.80979,      0.8102,     0.81103,     0.81142,     0.81169,     0.81211,     0.81266,     0.81311,     0.81373,     0.81417,\n",
              "            0.81482,     0.81534,     0.81629,     0.81687,     0.81735,      0.8178,     0.81795,      0.8184,     0.81882,     0.81916,     0.81945,     0.81995,     0.82077,     0.82129,      0.8218,     0.82216,     0.82256,     0.82302,      0.8232,     0.82355,     0.82413,     0.82434,     0.82526,\n",
              "            0.82575,     0.82618,     0.82648,     0.82689,     0.82731,     0.82791,     0.82834,     0.82875,     0.82912,     0.82958,     0.83007,     0.83044,     0.83089,     0.83131,     0.83169,     0.83205,      0.8326,     0.83306,     0.83343,     0.83367,     0.83405,     0.83476,     0.83531,\n",
              "            0.83573,     0.83635,     0.83666,     0.83694,     0.83755,     0.83773,     0.83808,     0.83837,     0.83879,     0.83972,     0.84008,     0.84049,     0.84087,      0.8413,     0.84182,     0.84224,     0.84271,     0.84319,     0.84359,     0.84402,      0.8444,     0.84485,     0.84537,\n",
              "            0.84607,     0.84667,     0.84698,     0.84767,     0.84815,     0.84848,     0.84895,     0.84965,     0.85021,     0.85056,     0.85094,     0.85137,     0.85194,     0.85288,     0.85327,     0.85388,     0.85412,      0.8545,     0.85484,     0.85519,      0.8557,     0.85608,     0.85661,\n",
              "            0.85701,     0.85741,      0.8581,     0.85821,      0.8585,     0.85897,     0.85932,     0.85997,     0.86035,     0.86079,     0.86107,     0.86124,     0.86167,     0.86197,     0.86236,     0.86288,     0.86327,     0.86367,     0.86421,     0.86453,     0.86548,     0.86585,     0.86652,\n",
              "            0.86698,     0.86761,     0.86817,     0.86841,     0.86857,     0.86923,     0.86984,     0.87016,     0.87051,     0.87106,     0.87157,     0.87219,     0.87287,     0.87303,     0.87362,     0.87402,     0.87437,     0.87449,     0.87477,      0.8752,      0.8756,     0.87593,      0.8765,\n",
              "            0.87713,     0.87756,     0.87786,     0.87824,     0.87872,     0.87927,     0.87965,     0.88024,     0.88058,     0.88092,     0.88084,     0.88132,     0.88156,      0.8822,       0.883,     0.88343,     0.88387,     0.88434,     0.88455,     0.88506,     0.88577,     0.88604,     0.88621,\n",
              "             0.8866,     0.88733,     0.88757,     0.88842,     0.88876,     0.88926,     0.88933,     0.88931,     0.88976,     0.89042,     0.89115,     0.89167,     0.89198,     0.89198,     0.89239,     0.89279,     0.89324,     0.89334,     0.89376,     0.89424,     0.89477,      0.8951,     0.89558,\n",
              "            0.89613,     0.89671,     0.89713,     0.89726,      0.8973,     0.89804,     0.89832,     0.89866,     0.89937,     0.89962,     0.89989,     0.90028,     0.90013,     0.90031,     0.90064,     0.90107,     0.90143,     0.90163,     0.90249,     0.90286,     0.90363,     0.90423,     0.90419,\n",
              "            0.90464,     0.90508,     0.90573,     0.90584,     0.90637,     0.90746,     0.90818,      0.9091,     0.90921,     0.90967,     0.91022,     0.91047,     0.91065,     0.91096,     0.91118,     0.91145,     0.91275,     0.91289,     0.91307,     0.91304,     0.91272,     0.91371,     0.91393,\n",
              "            0.91441,     0.91465,     0.91469,     0.91534,     0.91561,     0.91589,     0.91542,      0.9151,      0.9152,     0.91631,     0.91694,      0.9162,     0.91657,     0.91713,     0.91759,     0.91769,     0.91735,     0.91712,     0.91766,     0.91807,     0.91881,     0.91962,     0.92038,\n",
              "            0.92046,     0.92062,      0.9209,     0.92162,       0.922,      0.9218,     0.92326,     0.92347,     0.92384,     0.92416,       0.924,     0.92423,     0.92542,     0.92536,     0.92546,     0.92546,     0.92601,       0.926,     0.92546,     0.92731,     0.92857,     0.92852,     0.92771,\n",
              "            0.92698,      0.9267,     0.92657,     0.92786,      0.9273,     0.92743,     0.92768,     0.92712,     0.92744,     0.92602,     0.92576,     0.92669,     0.92555,     0.92558,     0.92908,     0.92868,     0.92865,     0.93007,     0.93066,     0.93197,     0.93206,      0.9322,     0.93176,\n",
              "            0.93021,     0.93022,     0.93105,     0.93093,      0.9312,     0.93166,     0.93241,     0.93189,     0.93417,      0.9359,     0.93978,     0.94098,     0.94115,     0.94267,     0.94319,     0.94594,     0.94768,     0.94632,     0.94429,     0.94256,     0.94676,     0.94565,     0.94528,\n",
              "              0.945,     0.94179,     0.94045,     0.93489,     0.93428,     0.93638,     0.94619,     0.94816,     0.94942,     0.94709,     0.94285,      0.9399,      0.9369,     0.94158,     0.94098,     0.93076,     0.93414,     0.92786,     0.92265,     0.93235,     0.91897,      0.9137,     0.91376,\n",
              "            0.91375,     0.91906,     0.93808,     0.94616,     0.94549,     0.93795,     0.92638,     0.92544,     0.90806,     0.91985,     0.91757,      0.9028,      0.8995,      0.8959,     0.87115,      0.9081,     0.90344,      0.8864,     0.87691,     0.84415,     0.62852,     0.51463,      0.2022,\n",
              "                  1,           1,           1,           1,           1,           1,           1,           1,           1,           1,           1,           1,           1,           1,           1,           1,           1,           1,           1,           1,           1,           1,           1,\n",
              "                  1,           1,           1,           1,           1,           1,           1,           1,           1,           1,           1,           1,           1,           1,           1,           1,           1,           1,           1,           1,           1,           1,           1,\n",
              "                  1,           1,           1,           1,           1,           1,           1,           1,           1,           1,           1,           1,           1,           1,           1,           1,           1,           1,           1,           1,           1,           1,           1,\n",
              "                  1,           1,           1,           1,           1,           1,           1,           1,           1,           1,           1,           1,           1,           1,           1,           1,           1,           1,           1,           1,           1,           1,           1,\n",
              "                  1,           1,           1,           1,           1,           1,           1,           1,           1,           1,           1,           1,           1,           1,           1,           1,           1,           1,           1,           1,           1,           1,           1,\n",
              "                  1,           1,           1,           1,           1,           1,           1,           1,           1,           1,           1,           1,           1,           1,           1,           1,           1,           1,           1,           1,           1,           1,           1,\n",
              "                  1,           1,           1,           1,           1,           1,           1,           1,           1,           1,           1,           1,           1,           1,           1,           1,           1,           1,           1,           1,           1,           1,           1,\n",
              "                  1,           1,           1,           1,           1,           1,           1,           1,           1,           1,           1,           1,           1,           1,           1,           1,           1,           1,           1,           1,           1,           1,           1,\n",
              "                  1,           1,           1,           1,           1,           1,           1,           1,           1,           1,           1,           1,           1,           1,           1,           1,           1,           1,           1,           1,           1,           1,           1,\n",
              "                  1,           1,           1,           1,           1,           1,           1,           1,           1,           1,           1,           1,           1,           1,           1,           1,           1,           1,           1,           1,           1,           1,           1,\n",
              "                  1,           1,           1,           1,           1,           1,           1,           1,           1,           1,           1,           1,           1,           1,           1,           1,           1,           1,           1,           1,           1,           1,           1,\n",
              "                  1,           1,           1,           1,           1,           1,           1,           1,           1,           1,           1]]), 'Confidence', 'Precision'], [array([          0,    0.001001,    0.002002,    0.003003,    0.004004,    0.005005,    0.006006,    0.007007,    0.008008,    0.009009,     0.01001,    0.011011,    0.012012,    0.013013,    0.014014,    0.015015,    0.016016,    0.017017,    0.018018,    0.019019,     0.02002,    0.021021,    0.022022,    0.023023,\n",
              "          0.024024,    0.025025,    0.026026,    0.027027,    0.028028,    0.029029,     0.03003,    0.031031,    0.032032,    0.033033,    0.034034,    0.035035,    0.036036,    0.037037,    0.038038,    0.039039,     0.04004,    0.041041,    0.042042,    0.043043,    0.044044,    0.045045,    0.046046,    0.047047,\n",
              "          0.048048,    0.049049,     0.05005,    0.051051,    0.052052,    0.053053,    0.054054,    0.055055,    0.056056,    0.057057,    0.058058,    0.059059,     0.06006,    0.061061,    0.062062,    0.063063,    0.064064,    0.065065,    0.066066,    0.067067,    0.068068,    0.069069,     0.07007,    0.071071,\n",
              "          0.072072,    0.073073,    0.074074,    0.075075,    0.076076,    0.077077,    0.078078,    0.079079,     0.08008,    0.081081,    0.082082,    0.083083,    0.084084,    0.085085,    0.086086,    0.087087,    0.088088,    0.089089,     0.09009,    0.091091,    0.092092,    0.093093,    0.094094,    0.095095,\n",
              "          0.096096,    0.097097,    0.098098,    0.099099,      0.1001,      0.1011,      0.1021,      0.1031,      0.1041,     0.10511,     0.10611,     0.10711,     0.10811,     0.10911,     0.11011,     0.11111,     0.11211,     0.11311,     0.11411,     0.11512,     0.11612,     0.11712,     0.11812,     0.11912,\n",
              "           0.12012,     0.12112,     0.12212,     0.12312,     0.12412,     0.12513,     0.12613,     0.12713,     0.12813,     0.12913,     0.13013,     0.13113,     0.13213,     0.13313,     0.13413,     0.13514,     0.13614,     0.13714,     0.13814,     0.13914,     0.14014,     0.14114,     0.14214,     0.14314,\n",
              "           0.14414,     0.14515,     0.14615,     0.14715,     0.14815,     0.14915,     0.15015,     0.15115,     0.15215,     0.15315,     0.15415,     0.15516,     0.15616,     0.15716,     0.15816,     0.15916,     0.16016,     0.16116,     0.16216,     0.16316,     0.16416,     0.16517,     0.16617,     0.16717,\n",
              "           0.16817,     0.16917,     0.17017,     0.17117,     0.17217,     0.17317,     0.17417,     0.17518,     0.17618,     0.17718,     0.17818,     0.17918,     0.18018,     0.18118,     0.18218,     0.18318,     0.18418,     0.18519,     0.18619,     0.18719,     0.18819,     0.18919,     0.19019,     0.19119,\n",
              "           0.19219,     0.19319,     0.19419,      0.1952,      0.1962,      0.1972,      0.1982,      0.1992,      0.2002,      0.2012,      0.2022,      0.2032,      0.2042,     0.20521,     0.20621,     0.20721,     0.20821,     0.20921,     0.21021,     0.21121,     0.21221,     0.21321,     0.21421,     0.21522,\n",
              "           0.21622,     0.21722,     0.21822,     0.21922,     0.22022,     0.22122,     0.22222,     0.22322,     0.22422,     0.22523,     0.22623,     0.22723,     0.22823,     0.22923,     0.23023,     0.23123,     0.23223,     0.23323,     0.23423,     0.23524,     0.23624,     0.23724,     0.23824,     0.23924,\n",
              "           0.24024,     0.24124,     0.24224,     0.24324,     0.24424,     0.24525,     0.24625,     0.24725,     0.24825,     0.24925,     0.25025,     0.25125,     0.25225,     0.25325,     0.25425,     0.25526,     0.25626,     0.25726,     0.25826,     0.25926,     0.26026,     0.26126,     0.26226,     0.26326,\n",
              "           0.26426,     0.26527,     0.26627,     0.26727,     0.26827,     0.26927,     0.27027,     0.27127,     0.27227,     0.27327,     0.27427,     0.27528,     0.27628,     0.27728,     0.27828,     0.27928,     0.28028,     0.28128,     0.28228,     0.28328,     0.28428,     0.28529,     0.28629,     0.28729,\n",
              "           0.28829,     0.28929,     0.29029,     0.29129,     0.29229,     0.29329,     0.29429,      0.2953,      0.2963,      0.2973,      0.2983,      0.2993,      0.3003,      0.3013,      0.3023,      0.3033,      0.3043,     0.30531,     0.30631,     0.30731,     0.30831,     0.30931,     0.31031,     0.31131,\n",
              "           0.31231,     0.31331,     0.31431,     0.31532,     0.31632,     0.31732,     0.31832,     0.31932,     0.32032,     0.32132,     0.32232,     0.32332,     0.32432,     0.32533,     0.32633,     0.32733,     0.32833,     0.32933,     0.33033,     0.33133,     0.33233,     0.33333,     0.33433,     0.33534,\n",
              "           0.33634,     0.33734,     0.33834,     0.33934,     0.34034,     0.34134,     0.34234,     0.34334,     0.34434,     0.34535,     0.34635,     0.34735,     0.34835,     0.34935,     0.35035,     0.35135,     0.35235,     0.35335,     0.35435,     0.35536,     0.35636,     0.35736,     0.35836,     0.35936,\n",
              "           0.36036,     0.36136,     0.36236,     0.36336,     0.36436,     0.36537,     0.36637,     0.36737,     0.36837,     0.36937,     0.37037,     0.37137,     0.37237,     0.37337,     0.37437,     0.37538,     0.37638,     0.37738,     0.37838,     0.37938,     0.38038,     0.38138,     0.38238,     0.38338,\n",
              "           0.38438,     0.38539,     0.38639,     0.38739,     0.38839,     0.38939,     0.39039,     0.39139,     0.39239,     0.39339,     0.39439,      0.3954,      0.3964,      0.3974,      0.3984,      0.3994,      0.4004,      0.4014,      0.4024,      0.4034,      0.4044,     0.40541,     0.40641,     0.40741,\n",
              "           0.40841,     0.40941,     0.41041,     0.41141,     0.41241,     0.41341,     0.41441,     0.41542,     0.41642,     0.41742,     0.41842,     0.41942,     0.42042,     0.42142,     0.42242,     0.42342,     0.42442,     0.42543,     0.42643,     0.42743,     0.42843,     0.42943,     0.43043,     0.43143,\n",
              "           0.43243,     0.43343,     0.43443,     0.43544,     0.43644,     0.43744,     0.43844,     0.43944,     0.44044,     0.44144,     0.44244,     0.44344,     0.44444,     0.44545,     0.44645,     0.44745,     0.44845,     0.44945,     0.45045,     0.45145,     0.45245,     0.45345,     0.45445,     0.45546,\n",
              "           0.45646,     0.45746,     0.45846,     0.45946,     0.46046,     0.46146,     0.46246,     0.46346,     0.46446,     0.46547,     0.46647,     0.46747,     0.46847,     0.46947,     0.47047,     0.47147,     0.47247,     0.47347,     0.47447,     0.47548,     0.47648,     0.47748,     0.47848,     0.47948,\n",
              "           0.48048,     0.48148,     0.48248,     0.48348,     0.48448,     0.48549,     0.48649,     0.48749,     0.48849,     0.48949,     0.49049,     0.49149,     0.49249,     0.49349,     0.49449,      0.4955,      0.4965,      0.4975,      0.4985,      0.4995,      0.5005,      0.5015,      0.5025,      0.5035,\n",
              "            0.5045,     0.50551,     0.50651,     0.50751,     0.50851,     0.50951,     0.51051,     0.51151,     0.51251,     0.51351,     0.51451,     0.51552,     0.51652,     0.51752,     0.51852,     0.51952,     0.52052,     0.52152,     0.52252,     0.52352,     0.52452,     0.52553,     0.52653,     0.52753,\n",
              "           0.52853,     0.52953,     0.53053,     0.53153,     0.53253,     0.53353,     0.53453,     0.53554,     0.53654,     0.53754,     0.53854,     0.53954,     0.54054,     0.54154,     0.54254,     0.54354,     0.54454,     0.54555,     0.54655,     0.54755,     0.54855,     0.54955,     0.55055,     0.55155,\n",
              "           0.55255,     0.55355,     0.55455,     0.55556,     0.55656,     0.55756,     0.55856,     0.55956,     0.56056,     0.56156,     0.56256,     0.56356,     0.56456,     0.56557,     0.56657,     0.56757,     0.56857,     0.56957,     0.57057,     0.57157,     0.57257,     0.57357,     0.57457,     0.57558,\n",
              "           0.57658,     0.57758,     0.57858,     0.57958,     0.58058,     0.58158,     0.58258,     0.58358,     0.58458,     0.58559,     0.58659,     0.58759,     0.58859,     0.58959,     0.59059,     0.59159,     0.59259,     0.59359,     0.59459,      0.5956,      0.5966,      0.5976,      0.5986,      0.5996,\n",
              "            0.6006,      0.6016,      0.6026,      0.6036,      0.6046,     0.60561,     0.60661,     0.60761,     0.60861,     0.60961,     0.61061,     0.61161,     0.61261,     0.61361,     0.61461,     0.61562,     0.61662,     0.61762,     0.61862,     0.61962,     0.62062,     0.62162,     0.62262,     0.62362,\n",
              "           0.62462,     0.62563,     0.62663,     0.62763,     0.62863,     0.62963,     0.63063,     0.63163,     0.63263,     0.63363,     0.63463,     0.63564,     0.63664,     0.63764,     0.63864,     0.63964,     0.64064,     0.64164,     0.64264,     0.64364,     0.64464,     0.64565,     0.64665,     0.64765,\n",
              "           0.64865,     0.64965,     0.65065,     0.65165,     0.65265,     0.65365,     0.65465,     0.65566,     0.65666,     0.65766,     0.65866,     0.65966,     0.66066,     0.66166,     0.66266,     0.66366,     0.66466,     0.66567,     0.66667,     0.66767,     0.66867,     0.66967,     0.67067,     0.67167,\n",
              "           0.67267,     0.67367,     0.67467,     0.67568,     0.67668,     0.67768,     0.67868,     0.67968,     0.68068,     0.68168,     0.68268,     0.68368,     0.68468,     0.68569,     0.68669,     0.68769,     0.68869,     0.68969,     0.69069,     0.69169,     0.69269,     0.69369,     0.69469,      0.6957,\n",
              "            0.6967,      0.6977,      0.6987,      0.6997,      0.7007,      0.7017,      0.7027,      0.7037,      0.7047,     0.70571,     0.70671,     0.70771,     0.70871,     0.70971,     0.71071,     0.71171,     0.71271,     0.71371,     0.71471,     0.71572,     0.71672,     0.71772,     0.71872,     0.71972,\n",
              "           0.72072,     0.72172,     0.72272,     0.72372,     0.72472,     0.72573,     0.72673,     0.72773,     0.72873,     0.72973,     0.73073,     0.73173,     0.73273,     0.73373,     0.73473,     0.73574,     0.73674,     0.73774,     0.73874,     0.73974,     0.74074,     0.74174,     0.74274,     0.74374,\n",
              "           0.74474,     0.74575,     0.74675,     0.74775,     0.74875,     0.74975,     0.75075,     0.75175,     0.75275,     0.75375,     0.75475,     0.75576,     0.75676,     0.75776,     0.75876,     0.75976,     0.76076,     0.76176,     0.76276,     0.76376,     0.76476,     0.76577,     0.76677,     0.76777,\n",
              "           0.76877,     0.76977,     0.77077,     0.77177,     0.77277,     0.77377,     0.77477,     0.77578,     0.77678,     0.77778,     0.77878,     0.77978,     0.78078,     0.78178,     0.78278,     0.78378,     0.78478,     0.78579,     0.78679,     0.78779,     0.78879,     0.78979,     0.79079,     0.79179,\n",
              "           0.79279,     0.79379,     0.79479,      0.7958,      0.7968,      0.7978,      0.7988,      0.7998,      0.8008,      0.8018,      0.8028,      0.8038,      0.8048,     0.80581,     0.80681,     0.80781,     0.80881,     0.80981,     0.81081,     0.81181,     0.81281,     0.81381,     0.81481,     0.81582,\n",
              "           0.81682,     0.81782,     0.81882,     0.81982,     0.82082,     0.82182,     0.82282,     0.82382,     0.82482,     0.82583,     0.82683,     0.82783,     0.82883,     0.82983,     0.83083,     0.83183,     0.83283,     0.83383,     0.83483,     0.83584,     0.83684,     0.83784,     0.83884,     0.83984,\n",
              "           0.84084,     0.84184,     0.84284,     0.84384,     0.84484,     0.84585,     0.84685,     0.84785,     0.84885,     0.84985,     0.85085,     0.85185,     0.85285,     0.85385,     0.85485,     0.85586,     0.85686,     0.85786,     0.85886,     0.85986,     0.86086,     0.86186,     0.86286,     0.86386,\n",
              "           0.86486,     0.86587,     0.86687,     0.86787,     0.86887,     0.86987,     0.87087,     0.87187,     0.87287,     0.87387,     0.87487,     0.87588,     0.87688,     0.87788,     0.87888,     0.87988,     0.88088,     0.88188,     0.88288,     0.88388,     0.88488,     0.88589,     0.88689,     0.88789,\n",
              "           0.88889,     0.88989,     0.89089,     0.89189,     0.89289,     0.89389,     0.89489,      0.8959,      0.8969,      0.8979,      0.8989,      0.8999,      0.9009,      0.9019,      0.9029,      0.9039,      0.9049,     0.90591,     0.90691,     0.90791,     0.90891,     0.90991,     0.91091,     0.91191,\n",
              "           0.91291,     0.91391,     0.91491,     0.91592,     0.91692,     0.91792,     0.91892,     0.91992,     0.92092,     0.92192,     0.92292,     0.92392,     0.92492,     0.92593,     0.92693,     0.92793,     0.92893,     0.92993,     0.93093,     0.93193,     0.93293,     0.93393,     0.93493,     0.93594,\n",
              "           0.93694,     0.93794,     0.93894,     0.93994,     0.94094,     0.94194,     0.94294,     0.94394,     0.94494,     0.94595,     0.94695,     0.94795,     0.94895,     0.94995,     0.95095,     0.95195,     0.95295,     0.95395,     0.95495,     0.95596,     0.95696,     0.95796,     0.95896,     0.95996,\n",
              "           0.96096,     0.96196,     0.96296,     0.96396,     0.96496,     0.96597,     0.96697,     0.96797,     0.96897,     0.96997,     0.97097,     0.97197,     0.97297,     0.97397,     0.97497,     0.97598,     0.97698,     0.97798,     0.97898,     0.97998,     0.98098,     0.98198,     0.98298,     0.98398,\n",
              "           0.98498,     0.98599,     0.98699,     0.98799,     0.98899,     0.98999,     0.99099,     0.99199,     0.99299,     0.99399,     0.99499,       0.996,       0.997,       0.998,       0.999,           1]), array([[    0.91119,     0.91119,     0.90898,     0.90716,      0.9055,      0.9039,     0.90264,     0.90099,      0.8997,      0.8984,     0.89735,     0.89619,     0.89526,     0.89412,       0.893,     0.89195,     0.89086,     0.88997,       0.889,       0.888,     0.88708,     0.88612,     0.88512,\n",
              "            0.88434,     0.88345,     0.88267,     0.88195,     0.88135,     0.88045,     0.87952,     0.87896,     0.87809,     0.87757,     0.87679,     0.87601,     0.87534,     0.87483,     0.87436,     0.87365,     0.87296,     0.87229,      0.8717,      0.8711,     0.87037,     0.86988,     0.86894,\n",
              "            0.86838,     0.86784,     0.86713,     0.86644,      0.8661,     0.86537,     0.86474,     0.86416,     0.86369,     0.86331,     0.86262,     0.86215,     0.86135,     0.86086,     0.86048,     0.85976,     0.85925,     0.85872,     0.85818,      0.8578,     0.85742,     0.85713,     0.85666,\n",
              "            0.85632,     0.85588,     0.85541,     0.85505,     0.85472,     0.85438,     0.85375,     0.85338,      0.8529,     0.85239,     0.85202,     0.85159,     0.85117,     0.85061,     0.85032,     0.84989,     0.84929,     0.84887,     0.84838,     0.84797,     0.84759,     0.84704,     0.84659,\n",
              "            0.84625,     0.84586,     0.84549,     0.84506,     0.84462,     0.84409,      0.8434,     0.84308,     0.84264,     0.84219,     0.84175,     0.84139,     0.84112,     0.84068,      0.8403,     0.83996,     0.83962,     0.83909,     0.83844,     0.83809,     0.83757,     0.83719,     0.83654,\n",
              "            0.83619,     0.83556,     0.83516,     0.83476,     0.83444,     0.83389,     0.83344,     0.83313,     0.83262,     0.83212,     0.83157,     0.83121,      0.8309,     0.83038,     0.83016,     0.82985,      0.8296,     0.82916,     0.82871,      0.8284,     0.82795,     0.82717,     0.82666,\n",
              "            0.82627,     0.82574,     0.82531,      0.8248,     0.82431,     0.82387,     0.82337,     0.82291,     0.82248,      0.8221,     0.82163,      0.8211,     0.82061,     0.82023,     0.81987,     0.81945,     0.81902,     0.81848,     0.81786,     0.81737,     0.81723,     0.81694,     0.81641,\n",
              "            0.81598,     0.81536,     0.81489,     0.81455,       0.814,     0.81346,     0.81319,     0.81282,     0.81219,     0.81176,     0.81123,     0.81067,     0.81049,     0.80991,      0.8094,     0.80887,     0.80848,     0.80804,     0.80746,     0.80681,     0.80654,     0.80597,     0.80551,\n",
              "            0.80524,     0.80485,     0.80437,     0.80377,      0.8035,     0.80303,     0.80246,     0.80221,     0.80159,     0.80098,     0.80072,      0.8002,     0.79969,     0.79938,     0.79877,      0.7985,     0.79776,     0.79714,      0.7968,     0.79612,     0.79592,     0.79531,     0.79486,\n",
              "            0.79411,      0.7936,     0.79328,      0.7927,     0.79239,      0.7917,     0.79138,     0.79073,     0.79033,     0.78971,     0.78931,     0.78855,     0.78817,     0.78754,     0.78725,      0.7865,     0.78609,     0.78521,     0.78462,     0.78368,     0.78338,     0.78252,     0.78216,\n",
              "            0.78143,     0.78088,     0.78067,     0.77997,     0.77951,     0.77855,     0.77803,     0.77736,     0.77705,     0.77663,     0.77602,      0.7757,     0.77468,     0.77422,     0.77381,     0.77292,      0.7725,     0.77207,     0.77151,     0.77102,     0.76998,     0.76965,     0.76917,\n",
              "            0.76832,     0.76786,     0.76738,     0.76659,     0.76611,     0.76566,     0.76464,     0.76407,     0.76308,     0.76258,     0.76196,     0.76142,     0.76051,     0.76008,     0.75968,     0.75872,     0.75831,     0.75767,     0.75654,     0.75598,     0.75539,     0.75484,     0.75397,\n",
              "            0.75345,     0.75289,     0.75229,     0.75131,     0.75089,      0.7504,     0.74941,     0.74895,      0.7483,      0.7477,     0.74656,     0.74585,     0.74528,     0.74466,     0.74354,     0.74284,     0.74225,     0.74176,     0.74058,     0.73988,     0.73909,      0.7385,     0.73801,\n",
              "            0.73685,     0.73631,     0.73548,     0.73499,     0.73388,     0.73337,     0.73284,     0.73216,     0.73142,     0.73011,     0.72939,     0.72879,     0.72807,     0.72662,     0.72593,     0.72524,     0.72458,     0.72388,     0.72323,     0.72258,     0.72097,     0.72026,     0.71954,\n",
              "            0.71882,     0.71824,     0.71678,     0.71622,     0.71571,     0.71486,     0.71405,     0.71321,     0.71178,     0.71075,     0.71001,     0.70908,     0.70836,     0.70758,      0.7066,     0.70468,     0.70394,     0.70299,     0.70209,     0.70148,     0.70072,     0.69914,     0.69834,\n",
              "            0.69736,     0.69659,     0.69563,     0.69469,     0.69382,     0.69198,     0.69119,      0.6905,     0.68944,     0.68837,      0.6873,     0.68648,     0.68561,     0.68468,     0.68362,     0.68142,     0.68053,     0.67936,     0.67845,     0.67734,     0.67646,     0.67559,     0.67474,\n",
              "            0.67385,      0.6728,      0.6707,     0.66963,     0.66845,     0.66767,     0.66635,     0.66533,     0.66433,     0.66333,      0.6624,     0.66124,     0.65923,     0.65832,     0.65693,      0.6558,      0.6545,     0.65319,     0.65187,     0.65065,     0.64962,     0.64846,     0.64597,\n",
              "              0.645,       0.644,     0.64271,     0.64157,     0.64037,     0.63932,       0.638,     0.63687,     0.63587,     0.63483,     0.63344,     0.63223,     0.63112,     0.63013,     0.62906,     0.62775,     0.62527,     0.62389,     0.62266,     0.62112,     0.61971,     0.61866,     0.61733,\n",
              "            0.61619,     0.61511,     0.61382,      0.6121,     0.61101,      0.6098,     0.60839,     0.60705,     0.60578,     0.60308,     0.60179,     0.60058,     0.59918,     0.59779,     0.59654,     0.59521,     0.59375,     0.59239,      0.5905,     0.58938,      0.5879,     0.58616,     0.58473,\n",
              "             0.5833,     0.58166,     0.58015,     0.57861,      0.5768,     0.57513,      0.5737,     0.57225,     0.57064,     0.56903,     0.56761,     0.56604,      0.5648,     0.56129,     0.55986,     0.55848,     0.55669,     0.55531,     0.55344,     0.55208,     0.55024,     0.54866,      0.5469,\n",
              "            0.54501,     0.54327,     0.54137,     0.53959,     0.53753,     0.53532,     0.53348,     0.53152,     0.52963,     0.52805,     0.52599,     0.52396,     0.52218,     0.52035,     0.51823,     0.51651,     0.51432,     0.51218,     0.50981,     0.50796,     0.50394,     0.50168,     0.49965,\n",
              "            0.49762,     0.49584,     0.49374,     0.49144,     0.48948,      0.4876,      0.4853,     0.48302,     0.48089,     0.47861,     0.47632,     0.47391,     0.47181,     0.46944,     0.46745,     0.46524,     0.46281,     0.46044,     0.45794,     0.45618,     0.45384,     0.45169,     0.44938,\n",
              "            0.44689,     0.44453,     0.44241,     0.43996,     0.43795,     0.43579,     0.43338,     0.43114,     0.42864,     0.42614,     0.42353,     0.42159,     0.41931,     0.41701,     0.41219,     0.41005,     0.40768,      0.4054,     0.40291,      0.4006,      0.3982,     0.39545,     0.39291,\n",
              "            0.39103,     0.38873,     0.38583,     0.38351,     0.38102,     0.37814,     0.37541,     0.37302,     0.37034,     0.36768,     0.36518,     0.36275,     0.36005,      0.3569,     0.35392,     0.35133,     0.34829,     0.34532,     0.34257,     0.33958,     0.33671,     0.33387,     0.33093,\n",
              "            0.32818,     0.32537,     0.32244,     0.31941,     0.31653,     0.31129,     0.30792,     0.30489,      0.3021,      0.2992,     0.29601,     0.29329,     0.29061,     0.28728,     0.28443,     0.28153,     0.27815,     0.27529,      0.2721,     0.26938,     0.26666,     0.26406,     0.26137,\n",
              "            0.25878,     0.25581,     0.25307,     0.24989,     0.24706,     0.24139,     0.23865,     0.23558,     0.23238,     0.22902,     0.22589,     0.22277,     0.22012,     0.21721,     0.21444,     0.21163,     0.20901,     0.20598,     0.20321,     0.19989,     0.19681,     0.19104,     0.18831,\n",
              "            0.18599,     0.18315,     0.18063,     0.17804,      0.1753,      0.1726,     0.16939,     0.16673,      0.1641,     0.15846,     0.15618,      0.1535,     0.15118,     0.14835,     0.14562,     0.14279,     0.14014,      0.1375,     0.13506,     0.13254,     0.13019,     0.12787,     0.12312,\n",
              "            0.12053,     0.11807,     0.11578,     0.11332,     0.11092,     0.10847,     0.10635,     0.10389,     0.10152,     0.09889,     0.09668,    0.092359,    0.090131,     0.08818,    0.085692,    0.083662,    0.081843,    0.080011,    0.077819,    0.073942,    0.072293,     0.07059,    0.068813,\n",
              "           0.066921,    0.065272,    0.063316,    0.061739,    0.060072,    0.056947,    0.055534,    0.053921,    0.052091,    0.050563,     0.04902,    0.047624,    0.045939,    0.044381,    0.041763,    0.040332,    0.039136,    0.038066,    0.035738,    0.034742,    0.033799,    0.032875,    0.031658,\n",
              "           0.030419,    0.029459,    0.028372,     0.02637,      0.0255,    0.024449,    0.023567,    0.022555,    0.021594,     0.02065,     0.01894,    0.017907,    0.017381,    0.016085,    0.015325,    0.014581,    0.014108,    0.013412,    0.012698,    0.011889,     0.01063,    0.010086,   0.0097005,\n",
              "          0.0090251,   0.0084994,   0.0080098,   0.0070221,   0.0066956,   0.0063982,   0.0060517,   0.0056517,   0.0050998,   0.0048638,   0.0041841,   0.0039663,   0.0037653,   0.0035034,   0.0031769,   0.0026783,   0.0025692,   0.0023298,   0.0021607,   0.0019972,   0.0016436,   0.0015344,   0.0014129,\n",
              "          0.0013433,   0.0012342,   0.0010979,  0.00095501,  0.00094263,  0.00082157,  0.00068388,  0.00067459,  0.00053687,  0.00041581,  0.00040343,  0.00033671,  0.00032433,  0.00031195,  0.00024523,  0.00017917,  0.00016988,  0.00014167,   0.0001293,  9.8804e-05,  3.2082e-05,  1.9704e-05,  7.3255e-06,\n",
              "                  0,           0,           0,           0,           0,           0,           0,           0,           0,           0,           0,           0,           0,           0,           0,           0,           0,           0,           0,           0,           0,           0,           0,\n",
              "                  0,           0,           0,           0,           0,           0,           0,           0,           0,           0,           0,           0,           0,           0,           0,           0,           0,           0,           0,           0,           0,           0,           0,\n",
              "                  0,           0,           0,           0,           0,           0,           0,           0,           0,           0,           0,           0,           0,           0,           0,           0,           0,           0,           0,           0,           0,           0,           0,\n",
              "                  0,           0,           0,           0,           0,           0,           0,           0,           0,           0,           0,           0,           0,           0,           0,           0,           0,           0,           0,           0,           0,           0,           0,\n",
              "                  0,           0,           0,           0,           0,           0,           0,           0,           0,           0,           0,           0,           0,           0,           0,           0,           0,           0,           0,           0,           0,           0,           0,\n",
              "                  0,           0,           0,           0,           0,           0,           0,           0,           0,           0,           0,           0,           0,           0,           0,           0,           0,           0,           0,           0,           0,           0,           0,\n",
              "                  0,           0,           0,           0,           0,           0,           0,           0,           0,           0,           0,           0,           0,           0,           0,           0,           0,           0,           0,           0,           0,           0,           0,\n",
              "                  0,           0,           0,           0,           0,           0,           0,           0,           0,           0,           0,           0,           0,           0,           0,           0,           0,           0,           0,           0,           0,           0,           0,\n",
              "                  0,           0,           0,           0,           0,           0,           0,           0,           0,           0,           0,           0,           0,           0,           0,           0,           0,           0,           0,           0,           0,           0,           0,\n",
              "                  0,           0,           0,           0,           0,           0,           0,           0,           0,           0,           0,           0,           0,           0,           0,           0,           0,           0,           0,           0,           0,           0,           0,\n",
              "                  0,           0,           0,           0,           0,           0,           0,           0,           0,           0,           0,           0,           0,           0,           0,           0,           0,           0,           0,           0,           0,           0,           0,\n",
              "                  0,           0,           0,           0,           0,           0,           0,           0,           0,           0,           0]]), 'Confidence', 'Recall']]\n",
              "fitness: 0.35087781436164556\n",
              "keys: ['metrics/precision(B)', 'metrics/recall(B)', 'metrics/mAP50(B)', 'metrics/mAP50-95(B)']\n",
              "maps: array([    0.30513])\n",
              "names: {0: 'Car'}\n",
              "plot: True\n",
              "results_dict: {'metrics/precision(B)': 0.754365838943448, 'metrics/recall(B)': 0.7699846028439453, 'metrics/mAP50(B)': 0.7625686346484533, 'metrics/mAP50-95(B)': 0.3051343898853336, 'fitness': 0.35087781436164556}\n",
              "save_dir: PosixPath('runs/detect/train')\n",
              "speed: {'preprocess': 0.08800699979634097, 'inference': 1.0534379353111345, 'loss': 0.0003760241484746752, 'postprocess': 0.5494648331604451}\n",
              "task: 'detect'"
            ]
          },
          "metadata": {},
          "execution_count": 14
        }
      ],
      "source": [
        "root = \"/content\"\n",
        "# from scratch\n",
        "!yolo task=detect mode=train model=yolov8m.pt data={root}/data.yaml epochs=30 imgsz=512 mosaic=0.0 flipud=0.5 scale=0.0\n",
        "# from pretrained model\n",
        "# !yolo task=detect mode=train model={root}/last.pt data={root}/data.yaml epochs=20 imgsz=512 mosaic=0.0 flipud=0.5 scale=0.0\n",
        "model = YOLO(f'{root}/last.pt')\n",
        "model.train(resume=True, epochs=20)"
      ]
    },
    {
      "cell_type": "code",
      "execution_count": null,
      "metadata": {
        "id": "nrA0ZieEccbA"
      },
      "outputs": [],
      "source": [
        "# download the files"
      ]
    },
    {
      "cell_type": "code",
      "execution_count": 15,
      "metadata": {
        "colab": {
          "base_uri": "https://localhost:8080/",
          "height": 34
        },
        "id": "14UktiZKucnP",
        "outputId": "2259d4b9-c669-454d-b2ff-275740fdc1a7"
      },
      "outputs": [
        {
          "output_type": "display_data",
          "data": {
            "text/plain": [
              "<IPython.core.display.Javascript object>"
            ],
            "application/javascript": [
              "\n",
              "    async function download(id, filename, size) {\n",
              "      if (!google.colab.kernel.accessAllowed) {\n",
              "        return;\n",
              "      }\n",
              "      const div = document.createElement('div');\n",
              "      const label = document.createElement('label');\n",
              "      label.textContent = `Downloading \"${filename}\": `;\n",
              "      div.appendChild(label);\n",
              "      const progress = document.createElement('progress');\n",
              "      progress.max = size;\n",
              "      div.appendChild(progress);\n",
              "      document.body.appendChild(div);\n",
              "\n",
              "      const buffers = [];\n",
              "      let downloaded = 0;\n",
              "\n",
              "      const channel = await google.colab.kernel.comms.open(id);\n",
              "      // Send a message to notify the kernel that we're ready.\n",
              "      channel.send({})\n",
              "\n",
              "      for await (const message of channel.messages) {\n",
              "        // Send a message to notify the kernel that we're ready.\n",
              "        channel.send({})\n",
              "        if (message.buffers) {\n",
              "          for (const buffer of message.buffers) {\n",
              "            buffers.push(buffer);\n",
              "            downloaded += buffer.byteLength;\n",
              "            progress.value = downloaded;\n",
              "          }\n",
              "        }\n",
              "      }\n",
              "      const blob = new Blob(buffers, {type: 'application/binary'});\n",
              "      const a = document.createElement('a');\n",
              "      a.href = window.URL.createObjectURL(blob);\n",
              "      a.download = filename;\n",
              "      div.appendChild(a);\n",
              "      a.click();\n",
              "      div.remove();\n",
              "    }\n",
              "  "
            ]
          },
          "metadata": {}
        },
        {
          "output_type": "display_data",
          "data": {
            "text/plain": [
              "<IPython.core.display.Javascript object>"
            ],
            "application/javascript": [
              "download(\"download_0b4aaf38-7960-4840-9450-da421dc33418\", \"runs.zip\", 104030956)"
            ]
          },
          "metadata": {}
        }
      ],
      "source": [
        "import shutil\n",
        "\n",
        "# Zip the folder\n",
        "shutil.make_archive('runs', 'zip', 'runs')\n",
        "\n",
        "from google.colab import files\n",
        "\n",
        "# Download the zip file\n",
        "files.download('runs.zip')"
      ]
    },
    {
      "cell_type": "code",
      "execution_count": 18,
      "metadata": {
        "id": "0lodo8O-ueHB",
        "colab": {
          "base_uri": "https://localhost:8080/"
        },
        "outputId": "b1ab65ef-92ec-4dce-d4f4-d793fce6e43a"
      },
      "outputs": [
        {
          "output_type": "stream",
          "name": "stdout",
          "text": [
            "Ultralytics 8.3.53 🚀 Python-3.10.12 torch-2.5.1+cu121 CUDA:0 (NVIDIA A100-SXM4-40GB, 40514MiB)\n",
            "\u001b[34m\u001b[1mengine/trainer: \u001b[0mtask=detect, mode=train, model=/content/runs/detect/train/weights/last.pt, data=/content/data.yaml, epochs=10, time=None, patience=100, batch=16, imgsz=512, save=True, save_period=-1, cache=False, device=None, workers=8, project=None, name=train4, exist_ok=False, pretrained=True, optimizer=auto, verbose=True, seed=0, deterministic=True, single_cls=False, rect=False, cos_lr=False, close_mosaic=10, resume=False, amp=True, fraction=1.0, profile=False, freeze=None, multi_scale=False, overlap_mask=True, mask_ratio=4, dropout=0.0, val=True, split=val, save_json=False, save_hybrid=False, conf=None, iou=0.7, max_det=300, half=False, dnn=False, plots=True, source=None, vid_stride=1, stream_buffer=False, visualize=False, augment=False, agnostic_nms=False, classes=None, retina_masks=False, embed=None, show=False, save_frames=False, save_txt=False, save_conf=False, save_crop=False, show_labels=True, show_conf=True, show_boxes=True, line_width=None, format=torchscript, keras=False, optimize=False, int8=False, dynamic=False, simplify=True, opset=None, workspace=None, nms=False, lr0=0.01, lrf=0.01, momentum=0.937, weight_decay=0.0005, warmup_epochs=3.0, warmup_momentum=0.8, warmup_bias_lr=0.1, box=7.5, cls=0.5, dfl=1.5, pose=12.0, kobj=1.0, nbs=64, hsv_h=0.015, hsv_s=0.7, hsv_v=0.4, degrees=0.0, translate=0.1, scale=0.0, shear=0.0, perspective=0.0, flipud=0.5, fliplr=0.5, bgr=0.0, mosaic=0.0, mixup=0.0, copy_paste=0.0, copy_paste_mode=flip, auto_augment=randaugment, erasing=0.4, crop_fraction=1.0, cfg=None, tracker=botsort.yaml, save_dir=runs/detect/train4\n",
            "\n",
            "                   from  n    params  module                                       arguments                     \n",
            "  0                  -1  1      1392  ultralytics.nn.modules.conv.Conv             [3, 48, 3, 2]                 \n",
            "  1                  -1  1     41664  ultralytics.nn.modules.conv.Conv             [48, 96, 3, 2]                \n",
            "  2                  -1  2    111360  ultralytics.nn.modules.block.C2f             [96, 96, 2, True]             \n",
            "  3                  -1  1    166272  ultralytics.nn.modules.conv.Conv             [96, 192, 3, 2]               \n",
            "  4                  -1  4    813312  ultralytics.nn.modules.block.C2f             [192, 192, 4, True]           \n",
            "  5                  -1  1    664320  ultralytics.nn.modules.conv.Conv             [192, 384, 3, 2]              \n",
            "  6                  -1  4   3248640  ultralytics.nn.modules.block.C2f             [384, 384, 4, True]           \n",
            "  7                  -1  1   1991808  ultralytics.nn.modules.conv.Conv             [384, 576, 3, 2]              \n",
            "  8                  -1  2   3985920  ultralytics.nn.modules.block.C2f             [576, 576, 2, True]           \n",
            "  9                  -1  1    831168  ultralytics.nn.modules.block.SPPF            [576, 576, 5]                 \n",
            " 10                  -1  1         0  torch.nn.modules.upsampling.Upsample         [None, 2, 'nearest']          \n",
            " 11             [-1, 6]  1         0  ultralytics.nn.modules.conv.Concat           [1]                           \n",
            " 12                  -1  2   1993728  ultralytics.nn.modules.block.C2f             [960, 384, 2]                 \n",
            " 13                  -1  1         0  torch.nn.modules.upsampling.Upsample         [None, 2, 'nearest']          \n",
            " 14             [-1, 4]  1         0  ultralytics.nn.modules.conv.Concat           [1]                           \n",
            " 15                  -1  2    517632  ultralytics.nn.modules.block.C2f             [576, 192, 2]                 \n",
            " 16                  -1  1    332160  ultralytics.nn.modules.conv.Conv             [192, 192, 3, 2]              \n",
            " 17            [-1, 12]  1         0  ultralytics.nn.modules.conv.Concat           [1]                           \n",
            " 18                  -1  2   1846272  ultralytics.nn.modules.block.C2f             [576, 384, 2]                 \n",
            " 19                  -1  1   1327872  ultralytics.nn.modules.conv.Conv             [384, 384, 3, 2]              \n",
            " 20             [-1, 9]  1         0  ultralytics.nn.modules.conv.Concat           [1]                           \n",
            " 21                  -1  2   4207104  ultralytics.nn.modules.block.C2f             [960, 576, 2]                 \n",
            " 22        [15, 18, 21]  1   3776275  ultralytics.nn.modules.head.Detect           [1, [192, 384, 576]]          \n",
            "Model summary: 295 layers, 25,856,899 parameters, 25,856,883 gradients, 79.1 GFLOPs\n",
            "\n",
            "Transferred 475/475 items from pretrained weights\n",
            "\u001b[34m\u001b[1mTensorBoard: \u001b[0mStart with 'tensorboard --logdir runs/detect/train4', view at http://localhost:6006/\n",
            "Freezing layer 'model.22.dfl.conv.weight'\n",
            "\u001b[34m\u001b[1mAMP: \u001b[0mrunning Automatic Mixed Precision (AMP) checks...\n",
            "\u001b[34m\u001b[1mAMP: \u001b[0mchecks passed ✅\n",
            "\u001b[34m\u001b[1mtrain: \u001b[0mScanning /content/tif_images/train/labels.cache... 27299 images, 18627 backgrounds, 0 corrupt: 100% 27299/27299 [00:00<?, ?it/s]\n",
            "\u001b[34m\u001b[1mtrain: \u001b[0mWARNING ⚠️ /content/tif_images/train/images/1529_448_896.tif: 1 duplicate labels removed\n",
            "\u001b[34m\u001b[1mtrain: \u001b[0mWARNING ⚠️ /content/tif_images/train/images/18_0_0.tif: 1 duplicate labels removed\n",
            "\u001b[34m\u001b[1mtrain: \u001b[0mWARNING ⚠️ /content/tif_images/train/images/217_2688_2240.tif: 1 duplicate labels removed\n",
            "\u001b[34m\u001b[1mtrain: \u001b[0mWARNING ⚠️ /content/tif_images/train/images/252_3136_1792.tif: 1 duplicate labels removed\n",
            "\u001b[34m\u001b[1mtrain: \u001b[0mWARNING ⚠️ /content/tif_images/train/images/562_0_448.tif: 1 duplicate labels removed\n",
            "/usr/local/lib/python3.10/dist-packages/albumentations/__init__.py:24: UserWarning: A new version of Albumentations is available: 1.4.23 (you have 1.4.20). Upgrade using: pip install -U albumentations. To disable automatic update checks, set the environment variable NO_ALBUMENTATIONS_UPDATE to 1.\n",
            "  check_for_updates()\n",
            "\u001b[34m\u001b[1malbumentations: \u001b[0mBlur(p=0.01, blur_limit=(3, 7)), MedianBlur(p=0.01, blur_limit=(3, 7)), ToGray(p=0.01, num_output_channels=3, method='weighted_average'), CLAHE(p=0.01, clip_limit=(1.0, 4.0), tile_grid_size=(8, 8))\n",
            "\u001b[34m\u001b[1mval: \u001b[0mScanning /content/tif_images/val/labels.cache... 6830 images, 4326 backgrounds, 0 corrupt: 100% 6830/6830 [00:00<?, ?it/s]\n",
            "\u001b[34m\u001b[1mval: \u001b[0mWARNING ⚠️ /content/tif_images/val/images/600_896_1344.tif: 1 duplicate labels removed\n",
            "\u001b[34m\u001b[1mval: \u001b[0mWARNING ⚠️ /content/tif_images/val/images/600_896_1792.tif: 1 duplicate labels removed\n",
            "Plotting labels to runs/detect/train4/labels.jpg... \n",
            "\u001b[34m\u001b[1moptimizer:\u001b[0m 'optimizer=auto' found, ignoring 'lr0=0.01' and 'momentum=0.937' and determining best 'optimizer', 'lr0' and 'momentum' automatically... \n",
            "\u001b[34m\u001b[1moptimizer:\u001b[0m AdamW(lr=0.002, momentum=0.9) with parameter groups 77 weight(decay=0.0), 84 weight(decay=0.0005), 83 bias(decay=0.0)\n",
            "\u001b[34m\u001b[1mTensorBoard: \u001b[0mmodel graph visualization added ✅\n",
            "Image sizes 512 train, 512 val\n",
            "Using 8 dataloader workers\n",
            "Logging results to \u001b[1mruns/detect/train4\u001b[0m\n",
            "Starting training for 10 epochs...\n",
            "Closing dataloader mosaic\n",
            "\u001b[34m\u001b[1malbumentations: \u001b[0mBlur(p=0.01, blur_limit=(3, 7)), MedianBlur(p=0.01, blur_limit=(3, 7)), ToGray(p=0.01, num_output_channels=3, method='weighted_average'), CLAHE(p=0.01, clip_limit=(1.0, 4.0), tile_grid_size=(8, 8))\n",
            "\n",
            "      Epoch    GPU_mem   box_loss   cls_loss   dfl_loss  Instances       Size\n",
            "       1/10      9.16G      2.146       1.18      0.914         23        512: 100% 1707/1707 [03:13<00:00,  8.82it/s]\n",
            "                 Class     Images  Instances      Box(P          R      mAP50  mAP50-95): 100% 214/214 [00:22<00:00,  9.58it/s]\n",
            "                   all       6830      55205      0.726       0.74      0.726      0.274\n",
            "\n",
            "      Epoch    GPU_mem   box_loss   cls_loss   dfl_loss  Instances       Size\n",
            "       2/10      9.04G      2.176      1.205     0.9183         13        512: 100% 1707/1707 [02:58<00:00,  9.55it/s]\n",
            "                 Class     Images  Instances      Box(P          R      mAP50  mAP50-95): 100% 214/214 [00:22<00:00,  9.47it/s]\n",
            "                   all       6830      55205      0.735      0.734      0.727      0.279\n",
            "\n",
            "      Epoch    GPU_mem   box_loss   cls_loss   dfl_loss  Instances       Size\n",
            "       3/10      8.26G       2.18      1.245     0.9174         27        512: 100% 1707/1707 [02:55<00:00,  9.74it/s]\n",
            "                 Class     Images  Instances      Box(P          R      mAP50  mAP50-95): 100% 214/214 [00:22<00:00,  9.66it/s]\n",
            "                   all       6830      55205      0.729      0.727      0.721      0.277\n",
            "\n",
            "      Epoch    GPU_mem   box_loss   cls_loss   dfl_loss  Instances       Size\n",
            "       4/10      10.7G      2.185      1.246     0.9221         13        512: 100% 1707/1707 [02:52<00:00,  9.89it/s]\n",
            "                 Class     Images  Instances      Box(P          R      mAP50  mAP50-95): 100% 214/214 [00:21<00:00,  9.76it/s]\n",
            "                   all       6830      55205      0.732      0.737      0.726      0.276\n",
            "\n",
            "      Epoch    GPU_mem   box_loss   cls_loss   dfl_loss  Instances       Size\n",
            "       5/10      10.5G      2.167      1.199     0.9165          0        512: 100% 1707/1707 [02:53<00:00,  9.83it/s]\n",
            "                 Class     Images  Instances      Box(P          R      mAP50  mAP50-95): 100% 214/214 [00:22<00:00,  9.54it/s]\n",
            "                   all       6830      55205      0.731      0.729      0.717      0.265\n",
            "\n",
            "      Epoch    GPU_mem   box_loss   cls_loss   dfl_loss  Instances       Size\n",
            "       6/10      9.26G       2.16      1.183     0.9172         45        512: 100% 1707/1707 [02:51<00:00,  9.93it/s]\n",
            "                 Class     Images  Instances      Box(P          R      mAP50  mAP50-95): 100% 214/214 [00:22<00:00,  9.68it/s]\n",
            "                   all       6830      55205      0.739      0.744      0.738      0.286\n",
            "\n",
            "      Epoch    GPU_mem   box_loss   cls_loss   dfl_loss  Instances       Size\n",
            "       7/10      10.4G      2.148      1.169     0.9178         10        512: 100% 1707/1707 [02:52<00:00,  9.87it/s]\n",
            "                 Class     Images  Instances      Box(P          R      mAP50  mAP50-95): 100% 214/214 [00:21<00:00,  9.77it/s]\n",
            "                   all       6830      55205      0.742       0.74      0.739       0.28\n",
            "\n",
            "      Epoch    GPU_mem   box_loss   cls_loss   dfl_loss  Instances       Size\n",
            "       8/10      7.63G      2.131      1.153     0.9108          0        512: 100% 1707/1707 [02:51<00:00,  9.94it/s]\n",
            "                 Class     Images  Instances      Box(P          R      mAP50  mAP50-95): 100% 214/214 [00:21<00:00,  9.82it/s]\n",
            "                   all       6830      55205      0.742      0.761      0.749      0.292\n",
            "\n",
            "      Epoch    GPU_mem   box_loss   cls_loss   dfl_loss  Instances       Size\n",
            "       9/10       9.1G       2.12      1.145     0.9119         12        512: 100% 1707/1707 [02:52<00:00,  9.90it/s]\n",
            "                 Class     Images  Instances      Box(P          R      mAP50  mAP50-95): 100% 214/214 [00:21<00:00,  9.82it/s]\n",
            "                   all       6830      55205       0.74      0.762      0.746      0.288\n",
            "\n",
            "      Epoch    GPU_mem   box_loss   cls_loss   dfl_loss  Instances       Size\n",
            "      10/10      11.1G      2.108      1.131     0.9097          1        512: 100% 1707/1707 [02:52<00:00,  9.92it/s]\n",
            "                 Class     Images  Instances      Box(P          R      mAP50  mAP50-95): 100% 214/214 [00:21<00:00,  9.87it/s]\n",
            "                   all       6830      55205      0.746      0.763      0.753      0.293\n",
            "\n",
            "10 epochs completed in 0.554 hours.\n",
            "Optimizer stripped from runs/detect/train4/weights/last.pt, 52.0MB\n",
            "Optimizer stripped from runs/detect/train4/weights/best.pt, 52.0MB\n",
            "\n",
            "Validating runs/detect/train4/weights/best.pt...\n",
            "Ultralytics 8.3.53 🚀 Python-3.10.12 torch-2.5.1+cu121 CUDA:0 (NVIDIA A100-SXM4-40GB, 40514MiB)\n",
            "Model summary (fused): 218 layers, 25,840,339 parameters, 0 gradients, 78.7 GFLOPs\n",
            "                 Class     Images  Instances      Box(P          R      mAP50  mAP50-95): 100% 214/214 [00:28<00:00,  7.59it/s]\n",
            "                   all       6830      55205      0.746      0.763      0.753      0.293\n",
            "Speed: 0.1ms preprocess, 1.1ms inference, 0.0ms loss, 0.5ms postprocess per image\n",
            "Results saved to \u001b[1mruns/detect/train4\u001b[0m\n",
            "💡 Learn more at https://docs.ultralytics.com/modes/train\n"
          ]
        }
      ],
      "source": [
        "!yolo task=detect mode=train model=/content/runs/detect/train/weights/last.pt data={root}/data.yaml epochs=10 imgsz=512 mosaic=0.0 flipud=0.5 scale=0.0"
      ]
    },
    {
      "cell_type": "code",
      "source": [
        "!yolo task=detect mode=train model=/content/runs/detect/train4/weights/last.pt data={root}/data.yaml epochs=10 imgsz=512 mosaic=0.0 flipud=0.5 scale=0.0"
      ],
      "metadata": {
        "colab": {
          "base_uri": "https://localhost:8080/"
        },
        "id": "TncD6vTu3LMz",
        "outputId": "2d089525-5546-448e-957a-bd2f3eff380e"
      },
      "execution_count": 19,
      "outputs": [
        {
          "output_type": "stream",
          "name": "stdout",
          "text": [
            "Ultralytics 8.3.53 🚀 Python-3.10.12 torch-2.5.1+cu121 CUDA:0 (NVIDIA A100-SXM4-40GB, 40514MiB)\n",
            "\u001b[34m\u001b[1mengine/trainer: \u001b[0mtask=detect, mode=train, model=/content/runs/detect/train4/weights/last.pt, data=/content/data.yaml, epochs=10, time=None, patience=100, batch=16, imgsz=512, save=True, save_period=-1, cache=False, device=None, workers=8, project=None, name=train5, exist_ok=False, pretrained=True, optimizer=auto, verbose=True, seed=0, deterministic=True, single_cls=False, rect=False, cos_lr=False, close_mosaic=10, resume=False, amp=True, fraction=1.0, profile=False, freeze=None, multi_scale=False, overlap_mask=True, mask_ratio=4, dropout=0.0, val=True, split=val, save_json=False, save_hybrid=False, conf=None, iou=0.7, max_det=300, half=False, dnn=False, plots=True, source=None, vid_stride=1, stream_buffer=False, visualize=False, augment=False, agnostic_nms=False, classes=None, retina_masks=False, embed=None, show=False, save_frames=False, save_txt=False, save_conf=False, save_crop=False, show_labels=True, show_conf=True, show_boxes=True, line_width=None, format=torchscript, keras=False, optimize=False, int8=False, dynamic=False, simplify=True, opset=None, workspace=None, nms=False, lr0=0.01, lrf=0.01, momentum=0.937, weight_decay=0.0005, warmup_epochs=3.0, warmup_momentum=0.8, warmup_bias_lr=0.1, box=7.5, cls=0.5, dfl=1.5, pose=12.0, kobj=1.0, nbs=64, hsv_h=0.015, hsv_s=0.7, hsv_v=0.4, degrees=0.0, translate=0.1, scale=0.0, shear=0.0, perspective=0.0, flipud=0.5, fliplr=0.5, bgr=0.0, mosaic=0.0, mixup=0.0, copy_paste=0.0, copy_paste_mode=flip, auto_augment=randaugment, erasing=0.4, crop_fraction=1.0, cfg=None, tracker=botsort.yaml, save_dir=runs/detect/train5\n",
            "\n",
            "                   from  n    params  module                                       arguments                     \n",
            "  0                  -1  1      1392  ultralytics.nn.modules.conv.Conv             [3, 48, 3, 2]                 \n",
            "  1                  -1  1     41664  ultralytics.nn.modules.conv.Conv             [48, 96, 3, 2]                \n",
            "  2                  -1  2    111360  ultralytics.nn.modules.block.C2f             [96, 96, 2, True]             \n",
            "  3                  -1  1    166272  ultralytics.nn.modules.conv.Conv             [96, 192, 3, 2]               \n",
            "  4                  -1  4    813312  ultralytics.nn.modules.block.C2f             [192, 192, 4, True]           \n",
            "  5                  -1  1    664320  ultralytics.nn.modules.conv.Conv             [192, 384, 3, 2]              \n",
            "  6                  -1  4   3248640  ultralytics.nn.modules.block.C2f             [384, 384, 4, True]           \n",
            "  7                  -1  1   1991808  ultralytics.nn.modules.conv.Conv             [384, 576, 3, 2]              \n",
            "  8                  -1  2   3985920  ultralytics.nn.modules.block.C2f             [576, 576, 2, True]           \n",
            "  9                  -1  1    831168  ultralytics.nn.modules.block.SPPF            [576, 576, 5]                 \n",
            " 10                  -1  1         0  torch.nn.modules.upsampling.Upsample         [None, 2, 'nearest']          \n",
            " 11             [-1, 6]  1         0  ultralytics.nn.modules.conv.Concat           [1]                           \n",
            " 12                  -1  2   1993728  ultralytics.nn.modules.block.C2f             [960, 384, 2]                 \n",
            " 13                  -1  1         0  torch.nn.modules.upsampling.Upsample         [None, 2, 'nearest']          \n",
            " 14             [-1, 4]  1         0  ultralytics.nn.modules.conv.Concat           [1]                           \n",
            " 15                  -1  2    517632  ultralytics.nn.modules.block.C2f             [576, 192, 2]                 \n",
            " 16                  -1  1    332160  ultralytics.nn.modules.conv.Conv             [192, 192, 3, 2]              \n",
            " 17            [-1, 12]  1         0  ultralytics.nn.modules.conv.Concat           [1]                           \n",
            " 18                  -1  2   1846272  ultralytics.nn.modules.block.C2f             [576, 384, 2]                 \n",
            " 19                  -1  1   1327872  ultralytics.nn.modules.conv.Conv             [384, 384, 3, 2]              \n",
            " 20             [-1, 9]  1         0  ultralytics.nn.modules.conv.Concat           [1]                           \n",
            " 21                  -1  2   4207104  ultralytics.nn.modules.block.C2f             [960, 576, 2]                 \n",
            " 22        [15, 18, 21]  1   3776275  ultralytics.nn.modules.head.Detect           [1, [192, 384, 576]]          \n",
            "Model summary: 295 layers, 25,856,899 parameters, 25,856,883 gradients, 79.1 GFLOPs\n",
            "\n",
            "Transferred 475/475 items from pretrained weights\n",
            "\u001b[34m\u001b[1mTensorBoard: \u001b[0mStart with 'tensorboard --logdir runs/detect/train5', view at http://localhost:6006/\n",
            "Freezing layer 'model.22.dfl.conv.weight'\n",
            "\u001b[34m\u001b[1mAMP: \u001b[0mrunning Automatic Mixed Precision (AMP) checks...\n",
            "\u001b[34m\u001b[1mAMP: \u001b[0mchecks passed ✅\n",
            "\u001b[34m\u001b[1mtrain: \u001b[0mScanning /content/tif_images/train/labels.cache... 27299 images, 18627 backgrounds, 0 corrupt: 100% 27299/27299 [00:00<?, ?it/s]\n",
            "\u001b[34m\u001b[1mtrain: \u001b[0mWARNING ⚠️ /content/tif_images/train/images/1529_448_896.tif: 1 duplicate labels removed\n",
            "\u001b[34m\u001b[1mtrain: \u001b[0mWARNING ⚠️ /content/tif_images/train/images/18_0_0.tif: 1 duplicate labels removed\n",
            "\u001b[34m\u001b[1mtrain: \u001b[0mWARNING ⚠️ /content/tif_images/train/images/217_2688_2240.tif: 1 duplicate labels removed\n",
            "\u001b[34m\u001b[1mtrain: \u001b[0mWARNING ⚠️ /content/tif_images/train/images/252_3136_1792.tif: 1 duplicate labels removed\n",
            "\u001b[34m\u001b[1mtrain: \u001b[0mWARNING ⚠️ /content/tif_images/train/images/562_0_448.tif: 1 duplicate labels removed\n",
            "/usr/local/lib/python3.10/dist-packages/albumentations/__init__.py:24: UserWarning: A new version of Albumentations is available: 1.4.23 (you have 1.4.20). Upgrade using: pip install -U albumentations. To disable automatic update checks, set the environment variable NO_ALBUMENTATIONS_UPDATE to 1.\n",
            "  check_for_updates()\n",
            "\u001b[34m\u001b[1malbumentations: \u001b[0mBlur(p=0.01, blur_limit=(3, 7)), MedianBlur(p=0.01, blur_limit=(3, 7)), ToGray(p=0.01, num_output_channels=3, method='weighted_average'), CLAHE(p=0.01, clip_limit=(1.0, 4.0), tile_grid_size=(8, 8))\n",
            "\u001b[34m\u001b[1mval: \u001b[0mScanning /content/tif_images/val/labels.cache... 6830 images, 4326 backgrounds, 0 corrupt: 100% 6830/6830 [00:00<?, ?it/s]\n",
            "\u001b[34m\u001b[1mval: \u001b[0mWARNING ⚠️ /content/tif_images/val/images/600_896_1344.tif: 1 duplicate labels removed\n",
            "\u001b[34m\u001b[1mval: \u001b[0mWARNING ⚠️ /content/tif_images/val/images/600_896_1792.tif: 1 duplicate labels removed\n",
            "Plotting labels to runs/detect/train5/labels.jpg... \n",
            "\u001b[34m\u001b[1moptimizer:\u001b[0m 'optimizer=auto' found, ignoring 'lr0=0.01' and 'momentum=0.937' and determining best 'optimizer', 'lr0' and 'momentum' automatically... \n",
            "\u001b[34m\u001b[1moptimizer:\u001b[0m AdamW(lr=0.002, momentum=0.9) with parameter groups 77 weight(decay=0.0), 84 weight(decay=0.0005), 83 bias(decay=0.0)\n",
            "\u001b[34m\u001b[1mTensorBoard: \u001b[0mmodel graph visualization added ✅\n",
            "Image sizes 512 train, 512 val\n",
            "Using 8 dataloader workers\n",
            "Logging results to \u001b[1mruns/detect/train5\u001b[0m\n",
            "Starting training for 10 epochs...\n",
            "Closing dataloader mosaic\n",
            "\u001b[34m\u001b[1malbumentations: \u001b[0mBlur(p=0.01, blur_limit=(3, 7)), MedianBlur(p=0.01, blur_limit=(3, 7)), ToGray(p=0.01, num_output_channels=3, method='weighted_average'), CLAHE(p=0.01, clip_limit=(1.0, 4.0), tile_grid_size=(8, 8))\n",
            "\n",
            "      Epoch    GPU_mem   box_loss   cls_loss   dfl_loss  Instances       Size\n",
            "       1/10      9.16G      2.101      1.136     0.9083         23        512: 100% 1707/1707 [03:12<00:00,  8.88it/s]\n",
            "                 Class     Images  Instances      Box(P          R      mAP50  mAP50-95): 100% 214/214 [00:22<00:00,  9.60it/s]\n",
            "                   all       6830      55205      0.735       0.75      0.738      0.282\n",
            "\n",
            "      Epoch    GPU_mem   box_loss   cls_loss   dfl_loss  Instances       Size\n",
            "       2/10      9.04G       2.12      1.141     0.9107         13        512: 100% 1707/1707 [02:57<00:00,  9.60it/s]\n",
            "                 Class     Images  Instances      Box(P          R      mAP50  mAP50-95): 100% 214/214 [00:21<00:00,  9.88it/s]\n",
            "                   all       6830      55205      0.734      0.751      0.735       0.28\n",
            "\n",
            "      Epoch    GPU_mem   box_loss   cls_loss   dfl_loss  Instances       Size\n",
            "       3/10      8.26G      2.123      1.174     0.9092         27        512: 100% 1707/1707 [02:52<00:00,  9.89it/s]\n",
            "                 Class     Images  Instances      Box(P          R      mAP50  mAP50-95): 100% 214/214 [00:21<00:00,  9.90it/s]\n",
            "                   all       6830      55205      0.731      0.742      0.729      0.278\n",
            "\n",
            "      Epoch    GPU_mem   box_loss   cls_loss   dfl_loss  Instances       Size\n",
            "       4/10      10.7G      2.132      1.182     0.9151         13        512: 100% 1707/1707 [02:50<00:00, 10.03it/s]\n",
            "                 Class     Images  Instances      Box(P          R      mAP50  mAP50-95): 100% 214/214 [00:21<00:00,  9.88it/s]\n",
            "                   all       6830      55205      0.736      0.748      0.735      0.281\n",
            "\n",
            "      Epoch    GPU_mem   box_loss   cls_loss   dfl_loss  Instances       Size\n",
            "       5/10      10.5G      2.116      1.147       0.91          0        512: 100% 1707/1707 [02:50<00:00, 10.03it/s]\n",
            "                 Class     Images  Instances      Box(P          R      mAP50  mAP50-95): 100% 214/214 [00:22<00:00,  9.52it/s]\n",
            "                   all       6830      55205      0.735      0.743      0.726      0.271\n",
            "\n",
            "      Epoch    GPU_mem   box_loss   cls_loss   dfl_loss  Instances       Size\n",
            "       6/10      9.25G      2.115      1.133     0.9111         45        512: 100% 1707/1707 [02:49<00:00, 10.05it/s]\n",
            "                 Class     Images  Instances      Box(P          R      mAP50  mAP50-95): 100% 214/214 [00:21<00:00,  9.88it/s]\n",
            "                   all       6830      55205       0.74      0.755      0.744      0.288\n",
            "\n",
            "      Epoch    GPU_mem   box_loss   cls_loss   dfl_loss  Instances       Size\n",
            "       7/10      10.4G      2.107      1.124     0.9125         10        512: 100% 1707/1707 [02:51<00:00,  9.98it/s]\n",
            "                 Class     Images  Instances      Box(P          R      mAP50  mAP50-95): 100% 214/214 [00:21<00:00,  9.75it/s]\n",
            "                   all       6830      55205      0.749      0.749      0.745      0.286\n",
            "\n",
            "      Epoch    GPU_mem   box_loss   cls_loss   dfl_loss  Instances       Size\n",
            "       8/10      7.63G      2.095      1.117     0.9064          0        512: 100% 1707/1707 [02:49<00:00, 10.04it/s]\n",
            "                 Class     Images  Instances      Box(P          R      mAP50  mAP50-95): 100% 214/214 [00:21<00:00,  9.88it/s]\n",
            "                   all       6830      55205      0.743      0.767      0.753      0.294\n",
            "\n",
            "      Epoch    GPU_mem   box_loss   cls_loss   dfl_loss  Instances       Size\n",
            "       9/10       9.1G      2.091      1.114     0.9082         12        512: 100% 1707/1707 [02:49<00:00, 10.08it/s]\n",
            "                 Class     Images  Instances      Box(P          R      mAP50  mAP50-95): 100% 214/214 [00:21<00:00,  9.81it/s]\n",
            "                   all       6830      55205      0.744      0.766       0.75       0.29\n",
            "\n",
            "      Epoch    GPU_mem   box_loss   cls_loss   dfl_loss  Instances       Size\n",
            "      10/10      11.1G      2.087      1.111     0.9073          1        512: 100% 1707/1707 [02:49<00:00, 10.04it/s]\n",
            "                 Class     Images  Instances      Box(P          R      mAP50  mAP50-95): 100% 214/214 [00:21<00:00,  9.90it/s]\n",
            "                   all       6830      55205      0.749      0.768      0.756      0.295\n",
            "\n",
            "10 epochs completed in 0.547 hours.\n",
            "Optimizer stripped from runs/detect/train5/weights/last.pt, 52.0MB\n",
            "Optimizer stripped from runs/detect/train5/weights/best.pt, 52.0MB\n",
            "\n",
            "Validating runs/detect/train5/weights/best.pt...\n",
            "Ultralytics 8.3.53 🚀 Python-3.10.12 torch-2.5.1+cu121 CUDA:0 (NVIDIA A100-SXM4-40GB, 40514MiB)\n",
            "Model summary (fused): 218 layers, 25,840,339 parameters, 0 gradients, 78.7 GFLOPs\n",
            "                 Class     Images  Instances      Box(P          R      mAP50  mAP50-95): 100% 214/214 [00:27<00:00,  7.74it/s]\n",
            "                   all       6830      55205      0.749      0.767      0.756      0.295\n",
            "Speed: 0.1ms preprocess, 1.1ms inference, 0.0ms loss, 0.5ms postprocess per image\n",
            "Results saved to \u001b[1mruns/detect/train5\u001b[0m\n",
            "💡 Learn more at https://docs.ultralytics.com/modes/train\n"
          ]
        }
      ]
    },
    {
      "cell_type": "code",
      "source": [],
      "metadata": {
        "id": "tm-Jh5xFEBWl"
      },
      "execution_count": null,
      "outputs": []
    }
  ],
  "metadata": {
    "accelerator": "GPU",
    "colab": {
      "gpuType": "A100",
      "machine_shape": "hm",
      "provenance": [],
      "mount_file_id": "1sLKBVIRjbSVMn8d_QnHfBE8Yddhx0WEE",
      "authorship_tag": "ABX9TyPO2DRWtvB0DcqE7Ff4oLoN"
    },
    "kernelspec": {
      "display_name": "Python 3",
      "name": "python3"
    },
    "language_info": {
      "name": "python"
    }
  },
  "nbformat": 4,
  "nbformat_minor": 0
}